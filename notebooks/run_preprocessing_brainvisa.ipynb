{
 "cells": [
  {
   "cell_type": "markdown",
   "metadata": {},
   "source": [
    "# Runs brainvisa preprocessing"
   ]
  },
  {
   "cell_type": "markdown",
   "metadata": {},
   "source": [
    "This notebook creates the whole brainvisa preprocessing pipeline to feed to deep learning algorithms.\n",
    "Note that you need brainvisa installed or to run the server using the brainvisa singularity."
   ]
  },
  {
   "cell_type": "markdown",
   "metadata": {},
   "source": [
    "# Imports"
   ]
  },
  {
   "cell_type": "markdown",
   "metadata": {},
   "source": [
    "General imports"
   ]
  },
  {
   "cell_type": "code",
   "execution_count": 1,
   "metadata": {},
   "outputs": [],
   "source": [
    "import sys\n",
    "import os\n",
    "from os.path import join\n",
    "import glob\n",
    "import json"
   ]
  },
  {
   "cell_type": "markdown",
   "metadata": {},
   "source": [
    "Deep_folding imports"
   ]
  },
  {
   "cell_type": "code",
   "execution_count": 2,
   "metadata": {},
   "outputs": [
    {
     "name": "stdout",
     "output_type": "stream",
     "text": [
      "/host/home/jc225751/Program/deep_folding/deep_folding/anatomist_tools\n",
      "/host/home/jc225751/Program/deep_folding/deep_folding/anatomist_tools\n",
      "/host/home/jc225751/Program/deep_folding/deep_folding/anatomist_tools\n"
     ]
    }
   ],
   "source": [
    "from deep_folding.anatomist_tools import transform\n",
    "from deep_folding.anatomist_tools import bounding_box\n",
    "from deep_folding.anatomist_tools import dataset_gen_pipe\n",
    "print((os.path.dirname(transform.__file__)))\n",
    "print((os.path.dirname(bounding_box.__file__)))\n",
    "print((os.path.dirname(dataset_gen_pipe.__file__)))"
   ]
  },
  {
   "cell_type": "markdown",
   "metadata": {},
   "source": [
    "Constants"
   ]
  },
  {
   "cell_type": "code",
   "execution_count": 3,
   "metadata": {},
   "outputs": [],
   "source": [
    "_ALL_SUBJECTS = -1"
   ]
  },
  {
   "cell_type": "markdown",
   "metadata": {},
   "source": [
    "# Creates useful functions"
   ]
  },
  {
   "cell_type": "code",
   "execution_count": 4,
   "metadata": {},
   "outputs": [],
   "source": [
    "def check_directory(directory_path):\n",
    "    \"\"\"Checks directory path and returns absolute path\"\"\"\n",
    "    directory_path = os.path.abspath(directory_path)\n",
    "    if os.path.isdir(directory_path):\n",
    "        print((directory_path + ' is a directory'))\n",
    "    else:\n",
    "        print((directory_path + ' does not exist or is not a directory.'))\n",
    "    return directory_path"
   ]
  },
  {
   "cell_type": "markdown",
   "metadata": {},
   "source": [
    "# Variables used by all sub-computations"
   ]
  },
  {
   "cell_type": "markdown",
   "metadata": {},
   "source": [
    "The following boolean variables decide which pprocessing to run:"
   ]
  },
  {
   "cell_type": "code",
   "execution_count": 5,
   "metadata": {},
   "outputs": [],
   "source": [
    "run_transform = False  # If set to True, it generates new transform files\n",
    "run_bbox = False  # If set to True, it generates new bounding boxes\n",
    "run_crop = True  # If set to True, it generates crops"
   ]
  },
  {
   "cell_type": "markdown",
   "metadata": {},
   "source": [
    "We now assign path names and other user-specific variables."
   ]
  },
  {
   "cell_type": "code",
   "execution_count": 6,
   "metadata": {},
   "outputs": [],
   "source": [
    "path_to_root = '/neurospin'  # Could be either /neuropsin, or /nfs/neurospin, for example"
   ]
  },
  {
   "cell_type": "markdown",
   "metadata": {},
   "source": [
    "The unsupervised source directory is where the unsupervised database lies. It contains the morphologist analysis subfolder ANALYSIS/3T_morphologist\n"
   ]
  },
  {
   "cell_type": "code",
   "execution_count": 7,
   "metadata": {},
   "outputs": [
    {
     "name": "stdout",
     "output_type": "stream",
     "text": [
      "/neurospin/hcp does not exist or is not a directory.\n"
     ]
    }
   ],
   "source": [
    "unsupervised_src_dir = check_directory(join(path_to_root, 'hcp'))"
   ]
  },
  {
   "cell_type": "markdown",
   "metadata": {},
   "source": [
    "The supervised source directories are where lies the database that has been manually labelled. It is a list of full pathes towards the manually labelled datasets."
   ]
  },
  {
   "cell_type": "code",
   "execution_count": 8,
   "metadata": {},
   "outputs": [
    {
     "name": "stdout",
     "output_type": "stream",
     "text": [
      "/neurospin/dico/data/bv_databases/human/pclean/all does not exist or is not a directory.\n"
     ]
    }
   ],
   "source": [
    "human_supervised_dir = join(path_to_root, 'dico/data/bv_databases/human')\n",
    "supervised_src_dir = [check_directory(join(human_supervised_dir, 'pclean/all'))\n",
    "                     ]\n",
    "path_to_graph = [\"t1mri/t1/default_analysis/folds/3.3/base2018_manual\"\n",
    "                 ]"
   ]
  },
  {
   "cell_type": "markdown",
   "metadata": {},
   "source": [
    "# Generates transform files"
   ]
  },
  {
   "cell_type": "markdown",
   "metadata": {},
   "source": [
    "### User variables"
   ]
  },
  {
   "cell_type": "markdown",
   "metadata": {},
   "source": [
    "The transform directory is where the transform files will be saved. It will be created afterwards if it does not exist"
   ]
  },
  {
   "cell_type": "code",
   "execution_count": 9,
   "metadata": {},
   "outputs": [
    {
     "name": "stdout",
     "output_type": "stream",
     "text": [
      "/neurospin/dico/deep_folding_data/data/transform does not exist or is not a directory.\n"
     ]
    }
   ],
   "source": [
    "transform_dir = check_directory(join(path_to_root, 'dico/deep_folding_data/data', 'transform'))"
   ]
  },
  {
   "cell_type": "markdown",
   "metadata": {},
   "source": [
    "### Generates transform files (actual program)"
   ]
  },
  {
   "cell_type": "code",
   "execution_count": 10,
   "metadata": {},
   "outputs": [
    {
     "name": "stdout",
     "output_type": "stream",
     "text": [
      "usage: transform.py [-h] [-s SRC_DIR] [-t TGT_DIR] [-n NB_SUBJECTS]\n",
      "\n",
      "Generates transformation files\n",
      "\n",
      "optional arguments:\n",
      "  -h, --help            show this help message and exit\n",
      "  -s SRC_DIR, --src_dir SRC_DIR\n",
      "                        Source directory where the MRI data lies. Default is :\n",
      "                        /neurospin/hcp\n",
      "  -t TGT_DIR, --tgt_dir TGT_DIR\n",
      "                        Target directory where to store the output\n",
      "                        transformation files. Default is :\n",
      "                        /neurospin/dico/deep_folding_data/test/transform\n",
      "  -n NB_SUBJECTS, --nb_subjects NB_SUBJECTS\n",
      "                        Number of subjects to take into account, or 'all'.0\n",
      "                        subject is allowed, for debug purpose.Default is : all\n"
     ]
    }
   ],
   "source": [
    "args = \"--help\"\n",
    "argv = args.split(' ')\n",
    "transform.main(argv)"
   ]
  },
  {
   "cell_type": "code",
   "execution_count": 11,
   "metadata": {},
   "outputs": [],
   "source": [
    "if run_transform:\n",
    "    transform.transform_to_spm(src_dir=unsupervised_src_dir, tgt_dir=transform_dir, number_subjects=_ALL_SUBJECTS)"
   ]
  },
  {
   "cell_type": "markdown",
   "metadata": {},
   "source": [
    "### Result analysis"
   ]
  },
  {
   "cell_type": "markdown",
   "metadata": {},
   "source": [
    "Prints the number of transform files as well as the content of the json file"
   ]
  },
  {
   "cell_type": "code",
   "execution_count": 12,
   "metadata": {},
   "outputs": [
    {
     "name": "stdout",
     "output_type": "stream",
     "text": [
      "Number of transform files :  0\n"
     ]
    }
   ],
   "source": [
    "transform_files = glob.glob(transform_dir + '/*.trm')\n",
    "print(\"Number of transform files : \", len(transform_files))"
   ]
  },
  {
   "cell_type": "code",
   "execution_count": 13,
   "metadata": {},
   "outputs": [
    {
     "ename": "FileNotFoundError",
     "evalue": "[Errno 2] No such file or directory: '/neurospin/dico/deep_folding_data/data/transform/transform.json'",
     "output_type": "error",
     "traceback": [
      "\u001b[0;31m---------------------------------------------------------------------------\u001b[0m",
      "\u001b[0;31mFileNotFoundError\u001b[0m                         Traceback (most recent call last)",
      "\u001b[0;32m<ipython-input-13-286bc34c3eda>\u001b[0m in \u001b[0;36m<module>\u001b[0;34m()\u001b[0m\n\u001b[1;32m      1\u001b[0m \u001b[0mtransform_json_file\u001b[0m \u001b[0;34m=\u001b[0m \u001b[0mtransform_dir\u001b[0m \u001b[0;34m+\u001b[0m \u001b[0;34m\"/transform.json\"\u001b[0m\u001b[0;34m\u001b[0m\u001b[0;34m\u001b[0m\u001b[0m\n\u001b[0;32m----> 2\u001b[0;31m \u001b[0mprint\u001b[0m\u001b[0;34m(\u001b[0m\u001b[0mopen\u001b[0m\u001b[0;34m(\u001b[0m\u001b[0mtransform_json_file\u001b[0m\u001b[0;34m,\u001b[0m \u001b[0;34m\"r\"\u001b[0m\u001b[0;34m)\u001b[0m\u001b[0;34m.\u001b[0m\u001b[0mread\u001b[0m\u001b[0;34m(\u001b[0m\u001b[0;34m)\u001b[0m\u001b[0;34m)\u001b[0m\u001b[0;34m\u001b[0m\u001b[0;34m\u001b[0m\u001b[0m\n\u001b[0m",
      "\u001b[0;31mFileNotFoundError\u001b[0m: [Errno 2] No such file or directory: '/neurospin/dico/deep_folding_data/data/transform/transform.json'"
     ]
    }
   ],
   "source": [
    "transform_json_file = transform_dir + \"/transform.json\"\n",
    "print(open(transform_json_file, \"r\").read())"
   ]
  },
  {
   "cell_type": "markdown",
   "metadata": {},
   "source": [
    "# Generates bounding boxes"
   ]
  },
  {
   "cell_type": "markdown",
   "metadata": {},
   "source": [
    "### User variables"
   ]
  },
  {
   "cell_type": "code",
   "execution_count": 14,
   "metadata": {},
   "outputs": [
    {
     "name": "stdout",
     "output_type": "stream",
     "text": [
      "/neurospin/dico/deep_folding_data/data/bbox does not exist or is not a directory.\n"
     ]
    }
   ],
   "source": [
    "bbox_dir = check_directory(join(path_to_root, 'dico/deep_folding_data/data', 'bbox'))"
   ]
  },
  {
   "cell_type": "markdown",
   "metadata": {},
   "source": [
    "Lists the sulci of the left side that we want to analyze:"
   ]
  },
  {
   "cell_type": "code",
   "execution_count": 15,
   "metadata": {},
   "outputs": [],
   "source": [
    "sulci_left = ['S.T.s.ter.asc.ant._left', 'S.T.s.ter.asc.post._left']"
   ]
  },
  {
   "cell_type": "markdown",
   "metadata": {},
   "source": [
    "Lists the sulci of the right side that we want to analyze:"
   ]
  },
  {
   "cell_type": "code",
   "execution_count": 16,
   "metadata": {},
   "outputs": [],
   "source": [
    "sulci_right = ['S.T.s.ter.asc.ant._right', 'S.T.s.ter.asc.post._right']"
   ]
  },
  {
   "cell_type": "code",
   "execution_count": 17,
   "metadata": {},
   "outputs": [],
   "source": [
    "image_normalized_spm = join(unsupervised_src_dir, \n",
    "                            'ANALYSIS/3T_morphologist/100206',\n",
    "                            't1mri/default_acquisition',\n",
    "                            'normalized_SPM_100206.nii')"
   ]
  },
  {
   "cell_type": "markdown",
   "metadata": {},
   "source": [
    "### Generates bounding boxes (actual program)"
   ]
  },
  {
   "cell_type": "code",
   "execution_count": 18,
   "metadata": {},
   "outputs": [
    {
     "name": "stdout",
     "output_type": "stream",
     "text": [
      "usage: bounding_box.py [-h] [-s SRC_DIR [SRC_DIR ...]] [-t TGT_DIR]\n",
      "                       [-u SULCUS] [-i SIDE] [-m IMAGE_NORMALIZED_SPM]\n",
      "                       [-p PATH_TO_GRAPH] [-n NB_SUBJECTS]\n",
      "\n",
      "Computes bounding box around the named sulcus\n",
      "\n",
      "optional arguments:\n",
      "  -h, --help            show this help message and exit\n",
      "  -s SRC_DIR [SRC_DIR ...], --src_dir SRC_DIR [SRC_DIR ...]\n",
      "                        Source directory where the MRI data lies. If there are\n",
      "                        several directories, add all directories one after the\n",
      "                        other. Example: -s DIR_1 DIR_2. Default is :\n",
      "                        /neurospin/lnao/PClean/database_learnclean/all/\n",
      "  -t TGT_DIR, --tgt_dir TGT_DIR\n",
      "                        Target directory where to store the output\n",
      "                        transformation files. Default is :\n",
      "                        /neurospin/dico/deep_folding_data/test/bbox\n",
      "  -u SULCUS, --sulcus SULCUS\n",
      "                        Sulcus name around which we determine the bounding\n",
      "                        box. Default is : S.T.s.ter.asc.ant._left\n",
      "  -i SIDE, --side SIDE  Hemisphere side. Default is : L\n",
      "  -m IMAGE_NORMALIZED_SPM, --image_normalized_SPM IMAGE_NORMALIZED_SPM\n",
      "                        Name (with path) of normalized SPM image. It is used\n",
      "                        to determine voxel size. Default is : /neurospin/hcp/A\n",
      "                        NALYSIS/3T_morphologist/100206/t1mri/default_acquisiti\n",
      "                        on/normalized_SPM_100206.nii\n",
      "  -p PATH_TO_GRAPH, --path_to_graph PATH_TO_GRAPH\n",
      "                        Relative path to manually labelled graph. Default is\n",
      "                        t1mri/t1/default_analysis/folds/3.3/base2018_manual\n",
      "  -n NB_SUBJECTS, --nb_subjects NB_SUBJECTS\n",
      "                        Number of subjects to take into account, or 'all'. 0\n",
      "                        subject is allowed, for debug purpose. Default is :\n",
      "                        all\n"
     ]
    }
   ],
   "source": [
    "args = \"--help\"\n",
    "argv = args.split(' ')\n",
    "bounding_box.main(argv)"
   ]
  },
  {
   "cell_type": "code",
   "execution_count": 19,
   "metadata": {},
   "outputs": [],
   "source": [
    "if run_bbox:\n",
    "    for sulcus in sulci_left:\n",
    "        bounding_box.bounding_box(src_dir=supervised_src_dir, \n",
    "                                  path_to_graph=path_to_graph,\n",
    "                                  tgt_dir=bbox_dir,\n",
    "                                  sulcus=sulcus, side='L',\n",
    "                                  image_normalized_spm=image_normalized_spm,\n",
    "                                  number_subjects=_ALL_SUBJECTS)\n",
    "    for sulcus in sulci_right:\n",
    "        bounding_box.bounding_box(src_dir=supervised_src_dir, \n",
    "                                  path_to_graph=path_to_graph,\n",
    "                                  tgt_dir=bbox_dir,\n",
    "                                  sulcus=sulcus, side='R',\n",
    "                                  image_normalized_spm=image_normalized_spm,\n",
    "                                  number_subjects=_ALL_SUBJECTS)"
   ]
  },
  {
   "cell_type": "markdown",
   "metadata": {},
   "source": [
    "# Generates crops"
   ]
  },
  {
   "cell_type": "markdown",
   "metadata": {},
   "source": [
    "### User variables "
   ]
  },
  {
   "cell_type": "code",
   "execution_count": 20,
   "metadata": {},
   "outputs": [],
   "source": [
    "interp = 'nearest'"
   ]
  },
  {
   "cell_type": "code",
   "execution_count": 21,
   "metadata": {},
   "outputs": [
    {
     "name": "stdout",
     "output_type": "stream",
     "text": [
      "/neurospin/dico/deep_folding_data/data/crops/STS_branches/nearest/original does not exist or is not a directory.\n"
     ]
    }
   ],
   "source": [
    "crop_dir = check_directory(join(path_to_root, 'dico/deep_folding_data/data', 'crops/STS_branches/nearest/original'))"
   ]
  },
  {
   "cell_type": "markdown",
   "metadata": {},
   "source": [
    "### Generates crops (actual program)"
   ]
  },
  {
   "cell_type": "code",
   "execution_count": 22,
   "metadata": {},
   "outputs": [
    {
     "ename": "FileNotFoundError",
     "evalue": "[Errno 2] No such file or directory: '/neurospin/dico/deep_folding_data/data/bbox/L/S.T.s.ter.asc.ant._left.json'",
     "output_type": "error",
     "traceback": [
      "\u001b[0;31m---------------------------------------------------------------------------\u001b[0m",
      "\u001b[0;31mFileNotFoundError\u001b[0m                         Traceback (most recent call last)",
      "\u001b[0;32m<ipython-input-22-00e476cb2747>\u001b[0m in \u001b[0;36m<module>\u001b[0;34m()\u001b[0m\n\u001b[1;32m      8\u001b[0m                                       \u001b[0mside\u001b[0m\u001b[0;34m=\u001b[0m\u001b[0;34m'L'\u001b[0m\u001b[0;34m,\u001b[0m\u001b[0;34m\u001b[0m\u001b[0;34m\u001b[0m\u001b[0m\n\u001b[1;32m      9\u001b[0m                                       \u001b[0minterp\u001b[0m\u001b[0;34m=\u001b[0m\u001b[0minterp\u001b[0m\u001b[0;34m,\u001b[0m\u001b[0;34m\u001b[0m\u001b[0;34m\u001b[0m\u001b[0m\n\u001b[0;32m---> 10\u001b[0;31m                                       number_subjects=_ALL_SUBJECTS)\n\u001b[0m\u001b[1;32m     11\u001b[0m     \u001b[0;31m# Runs on right hemisphere\u001b[0m\u001b[0;34m\u001b[0m\u001b[0;34m\u001b[0m\u001b[0;34m\u001b[0m\u001b[0m\n\u001b[1;32m     12\u001b[0m     dataset_gen_pipe.dataset_gen_pipe(src_dir=unsupervised_src_dir,\n",
      "\u001b[0;32m/host/home/jc225751/Program/deep_folding/deep_folding/anatomist_tools/dataset_gen_pipe.py\u001b[0m in \u001b[0;36mdataset_gen_pipe\u001b[0;34m(src_dir, tgt_dir, transform_dir, bbox_dir, side, list_sulci, number_subjects, interp)\u001b[0m\n\u001b[1;32m    381\u001b[0m                                      \u001b[0mbbox_dir\u001b[0m\u001b[0;34m=\u001b[0m\u001b[0mbbox_dir\u001b[0m\u001b[0;34m,\u001b[0m \u001b[0mside\u001b[0m\u001b[0;34m=\u001b[0m\u001b[0mside\u001b[0m\u001b[0;34m,\u001b[0m\u001b[0;34m\u001b[0m\u001b[0;34m\u001b[0m\u001b[0m\n\u001b[1;32m    382\u001b[0m                                      list_sulci=list_sulci, interp=interp)\n\u001b[0;32m--> 383\u001b[0;31m     \u001b[0mdataset\u001b[0m\u001b[0;34m.\u001b[0m\u001b[0mdataset_gen_pipe\u001b[0m\u001b[0;34m(\u001b[0m\u001b[0mnumber_subjects\u001b[0m\u001b[0;34m=\u001b[0m\u001b[0mnumber_subjects\u001b[0m\u001b[0;34m)\u001b[0m\u001b[0;34m\u001b[0m\u001b[0;34m\u001b[0m\u001b[0m\n\u001b[0m\u001b[1;32m    384\u001b[0m \u001b[0;34m\u001b[0m\u001b[0m\n\u001b[1;32m    385\u001b[0m \u001b[0;34m\u001b[0m\u001b[0m\n",
      "\u001b[0;32m/host/home/jc225751/Program/deep_folding/deep_folding/anatomist_tools/dataset_gen_pipe.py\u001b[0m in \u001b[0;36mdataset_gen_pipe\u001b[0;34m(self, number_subjects)\u001b[0m\n\u001b[1;32m    274\u001b[0m                                                      \u001b[0mside\u001b[0m\u001b[0;34m=\u001b[0m\u001b[0mself\u001b[0m\u001b[0;34m.\u001b[0m\u001b[0mside\u001b[0m\u001b[0;34m,\u001b[0m\u001b[0;34m\u001b[0m\u001b[0;34m\u001b[0m\u001b[0m\n\u001b[1;32m    275\u001b[0m                                                      \u001b[0mtalairach_box\u001b[0m\u001b[0;34m=\u001b[0m\u001b[0;32mFalse\u001b[0m\u001b[0;34m,\u001b[0m\u001b[0;34m\u001b[0m\u001b[0;34m\u001b[0m\u001b[0m\n\u001b[0;32m--> 276\u001b[0;31m                                                      src_dir=self.bbox_dir)\n\u001b[0m\u001b[1;32m    277\u001b[0m         \u001b[0;31m# Generate cropped files\u001b[0m\u001b[0;34m\u001b[0m\u001b[0;34m\u001b[0m\u001b[0;34m\u001b[0m\u001b[0m\n\u001b[1;32m    278\u001b[0m         \u001b[0mself\u001b[0m\u001b[0;34m.\u001b[0m\u001b[0mcrop_files\u001b[0m\u001b[0;34m(\u001b[0m\u001b[0mnumber_subjects\u001b[0m\u001b[0;34m=\u001b[0m\u001b[0mnumber_subjects\u001b[0m\u001b[0;34m)\u001b[0m\u001b[0;34m\u001b[0m\u001b[0;34m\u001b[0m\u001b[0m\n",
      "\u001b[0;32m/host/home/jc225751/Program/deep_folding/deep_folding/anatomist_tools/utils/load_bbox.py\u001b[0m in \u001b[0;36mcompute_max_box\u001b[0;34m(sulci_list, side, talairach_box, src_dir)\u001b[0m\n\u001b[1;32m     74\u001b[0m \u001b[0;34m\u001b[0m\u001b[0m\n\u001b[1;32m     75\u001b[0m     \u001b[0;32mfor\u001b[0m \u001b[0msulcus\u001b[0m \u001b[0;32min\u001b[0m \u001b[0msulci_list\u001b[0m\u001b[0;34m:\u001b[0m\u001b[0;34m\u001b[0m\u001b[0;34m\u001b[0m\u001b[0m\n\u001b[0;32m---> 76\u001b[0;31m         \u001b[0;32mwith\u001b[0m \u001b[0mopen\u001b[0m\u001b[0;34m(\u001b[0m\u001b[0mjoin\u001b[0m\u001b[0;34m(\u001b[0m\u001b[0msrc_dir\u001b[0m\u001b[0;34m,\u001b[0m \u001b[0mside\u001b[0m\u001b[0;34m,\u001b[0m \u001b[0msulcus\u001b[0m \u001b[0;34m+\u001b[0m \u001b[0;34m'.json'\u001b[0m\u001b[0;34m)\u001b[0m\u001b[0;34m)\u001b[0m \u001b[0;32mas\u001b[0m \u001b[0mjson_file\u001b[0m\u001b[0;34m:\u001b[0m\u001b[0;34m\u001b[0m\u001b[0;34m\u001b[0m\u001b[0m\n\u001b[0m\u001b[1;32m     77\u001b[0m             \u001b[0msulcus\u001b[0m \u001b[0;34m=\u001b[0m \u001b[0mjson\u001b[0m\u001b[0;34m.\u001b[0m\u001b[0mload\u001b[0m\u001b[0;34m(\u001b[0m\u001b[0mjson_file\u001b[0m\u001b[0;34m)\u001b[0m\u001b[0;34m\u001b[0m\u001b[0;34m\u001b[0m\u001b[0m\n\u001b[1;32m     78\u001b[0m \u001b[0;34m\u001b[0m\u001b[0m\n",
      "\u001b[0;31mFileNotFoundError\u001b[0m: [Errno 2] No such file or directory: '/neurospin/dico/deep_folding_data/data/bbox/L/S.T.s.ter.asc.ant._left.json'"
     ]
    }
   ],
   "source": [
    "if run_crop:\n",
    "    # Runs on left hemisphere\n",
    "    dataset_gen_pipe.dataset_gen_pipe(src_dir=unsupervised_src_dir,\n",
    "                                      tgt_dir=crop_dir,\n",
    "                                      transform_dir=transform_dir,\n",
    "                                      bbox_dir=bbox_dir,\n",
    "                                      list_sulci=sulci_left,\n",
    "                                      side='L',\n",
    "                                      interp=interp,\n",
    "                                      number_subjects=_ALL_SUBJECTS)\n",
    "    # Runs on right hemisphere\n",
    "    dataset_gen_pipe.dataset_gen_pipe(src_dir=unsupervised_src_dir,\n",
    "                                      tgt_dir=crop_dir,\n",
    "                                      transform_dir=transform_dir,\n",
    "                                      bbox_dir=bbox_dir,\n",
    "                                      list_sulci=sulci_right,\n",
    "                                      side='R',\n",
    "                                      interp=interp,\n",
    "                                      number_subjects=_ALL_SUBJECTS)\n",
    "    "
   ]
  },
  {
   "cell_type": "code",
   "execution_count": null,
   "metadata": {},
   "outputs": [],
   "source": []
  }
 ],
 "metadata": {
  "kernelspec": {
   "display_name": "Python 3",
   "language": "python",
   "name": "python3"
  },
  "language_info": {
   "codemirror_mode": {
    "name": "ipython",
    "version": 3
   },
   "file_extension": ".py",
   "mimetype": "text/x-python",
   "name": "python",
   "nbconvert_exporter": "python",
   "pygments_lexer": "ipython3",
   "version": "3.6.9"
  }
 },
 "nbformat": 4,
 "nbformat_minor": 2
}
