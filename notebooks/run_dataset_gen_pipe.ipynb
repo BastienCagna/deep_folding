{
 "cells": [
  {
   "cell_type": "markdown",
   "metadata": {},
   "source": [
    "# Generates crops ad pickle file using dataset_gen_pipe"
   ]
  },
  {
   "cell_type": "markdown",
   "metadata": {},
   "source": [
    "This notebook crops images according to bounding box coordinates (one per sulcus)"
   ]
  },
  {
   "cell_type": "markdown",
   "metadata": {},
   "source": [
    "# Imports"
   ]
  },
  {
   "cell_type": "code",
   "execution_count": 1,
   "metadata": {},
   "outputs": [
    {
     "output_type": "stream",
     "name": "stdout",
     "text": [
      "3.6.9 (default, Jan 26 2021, 15:33:00) \n[GCC 8.4.0]\n"
     ]
    }
   ],
   "source": [
    "import sys\n",
    "import os\n",
    "import glob\n",
    "import json\n",
    "import numpy as np\n",
    "import pandas as pd\n",
    "import matplotlib.pyplot as plt\n",
    "\n",
    "# Import the aims module\n",
    "from soma import aims\n",
    "# the brainplot package\n",
    "import colorado as cld\n",
    "\n",
    "print((sys.version))"
   ]
  },
  {
   "cell_type": "markdown",
   "metadata": {},
   "source": [
    "The following line permits to import deep_folding even if this notebook is executed from the notebooks subfolder (and no install has been launched):\n",
    "\n",
    " /notebooks/use_transform.ipynb  \n",
    " /deep_folding/__init__.py"
   ]
  },
  {
   "cell_type": "code",
   "execution_count": 2,
   "metadata": {},
   "outputs": [
    {
     "output_type": "stream",
     "name": "stdout",
     "text": [
      "/home/jc225751/Program/deep_folding/deep_folding\n"
     ]
    }
   ],
   "source": [
    "sys.path.append((os.path.abspath('../')))\n",
    "import deep_folding\n",
    "print((os.path.dirname(deep_folding.__file__)))"
   ]
  },
  {
   "cell_type": "code",
   "execution_count": 3,
   "metadata": {},
   "outputs": [],
   "source": [
    "_ALL_SUBJECTS = -1"
   ]
  },
  {
   "cell_type": "markdown",
   "metadata": {},
   "source": [
    "# User-specific variables"
   ]
  },
  {
   "cell_type": "code",
   "execution_count": 4,
   "metadata": {},
   "outputs": [],
   "source": [
    "sulcus = 'S.T.s.ter.asc.ant._left'"
   ]
  },
  {
   "cell_type": "code",
   "execution_count": 5,
   "metadata": {},
   "outputs": [],
   "source": [
    "side = 'L'"
   ]
  },
  {
   "cell_type": "markdown",
   "metadata": {},
   "source": [
    "We now assign path names and other user-specific variables."
   ]
  },
  {
   "cell_type": "markdown",
   "metadata": {},
   "source": [
    "The source directory is where the database lies. It contains the morphologist analysis subfolder ANALYSIS/3T_morphologist\n"
   ]
  },
  {
   "cell_type": "code",
   "execution_count": 6,
   "metadata": {},
   "outputs": [
    {
     "output_type": "stream",
     "name": "stdout",
     "text": [
      "src_dir = /home/jc225751/Program/deep_folding/data/source/unsupervised\n"
     ]
    }
   ],
   "source": [
    "src_dir = os.path.join(os.getcwd(), '../data/source/unsupervised')\n",
    "src_dir = os.path.abspath(src_dir)\n",
    "print((\"src_dir = \" + src_dir))"
   ]
  },
  {
   "cell_type": "markdown",
   "metadata": {},
   "source": [
    "The target directory tgt_dir is where the files will be saved"
   ]
  },
  {
   "cell_type": "code",
   "execution_count": 7,
   "metadata": {},
   "outputs": [
    {
     "output_type": "stream",
     "name": "stdout",
     "text": [
      "tgt_dir = /home/jc225751/Program/deep_folding/data/target/data/linear\n"
     ]
    }
   ],
   "source": [
    "tgt_dir = os.path.join(os.getcwd(), '../data/target/data/linear')\n",
    "tgt_dir = os.path.abspath(tgt_dir)\n",
    "print((\"tgt_dir = \" + tgt_dir))"
   ]
  },
  {
   "cell_type": "markdown",
   "metadata": {},
   "source": [
    "The reference directory is where the equivalent reference file has been saved"
   ]
  },
  {
   "cell_type": "code",
   "execution_count": 8,
   "metadata": {},
   "outputs": [
    {
     "output_type": "stream",
     "name": "stdout",
     "text": [
      "ref_dir = /home/jc225751/Program/deep_folding/data/reference/data/linear\n"
     ]
    }
   ],
   "source": [
    "ref_dir = os.path.join(os.getcwd(), '../data/reference/data/linear')\n",
    "ref_dir = os.path.abspath(ref_dir)\n",
    "print((\"ref_dir = \" + ref_dir))"
   ]
  },
  {
   "cell_type": "code",
   "execution_count": 9,
   "metadata": {},
   "outputs": [
    {
     "output_type": "stream",
     "name": "stdout",
     "text": [
      "transform_dir = /home/jc225751/Program/deep_folding/data/reference/transform\n"
     ]
    }
   ],
   "source": [
    "transform_dir = os.path.join(os.getcwd(), '../data/reference/transform')\n",
    "transform_dir = os.path.abspath(transform_dir)\n",
    "print((\"transform_dir = \" + transform_dir))"
   ]
  },
  {
   "cell_type": "code",
   "execution_count": 10,
   "metadata": {},
   "outputs": [
    {
     "output_type": "stream",
     "name": "stdout",
     "text": [
      "bbox_dir = /home/jc225751/Program/deep_folding/data/reference/bbox\n"
     ]
    }
   ],
   "source": [
    "bbox_dir = os.path.join(os.getcwd(), '../data/reference/bbox')\n",
    "bbox_dir = os.path.abspath(bbox_dir)\n",
    "print((\"bbox_dir = \" + bbox_dir))"
   ]
  },
  {
   "cell_type": "code",
   "execution_count": 11,
   "metadata": {},
   "outputs": [
    {
     "output_type": "stream",
     "name": "stdout",
     "text": [
      "['ipykernel_launcher', '--ip=127.0.0.1', '--stdin=9013', '--control=9011', '--hb=9010', '--Session.signature_scheme=\"hmac-sha256\"', '--Session.key=b\"60e2b349-dfa4-4d4e-ac61-b689403000bb\"', '--shell=9012', '--transport=\"tcp\"', '--iopub=9014', '--f=/tmp/tmp-1726uayM8tOeFnrE.json']\n"
     ]
    }
   ],
   "source": [
    "print((sys.argv))"
   ]
  },
  {
   "cell_type": "markdown",
   "metadata": {},
   "source": [
    "# Illustration of main program uses"
   ]
  },
  {
   "cell_type": "markdown",
   "metadata": {},
   "source": [
    "We will first use the program with no effect by using number of subjects set to 0, or by calling the help function"
   ]
  },
  {
   "cell_type": "markdown",
   "metadata": {},
   "source": [
    "### Using external calls"
   ]
  },
  {
   "cell_type": "code",
   "execution_count": 12,
   "metadata": {},
   "outputs": [],
   "source": [
    "!python ../deep_folding/anatomist_tools/dataset_gen_pipe.py -n 0 -t tgt_local_dir"
   ]
  },
  {
   "cell_type": "code",
   "execution_count": 13,
   "metadata": {},
   "outputs": [],
   "source": [
    "# Clean\n",
    "!rm -rf tgt_local_dir"
   ]
  },
  {
   "cell_type": "code",
   "execution_count": 14,
   "metadata": {},
   "outputs": [
    {
     "output_type": "stream",
     "name": "stdout",
     "text": [
      "usage: bounding_box.py [-h] [-s SRC_DIR [SRC_DIR ...]] [-t TGT_DIR]\n                       [-u SULCUS] [-i SIDE] [-m IMAGE_NORMALIZED_SPM]\n                       [-p PATH_TO_GRAPH] [-n NB_SUBJECTS] [-v OUT_VOXEL_SIZE]\n\nComputes bounding box around the named sulcus\n\noptional arguments:\n  -h, --help            show this help message and exit\n  -s SRC_DIR [SRC_DIR ...], --src_dir SRC_DIR [SRC_DIR ...]\n                        Source directory where the MRI data lies. If there are\n                        several directories, add all directories one after the\n                        other. Example: -s DIR_1 DIR_2. Default is :\n                        /neurospin/lnao/PClean/database_learnclean/all/\n  -t TGT_DIR, --tgt_dir TGT_DIR\n                        Target directory where to store the output\n                        transformation files. Default is :\n                        /neurospin/dico/deep_folding_data/test/bbox\n  -u SULCUS, --sulcus SULCUS\n                        Sulcus name around which we determine the bounding\n                        box. Default is : S.T.s.ter.asc.ant._left\n  -i SIDE, --side SIDE  Hemisphere side. Default is : L\n  -m IMAGE_NORMALIZED_SPM, --image_normalized_SPM IMAGE_NORMALIZED_SPM\n                        Name (with path) of normalized SPM image. It is used\n                        to determine voxel size. Default is : /neurospin/hcp/A\n                        NALYSIS/3T_morphologist/100206/t1mri/default_acquisiti\n                        on/normalized_SPM_100206.nii\n  -p PATH_TO_GRAPH, --path_to_graph PATH_TO_GRAPH\n                        Relative path to manually labelled graph. Default is\n                        t1mri/t1/default_analysis/folds/3.3/base2018_manual\n  -n NB_SUBJECTS, --nb_subjects NB_SUBJECTS\n                        Number of subjects to take into account, or 'all'. 0\n                        subject is allowed, for debug purpose. Default is :\n                        all\n  -v OUT_VOXEL_SIZE, --out_voxel_size OUT_VOXEL_SIZE\n                        Voxel size of of bounding box. Default is : None\n"
     ]
    }
   ],
   "source": [
    "!python ../deep_folding/anatomist_tools/bounding_box.py --help"
   ]
  },
  {
   "cell_type": "markdown",
   "metadata": {},
   "source": [
    "### By using the main function call"
   ]
  },
  {
   "cell_type": "code",
   "execution_count": 15,
   "metadata": {},
   "outputs": [
    {
     "output_type": "stream",
     "name": "stdout",
     "text": [
      "/home/jc225751/Program/deep_folding/deep_folding/anatomist_tools/dataset_gen_pipe.py\n"
     ]
    }
   ],
   "source": [
    "from deep_folding.anatomist_tools import dataset_gen_pipe\n",
    "print((dataset_gen_pipe.__file__))"
   ]
  },
  {
   "cell_type": "code",
   "execution_count": 16,
   "metadata": {},
   "outputs": [],
   "source": [
    "args = \"-n 0 -t \" + tgt_dir\n",
    "argv = args.split(' ')"
   ]
  },
  {
   "cell_type": "code",
   "execution_count": 17,
   "metadata": {},
   "outputs": [],
   "source": [
    "dataset_gen_pipe.main(argv)"
   ]
  },
  {
   "cell_type": "code",
   "execution_count": 18,
   "metadata": {},
   "outputs": [],
   "source": [
    "args = \"--help\"\n",
    "argv = args.split(' ')"
   ]
  },
  {
   "cell_type": "code",
   "execution_count": 19,
   "metadata": {},
   "outputs": [
    {
     "output_type": "stream",
     "name": "stdout",
     "text": [
      "usage: dataset_gen_pipe.py [-h] [-s SRC_DIR] [-t TGT_DIR] [-r TRANSFORM_DIR]\n                           [-b BBOX_DIR] [-u SULCUS [SULCUS ...]] [-i SIDE]\n                           [-n NB_SUBJECTS] [-e INTERP] [-p RESAMPLING]\n                           [-v OUT_VOXEL_SIZE [OUT_VOXEL_SIZE ...]]\n\nGenerates cropped and pickle files\n\noptional arguments:\n  -h, --help            show this help message and exit\n  -s SRC_DIR, --src_dir SRC_DIR\n                        Source directory where the MRI data lies. Default is :\n                        /neurospin/hcp\n  -t TGT_DIR, --tgt_dir TGT_DIR\n                        Target directory where to store the cropped and pickle\n                        files. Default is :\n                        /neurospin/dico/deep_folding_data/test\n  -r TRANSFORM_DIR, --transform_dir TRANSFORM_DIR\n                        Transform directory where transformation files from\n                        native to Talairach files have been stored. Default is\n                        : /neurospin/dico/deep_folding_data/data/transform\n  -b BBOX_DIR, --bbox_dir BBOX_DIR\n                        Bounding box directory where json files containing\n                        bounding box coordinates have been stored. Default is\n                        : /neurospin/dico/deep_folding_data/data/bbox\n  -u SULCUS [SULCUS ...], --sulcus SULCUS [SULCUS ...]\n                        Sulcus name around which we determine the bounding\n                        box. If there are several sulci, add all sulci one\n                        after the other. Example: -u sulcus_1 sulcus_2 Default\n                        is : S.T.s.ter.asc.ant._left\n  -i SIDE, --side SIDE  Hemisphere side (either L or R). Default is : L\n  -n NB_SUBJECTS, --nb_subjects NB_SUBJECTS\n                        Number of subjects to take into account, or 'all'. 0\n                        subject is allowed, for debug purpose.Default is : all\n  -e INTERP, --interp INTERP\n                        Same interpolation type as for AimsApplyTransform.\n                        Type of interpolation used for Volumes: n[earest],\n                        l[inear], q[uadratic], c[cubic], quartic, quintic,\n                        six[thorder], seven[thorder]. Modes may also be\n                        specified as order number: 0=nearest, 1=linear...\n  -p RESAMPLING, --resampling RESAMPLING\n                        Method of resampling to perform. Type of resampling:\n                        s[ulcus] for Bastien methodIf None, AimsApplyTransform\n                        is used.Default is : None\n  -v OUT_VOXEL_SIZE [OUT_VOXEL_SIZE ...], --out_voxel_size OUT_VOXEL_SIZE [OUT_VOXEL_SIZE ...]\n                        Voxel size of output imagesDefault is : 1 1 1\n"
     ]
    }
   ],
   "source": [
    "dataset_gen_pipe.main(argv)"
   ]
  },
  {
   "cell_type": "markdown",
   "metadata": {},
   "source": [
    "### By using the API function call"
   ]
  },
  {
   "cell_type": "code",
   "execution_count": 20,
   "metadata": {},
   "outputs": [],
   "source": [
    "dataset_gen_pipe.dataset_gen_pipe(src_dir=src_dir,\n",
    "                                  tgt_dir=tgt_dir,\n",
    "                                  transform_dir=transform_dir,\n",
    "                                  bbox_dir=bbox_dir,\n",
    "                                  list_sulci=sulcus,\n",
    "                                  side=side,\n",
    "                                  number_subjects=0)"
   ]
  },
  {
   "cell_type": "markdown",
   "metadata": {},
   "source": [
    "# Crops with linear interpolation"
   ]
  },
  {
   "cell_type": "markdown",
   "metadata": {},
   "source": [
    "## Main program"
   ]
  },
  {
   "cell_type": "code",
   "execution_count": 21,
   "metadata": {},
   "outputs": [],
   "source": [
    "interp = 'linear'"
   ]
  },
  {
   "cell_type": "code",
   "execution_count": 22,
   "metadata": {},
   "outputs": [],
   "source": [
    "dataset_gen_pipe.dataset_gen_pipe(src_dir=src_dir,\n",
    "                                  tgt_dir=tgt_dir,\n",
    "                                  transform_dir=transform_dir,\n",
    "                                  bbox_dir=bbox_dir,\n",
    "                                  list_sulci=sulcus,\n",
    "                                  side=side,\n",
    "                                  interp=interp,\n",
    "                                  number_subjects=_ALL_SUBJECTS)"
   ]
  },
  {
   "cell_type": "markdown",
   "metadata": {},
   "source": [
    "## Result analysis"
   ]
  },
  {
   "cell_type": "markdown",
   "metadata": {},
   "source": [
    "### Analysis of the inputs"
   ]
  },
  {
   "cell_type": "code",
   "execution_count": 23,
   "metadata": {},
   "outputs": [
    {
     "output_type": "stream",
     "name": "stdout",
     "text": [
      "shape of source skeleton =  (1, 260, 311, 260)\n"
     ]
    }
   ],
   "source": [
    "# Gets source file as numpy array\n",
    "skeleton_dir = os.path.join(src_dir, \"ANALYSIS/3T_morphologist/100206/t1mri/default_acquisition/default_analysis/segmentation\")\n",
    "vol_source_file = glob.glob(skeleton_dir + '/' + side + '*.nii.gz')\n",
    "vol_source = aims.read(vol_source_file[0])\n",
    "arr_source = vol_source.arraydata()\n",
    "print(\"shape of source skeleton = \", arr_source.shape)"
   ]
  },
  {
   "cell_type": "code",
   "execution_count": 24,
   "metadata": {},
   "outputs": [
    {
     "output_type": "execute_result",
     "data": {
      "text/plain": [
       "array([ 0, 10, 11, 30, 40, 60, 80], dtype=int16)"
      ]
     },
     "metadata": {},
     "execution_count": 24
    }
   ],
   "source": [
    "np.unique(arr_source)"
   ]
  },
  {
   "cell_type": "code",
   "execution_count": 25,
   "metadata": {},
   "outputs": [
    {
     "output_type": "execute_result",
     "data": {
      "text/plain": [
       "11    18832738\n",
       "0      2012736\n",
       "60      163069\n",
       "30        9634\n",
       "80        5330\n",
       "40          87\n",
       "10           6\n",
       "dtype: int64"
      ]
     },
     "metadata": {},
     "execution_count": 25
    }
   ],
   "source": [
    "pd.value_counts(np.resize(arr_source, arr_source.size))"
   ]
  },
  {
   "cell_type": "markdown",
   "metadata": {},
   "source": [
    "### Analysis of the outputs"
   ]
  },
  {
   "cell_type": "markdown",
   "metadata": {},
   "source": [
    "Prints the list of files of the target directory"
   ]
  },
  {
   "cell_type": "code",
   "execution_count": 26,
   "metadata": {},
   "outputs": [
    {
     "output_type": "stream",
     "name": "stdout",
     "text": [
      "Files in target directory:\nLdataset.json\nLcrops\nLskeleton.pkl\n"
     ]
    }
   ],
   "source": [
    "print(\"Files in target directory:\")\n",
    "print(('\\n'.join(os.listdir(tgt_dir))))"
   ]
  },
  {
   "cell_type": "code",
   "execution_count": 27,
   "metadata": {},
   "outputs": [
    {
     "output_type": "stream",
     "name": "stdout",
     "text": [
      "Files in crops target directory:\n100206_normalized.nii.gz\n100206_normalized.nii.gz.minf\n"
     ]
    }
   ],
   "source": [
    "print(\"Files in crops target directory:\")\n",
    "print(('\\n'.join(os.listdir(tgt_dir + '/' + side + 'crops'))))"
   ]
  },
  {
   "cell_type": "code",
   "execution_count": 28,
   "metadata": {},
   "outputs": [
    {
     "output_type": "stream",
     "name": "stdout",
     "text": [
      "tgt_json_file =  /home/jc225751/Program/deep_folding/data/target/data/linear/Ldataset.json \n\n{\n    \"bbmax\": [\n        137,\n        153,\n        78\n    ],\n    \"bbmin\": [\n        112,\n        129,\n        33\n    ],\n    \"bbox_dir\": \"/home/jc225751/Program/deep_folding/data/reference/bbox\",\n    \"cropped_dir\": \"/home/jc225751/Program/deep_folding/data/target/data/linear/Lcrops\",\n    \"date\": \"2021-06-24 18:55:27\",\n    \"git_sha\": \"d7e21d1d577540c55b69dd89460cc5eb5db8eea8\",\n    \"interp\": \"linear\",\n    \"is_git\": true,\n    \"list_sulci\": [\n        \"S.T.s.ter.asc.ant._left\"\n    ],\n    \"nb_subjects\": 2,\n    \"out_voxel_size\": [\n        1,\n        1,\n        1\n    ],\n    \"repo_working_dir\": \"/home/jc225751/Program/deep_folding\",\n    \"resampling_type\": \"AimsApplyTransform\",\n    \"side\": \"L\",\n    \"src_dir\": \"/home/jc225751/Program/deep_folding/data/source/unsupervised\",\n    \"tgt_dir\": \"/home/jc225751/Program/deep_folding/data/target/data/linear\",\n    \"timestamp\": 1624553727.1866906,\n    \"transform_dir\": \"/home/jc225751/Program/deep_folding/data/reference/transform\"\n}\n"
     ]
    }
   ],
   "source": [
    "tgt_json_file = glob.glob(tgt_dir + '/*.json')[0]\n",
    "print(\"tgt_json_file = \", tgt_json_file, '\\n')\n",
    "with open(os.path.join(tgt_dir, tgt_json_file), 'r') as f:\n",
    "    data_tgt = json.load(f)\n",
    "    print((json.dumps(data_tgt, sort_keys=True, indent=4)))"
   ]
  },
  {
   "cell_type": "markdown",
   "metadata": {},
   "source": [
    "Obtained output (we read the cropped file from the target directory):"
   ]
  },
  {
   "cell_type": "code",
   "execution_count": 29,
   "metadata": {},
   "outputs": [
    {
     "output_type": "stream",
     "name": "stdout",
     "text": [
      "shape of target cropped image =  (1, 46, 25, 26)\n"
     ]
    }
   ],
   "source": [
    "# Gets target crop as numpy array\n",
    "cropped_target_dir = os.path.join(tgt_dir, side+'crops')\n",
    "vol_target_file = glob.glob(cropped_target_dir + '/' + '*.nii.gz')\n",
    "vol_target = aims.read(vol_target_file[0])\n",
    "arr_target = vol_target.arraydata()\n",
    "print(\"shape of target cropped image = \", arr_target.shape)"
   ]
  },
  {
   "cell_type": "code",
   "execution_count": 30,
   "metadata": {},
   "outputs": [
    {
     "output_type": "execute_result",
     "data": {
      "text/plain": [
       "array([ 0,  1,  2,  3,  4,  5,  6,  7,  8,  9, 10, 11, 12, 13, 14, 15, 16,\n",
       "       17, 18, 19, 20, 21, 22, 23, 24, 25, 26, 27, 28, 29, 30, 31, 32, 33,\n",
       "       34, 35, 36, 37, 38, 39, 40, 41, 42, 43, 44, 45, 46, 47, 48, 49, 50,\n",
       "       51, 52, 53, 54, 55, 56, 57, 58, 59, 60, 61, 64, 66, 72],\n",
       "      dtype=int16)"
      ]
     },
     "metadata": {},
     "execution_count": 30
    }
   ],
   "source": [
    "np.unique(arr_target)"
   ]
  },
  {
   "cell_type": "code",
   "execution_count": 31,
   "metadata": {},
   "outputs": [
    {
     "output_type": "stream",
     "name": "stdout",
     "text": [
      "(array([ 0,  1,  2,  3,  4,  5,  6,  7,  8,  9, 10, 11, 12, 13, 14, 15, 16,\n       17, 18, 19, 20, 21, 22, 23, 24, 25, 26, 27, 28, 29, 30, 31, 32, 33,\n       34, 35, 36, 37, 38, 39, 40, 41, 42, 43, 44, 45, 46, 47, 48, 49, 50,\n       51, 52, 53, 54, 55, 56, 57, 58, 59, 60, 61, 64, 66, 72],\n      dtype=int16), array([21572,   252,   174,   184,   146,   137,   166,   114,   119,\n         115,   107,  3337,   105,   120,   107,   105,   119,   124,\n          92,   115,    94,    95,   109,   108,    98,   107,    95,\n         121,   102,   139,   150,   131,   106,   109,    98,    95,\n          92,    69,    62,    61,    47,    47,    45,    36,    36,\n          39,    32,    37,    32,    28,    26,    27,    13,    15,\n          16,    14,    14,    10,    10,    12,     7,     2,     1,\n           1,     2]))\n"
     ]
    }
   ],
   "source": [
    "unique_target = np.unique(arr_target, return_counts=True)\n",
    "print(unique_target)"
   ]
  },
  {
   "cell_type": "code",
   "execution_count": 32,
   "metadata": {},
   "outputs": [
    {
     "output_type": "execute_result",
     "data": {
      "text/plain": [
       "0     21572\n",
       "11     3337\n",
       "1       252\n",
       "3       184\n",
       "2       174\n",
       "dtype: int64"
      ]
     },
     "metadata": {},
     "execution_count": 32
    }
   ],
   "source": [
    "pd.value_counts(np.resize(arr_target, arr_target.size)).head()"
   ]
  },
  {
   "cell_type": "markdown",
   "metadata": {},
   "source": [
    "Expected output (we read the cropped file from the reference directory):"
   ]
  },
  {
   "cell_type": "code",
   "execution_count": 33,
   "metadata": {},
   "outputs": [
    {
     "output_type": "stream",
     "name": "stdout",
     "text": [
      "shape of reference cropped image =  (1, 46, 25, 26)\n"
     ]
    }
   ],
   "source": [
    "cropped_ref_dir = os.path.join(ref_dir, side+'crops')\n",
    "vol_ref_file = glob.glob(cropped_ref_dir + '/' + '*.nii.gz')\n",
    "vol_ref = aims.read(vol_ref_file[0])\n",
    "arr_ref = vol_ref.arraydata()\n",
    "print(\"shape of reference cropped image = \", arr_ref.shape)"
   ]
  },
  {
   "cell_type": "code",
   "execution_count": 34,
   "metadata": {},
   "outputs": [
    {
     "output_type": "execute_result",
     "data": {
      "text/plain": [
       "0     21572\n",
       "11     3336\n",
       "1       252\n",
       "3       184\n",
       "2       174\n",
       "dtype: int64"
      ]
     },
     "metadata": {},
     "execution_count": 34
    }
   ],
   "source": [
    "pd.value_counts(np.resize(arr_ref, arr_ref.size)).head()"
   ]
  },
  {
   "cell_type": "code",
   "execution_count": 35,
   "metadata": {},
   "outputs": [
    {
     "output_type": "execute_result",
     "data": {
      "text/plain": [
       "False"
      ]
     },
     "metadata": {},
     "execution_count": 35
    }
   ],
   "source": [
    "np.array_equal(arr_target, arr_ref)"
   ]
  },
  {
   "cell_type": "code",
   "execution_count": 36,
   "metadata": {},
   "outputs": [
    {
     "output_type": "stream",
     "name": "stdout",
     "text": [
      "Number of different pixels :  2\nIndex of different pixels :  (array([0, 0]), array([34, 42]), array([22,  5]), array([21, 11]))\n"
     ]
    }
   ],
   "source": [
    "epsilon = 1\n",
    "difference = (abs(arr_ref-arr_target) >= epsilon)\n",
    "number_differences = np.count_nonzero(difference)\n",
    "index_of_differences = np.where(difference)\n",
    "print(\"Number of different pixels : \", number_differences)\n",
    "print(\"Index of different pixels : \", index_of_differences)"
   ]
  },
  {
   "cell_type": "code",
   "execution_count": 37,
   "metadata": {},
   "outputs": [
    {
     "output_type": "stream",
     "name": "stdout",
     "text": [
      "[(44, 45), (11, 12)]\n"
     ]
    }
   ],
   "source": [
    "print(list(zip(arr_target[index_of_differences], arr_ref[index_of_differences])))"
   ]
  },
  {
   "cell_type": "code",
   "execution_count": 38,
   "metadata": {},
   "outputs": [],
   "source": [
    "def are_arrays_almost_equal(arr1, arr2, epsilon, max_number_different_pixels):\n",
    "    \"\"\"Returns True if at most max_number_different_pixels pixels of arrays arr1 and arr2 \n",
    "    differ by more than epsilon\n",
    "    \n",
    "    \"\"\"\n",
    "    difference = (abs(arr1-arr2) >= epsilon)\n",
    "    number_different_pixels = np.count_nonzero(difference)\n",
    "    return number_different_pixels <= max_number_different_pixels, number_different_pixels"
   ]
  },
  {
   "cell_type": "code",
   "execution_count": 39,
   "metadata": {},
   "outputs": [],
   "source": [
    "equal_arrays, number_different_pixels = are_arrays_almost_equal(arr_ref, arr_target, 1, 2)"
   ]
  },
  {
   "cell_type": "code",
   "execution_count": 40,
   "metadata": {},
   "outputs": [
    {
     "output_type": "stream",
     "name": "stdout",
     "text": [
      "True\n"
     ]
    }
   ],
   "source": [
    "print(equal_arrays)"
   ]
  },
  {
   "cell_type": "markdown",
   "metadata": {},
   "source": [
    "# Crops with nearest-neighbour interpolation"
   ]
  },
  {
   "cell_type": "markdown",
   "metadata": {},
   "source": [
    "## Main program"
   ]
  },
  {
   "cell_type": "code",
   "execution_count": 41,
   "metadata": {},
   "outputs": [
    {
     "output_type": "stream",
     "name": "stdout",
     "text": [
      "tgt_dir = /home/jc225751/Program/deep_folding/data/target/data/nearest\n"
     ]
    }
   ],
   "source": [
    "tgt_dir_nearest = os.path.join(os.getcwd(), '../data/target/data/nearest')\n",
    "tgt_dir_nearest = os.path.abspath(tgt_dir_nearest)\n",
    "print((\"tgt_dir = \" + tgt_dir_nearest))"
   ]
  },
  {
   "cell_type": "code",
   "execution_count": 42,
   "metadata": {},
   "outputs": [],
   "source": [
    "interp = 'nearest'\n",
    "dataset_gen_pipe.dataset_gen_pipe(src_dir=src_dir,\n",
    "                                  tgt_dir=tgt_dir_nearest,\n",
    "                                  transform_dir=transform_dir,\n",
    "                                  bbox_dir=bbox_dir,\n",
    "                                  list_sulci=sulcus,\n",
    "                                  side=side,\n",
    "                                  interp=interp,\n",
    "                                  number_subjects=_ALL_SUBJECTS)"
   ]
  },
  {
   "cell_type": "markdown",
   "metadata": {},
   "source": [
    "## Result analysis"
   ]
  },
  {
   "cell_type": "markdown",
   "metadata": {},
   "source": [
    "### Analysis of the inputs"
   ]
  },
  {
   "cell_type": "code",
   "execution_count": 43,
   "metadata": {},
   "outputs": [
    {
     "output_type": "stream",
     "name": "stdout",
     "text": [
      "shape of source skeleton =  (1, 260, 311, 260)\n"
     ]
    }
   ],
   "source": [
    "# Gets source file as numpy array\n",
    "skeleton_dir = os.path.join(src_dir, \"ANALYSIS/3T_morphologist/100206/t1mri/default_acquisition/default_analysis/segmentation\")\n",
    "vol_source_file = glob.glob(skeleton_dir + '/' + side + '*.nii.gz')[0]\n",
    "vol_source = aims.read(vol_source_file)\n",
    "arr_source = vol_source.arraydata()\n",
    "print(\"shape of source skeleton = \", arr_source.shape)"
   ]
  },
  {
   "cell_type": "code",
   "execution_count": 44,
   "metadata": {},
   "outputs": [
    {
     "output_type": "execute_result",
     "data": {
      "text/plain": [
       "array([ 0, 10, 11, 30, 40, 60, 80], dtype=int16)"
      ]
     },
     "metadata": {},
     "execution_count": 44
    }
   ],
   "source": [
    "np.unique(arr_source)"
   ]
  },
  {
   "cell_type": "code",
   "execution_count": 45,
   "metadata": {},
   "outputs": [
    {
     "output_type": "execute_result",
     "data": {
      "text/plain": [
       "11    18832738\n",
       "0      2012736\n",
       "60      163069\n",
       "30        9634\n",
       "80        5330\n",
       "40          87\n",
       "10           6\n",
       "dtype: int64"
      ]
     },
     "metadata": {},
     "execution_count": 45
    }
   ],
   "source": [
    "pd.value_counts(np.resize(arr_source, arr_source.size))"
   ]
  },
  {
   "cell_type": "markdown",
   "metadata": {},
   "source": [
    "### Analysis of the outputs"
   ]
  },
  {
   "cell_type": "markdown",
   "metadata": {},
   "source": [
    "Prints the list of files of the target directory"
   ]
  },
  {
   "cell_type": "code",
   "execution_count": 46,
   "metadata": {},
   "outputs": [
    {
     "output_type": "stream",
     "name": "stdout",
     "text": [
      "Files in crops target directory:\n/home/jc225751/Program/deep_folding/data/target/data/nearest\n100206_normalized.nii.gz\n100206_normalized.nii.gz.minf\n"
     ]
    }
   ],
   "source": [
    "print(\"Files in crops target directory:\")\n",
    "print(tgt_dir_nearest)\n",
    "print(('\\n'.join(os.listdir(tgt_dir_nearest + '/' + side + 'crops'))))"
   ]
  },
  {
   "cell_type": "code",
   "execution_count": 47,
   "metadata": {},
   "outputs": [
    {
     "output_type": "stream",
     "name": "stdout",
     "text": [
      "tgt_json_file =  /home/jc225751/Program/deep_folding/data/target/data/nearest/Ldataset.json \n\n{\n    \"bbmax\": [\n        137,\n        153,\n        78\n    ],\n    \"bbmin\": [\n        112,\n        129,\n        33\n    ],\n    \"bbox_dir\": \"/home/jc225751/Program/deep_folding/data/reference/bbox\",\n    \"cropped_dir\": \"/home/jc225751/Program/deep_folding/data/target/data/nearest/Lcrops\",\n    \"date\": \"2021-06-24 18:55:33\",\n    \"git_sha\": \"d7e21d1d577540c55b69dd89460cc5eb5db8eea8\",\n    \"interp\": \"nearest\",\n    \"is_git\": true,\n    \"list_sulci\": [\n        \"S.T.s.ter.asc.ant._left\"\n    ],\n    \"nb_subjects\": 2,\n    \"out_voxel_size\": [\n        1,\n        1,\n        1\n    ],\n    \"repo_working_dir\": \"/home/jc225751/Program/deep_folding\",\n    \"resampling_type\": \"AimsApplyTransform\",\n    \"side\": \"L\",\n    \"src_dir\": \"/home/jc225751/Program/deep_folding/data/source/unsupervised\",\n    \"tgt_dir\": \"/home/jc225751/Program/deep_folding/data/target/data/nearest\",\n    \"timestamp\": 1624553733.3249614,\n    \"transform_dir\": \"/home/jc225751/Program/deep_folding/data/reference/transform\"\n}\n"
     ]
    }
   ],
   "source": [
    "tgt_json_file = glob.glob(tgt_dir_nearest + '/*.json')[0]\n",
    "print(\"tgt_json_file = \", tgt_json_file, '\\n')\n",
    "with open(os.path.join(tgt_dir_nearest, tgt_json_file), 'r') as f:\n",
    "    data_tgt = json.load(f)\n",
    "    print((json.dumps(data_tgt, sort_keys=True, indent=4)))"
   ]
  },
  {
   "cell_type": "markdown",
   "metadata": {},
   "source": [
    "Obtained output (we read the cropped file from the target directory):"
   ]
  },
  {
   "cell_type": "code",
   "execution_count": 48,
   "metadata": {},
   "outputs": [
    {
     "output_type": "stream",
     "name": "stdout",
     "text": [
      "shape of target cropped image =  (1, 46, 25, 26)\n"
     ]
    }
   ],
   "source": [
    "# Gets target crop as numpy array\n",
    "cropped_target_dir = os.path.join(tgt_dir_nearest, side+'crops')\n",
    "vol_target_file = glob.glob(cropped_target_dir + '/' + '*.nii.gz')\n",
    "vol_target = aims.read(vol_target_file[0])\n",
    "arr_target = vol_target.arraydata()\n",
    "print(\"shape of target cropped image = \", arr_target.shape)"
   ]
  },
  {
   "cell_type": "code",
   "execution_count": 49,
   "metadata": {},
   "outputs": [
    {
     "output_type": "execute_result",
     "data": {
      "text/plain": [
       "array([ 0, 11, 30, 60, 80], dtype=int16)"
      ]
     },
     "metadata": {},
     "execution_count": 49
    }
   ],
   "source": [
    "np.unique(arr_target)"
   ]
  },
  {
   "cell_type": "markdown",
   "metadata": {},
   "source": [
    "The scope here is to compare the different numbers present on the target array and on the source array:"
   ]
  },
  {
   "cell_type": "code",
   "execution_count": 50,
   "metadata": {},
   "outputs": [
    {
     "output_type": "execute_result",
     "data": {
      "text/plain": [
       "0     81.8\n",
       "11    12.3\n",
       "60     5.4\n",
       "30     0.4\n",
       "80     0.2\n",
       "dtype: float64"
      ]
     },
     "metadata": {},
     "execution_count": 50
    }
   ],
   "source": [
    "np.around(pd.value_counts(np.resize(arr_target, arr_target.size))/arr_target.size*100, 1)"
   ]
  },
  {
   "cell_type": "code",
   "execution_count": 51,
   "metadata": {},
   "outputs": [
    {
     "output_type": "execute_result",
     "data": {
      "text/plain": [
       "11    89.6\n",
       "0      9.6\n",
       "60     0.8\n",
       "30     0.0\n",
       "80     0.0\n",
       "40     0.0\n",
       "10     0.0\n",
       "dtype: float64"
      ]
     },
     "metadata": {},
     "execution_count": 51
    }
   ],
   "source": [
    "np.around(pd.value_counts(np.resize(arr_source, arr_source.size))/arr_source.size*100, 1)"
   ]
  },
  {
   "cell_type": "markdown",
   "metadata": {},
   "source": [
    "### Visualization"
   ]
  },
  {
   "cell_type": "code",
   "execution_count": 52,
   "metadata": {},
   "outputs": [],
   "source": [
    "%%capture \n",
    "# The previous magic captures this cell output (namely Anatomist logs)\n",
    "\n",
    "# Import anatomist and set the environment to use it here\n",
    "import anatomist.api as anatomist\n",
    "os.environ[\"QT_API\"] = \"pyqt5\"\n",
    "%gui qt\n",
    "\n",
    "# create an Anatomist session and capture input (so it does not appear here)\n",
    "a = anatomist.Anatomist();"
   ]
  },
  {
   "cell_type": "code",
   "execution_count": 53,
   "metadata": {},
   "outputs": [],
   "source": [
    "def visualize_all_image(file_name):\n",
    "    \n",
    "    # load source skeleton data (the SliceableObject)\n",
    "    object_anat = a.loadObject(file_name)\n",
    "\n",
    "    # create an Axial window in anatomist\n",
    "    w = a.createWindow(\"Axial\", geometry=[1200, 350, 500, 500])\n",
    "    object_anat.addInWindows(w)\n",
    "\n",
    "    # get a snapshot from anatomist\n",
    "    %matplotlib inline\n",
    "    img = cld.anatomist_snatpshot(w)\n",
    "    plt.imshow(img)\n",
    "    return object_anat, w"
   ]
  },
  {
   "cell_type": "code",
   "execution_count": 54,
   "metadata": {},
   "outputs": [
    {
     "output_type": "stream",
     "name": "stdout",
     "text": [
      "Files in crops nearest target directory:\n100206_normalized.nii.gz\n100206_normalized.nii.gz.minf\n"
     ]
    }
   ],
   "source": [
    "print(\"Files in crops nearest target directory:\")\n",
    "print(('\\n'.join(os.listdir(tgt_dir_nearest + '/' + side + 'crops'))))"
   ]
  },
  {
   "cell_type": "code",
   "execution_count": 55,
   "metadata": {},
   "outputs": [
    {
     "output_type": "stream",
     "name": "stdout",
     "text": [
      "/home/jc225751/Program/deep_folding/data/target/data/nearest/Lcrops/100206_normalized.nii.gz\n"
     ]
    }
   ],
   "source": [
    "target_file_dir = tgt_dir_nearest + '/' + side + 'crops'\n",
    "target_file_nearest = glob.glob(target_file_dir + \"/*.nii.gz\")[0]\n",
    "print(target_file_nearest)"
   ]
  },
  {
   "cell_type": "code",
   "execution_count": 56,
   "metadata": {},
   "outputs": [
    {
     "output_type": "execute_result",
     "data": {
      "text/plain": [
       "(<anatomist.cpp.anatomist.SliceableObject object at 0x7f693c94d168>,\n",
       " <anatomist.cpp.weak_shared_ptr_AWindow object at 0x7f693c94fc18>)"
      ]
     },
     "metadata": {},
     "execution_count": 56
    },
    {
     "output_type": "display_data",
     "data": {
      "text/plain": "<Figure size 432x288 with 1 Axes>",
      "image/svg+xml": "<?xml version=\"1.0\" encoding=\"utf-8\" standalone=\"no\"?>\n<!DOCTYPE svg PUBLIC \"-//W3C//DTD SVG 1.1//EN\"\n  \"http://www.w3.org/Graphics/SVG/1.1/DTD/svg11.dtd\">\n<!-- Created with matplotlib (https://matplotlib.org/) -->\n<svg height=\"249.378965pt\" version=\"1.1\" viewBox=\"0 0 263.318514 249.378965\" width=\"263.318514pt\" xmlns=\"http://www.w3.org/2000/svg\" xmlns:xlink=\"http://www.w3.org/1999/xlink\">\n <metadata>\n  <rdf:RDF xmlns:cc=\"http://creativecommons.org/ns#\" xmlns:dc=\"http://purl.org/dc/elements/1.1/\" xmlns:rdf=\"http://www.w3.org/1999/02/22-rdf-syntax-ns#\">\n   <cc:Work>\n    <dc:type rdf:resource=\"http://purl.org/dc/dcmitype/StillImage\"/>\n    <dc:date>2021-06-24T18:55:42.031329</dc:date>\n    <dc:format>image/svg+xml</dc:format>\n    <dc:creator>\n     <cc:Agent>\n      <dc:title>Matplotlib v3.3.4, https://matplotlib.org/</dc:title>\n     </cc:Agent>\n    </dc:creator>\n   </cc:Work>\n  </rdf:RDF>\n </metadata>\n <defs>\n  <style type=\"text/css\">*{stroke-linecap:butt;stroke-linejoin:round;}</style>\n </defs>\n <g id=\"figure_1\">\n  <g id=\"patch_1\">\n   <path d=\"M 0 249.378965 \nL 263.318514 249.378965 \nL 263.318514 0 \nL 0 0 \nz\n\" style=\"fill:none;\"/>\n  </g>\n  <g id=\"axes_1\">\n   <g id=\"patch_2\">\n    <path d=\"M 26.925 225.50084 \nL 256.118514 225.50084 \nL 256.118514 8.06084 \nL 26.925 8.06084 \nz\n\" style=\"fill:#ffffff;\"/>\n   </g>\n   <g clip-path=\"url(#p8f4fbbe833)\">\n    <image height=\"218\" id=\"image9d5b2866cb\" transform=\"scale(1 -1)translate(0 -218)\" width=\"230\" x=\"26.925\" xlink:href=\"data:image/png;base64,\niVBORw0KGgoAAAANSUhEUgAAAOYAAADaCAYAAACy0j5tAAAIJElEQVR4nO3dQYtkVxkG4KqummTaiGR0E9DNZARxLwR3beJPCDgwaHpoBZNdfoZrVyIx4yKQRfZB0LbVlUvXRrJxISgTDExm0tPV1x/Q3zd4mltTb888z/Lkcu6pyn37wDdfnbtcLBbTgqdvf78c/tbDh+X4d5tp3rlzpxw/+uCDcvz+el1PdF4Pr8/Pmjtf9Ls//fn/vnaxWCzevnt36Pqz5V79H5b14vemenxaNPMEyV8hPIcEEwIJJgQSTAgkmBCoKdHBuDcODoau/8vxcTl+dHQ0w2quNjsmBBJMCCSYEEgwIZBgQiBVWS5luYN7TlPd1r3cxWK2zI4JgQQTAgkmBBJMCCSYEEhVlkuZ49iLgx8clOMnfzwpx7sTDI5+Wp+EsGzKtU1xN4odEwIJJgQSTAgkmBBIMCGQqixxumrtpttHmnNlv/3qzeYO+c21dkwIJJgQSDAhkGBCoPWq+Q/NO2ZacyR82/ccnX+O+3b3nM7HVrPp5m8KH72x64e+4+YlPt0soyWYZfNZuxa71Xl936mZ53xgQatm9d2PuTvdPe2YEEgwIZBgQiDBhECCCYHWm5m6k7qq4Tbt4p6z3XdVd0NOiy/ry7tpmkJoWxvsXpfeDG+a6vFUVSVXYw/T2egX2b7qvR7+1fvvleNTc/3Iy4za2vZMZ2naMSGQYEIgwYRAggmBBBMCrReTbF4F8/20t5tprMdzqq6fmtrxcD/vPA66V88v63UeF6+eH33tfHdk5iiphECCCYEEEwIJJgQSTAi0Xs32u35GdD2oXU3vrJtnb/Bva/cL+2Y93fmm1SynU7PK5hEbPTv1bPDUh66/eDHVTbrXik9VjT3RTG8ssmNCIMGEQIIJgQQTAgkmBPJSoZ15BqvhTUGyqzSP7grzdPn2qpcZ3Xr11kyz17pzaO2YEEgwIZBgQiDBhECCCYHWm+6sTrZr8FzZrny+Guwfbc89bXpuu/7UcnSv+0z1HI8H1z4N9gVvBt8+Vjkd7UUepCoLV4hgQiDBhECCCYEEEwLplb0iur+g2/7LOk9Hb73KrlrbNsWOHtk6VxPtFnXn0NoxIZBgQiDBhECCCYEEEwKt120/Idt09rg+g7X7S3najTe9nG0B87w+U7U7V/bFZpryXNnz7vTb2rVmfNlUU083Y89qN//5QK35n5/8feiet27eHLq+Y8eEQIIJgQQTAgkmBBJMCKRXdmfGKoxptfOq6rvtc2JH57/745+U45vmxoeHhxfGDl5/feie//j003L85Ph4aB47JgQSTAgkmBBIMCHQ+qw5cnAnP0rd9j1H55/jvt09X6yb3c5OH5fj+900m7rFrl3iqmlUW9XlpUeP6/XUczTP0lR/CZt2kU3b4Kr5Mpv5H1yr13Pe7EcPrr1wYeys/Uz1cOeL9cW5F4t26XZMSCSYEEgwIZBgQiDBhEDLxXp9BQ75ewa99JVy+JX/fl6Of6+Z5p3bt8vxOx9+WI5/dr356XP3FHRV2bInb9VM0jgffPRGt5Guj3Gu6vwW2TEhkGBCIMGEQIIJgQQTAq1vnNVHDmqV3e5n+rypvr7UXP+fbvx63UXb3Xf9qH6VfHdMZV07rs13vGStaQsenr+bZo5i7VzPpB0TAgkmBBJMCCSYEEgwIdDy+00hqUvs6JGDVYVtm3M/yS7u292zq4J21dd/NeMPmvHuxINvNOMvN+NdZbP6brrvZa4W11Fd525Xla3WOdezMfrs2TEhkGBCIMGEQIIJgQQTAi0//tHtoapsZ45K2rbvmfSZvnb6sBz/5OW6bnr0/m/K8e5V719vXt3+y7feKsdvfFn30K6mep7ubNbK3ugLlGY6YWBvqtc4R/V49NmYprqOu1rWH9aOCYEEEwIJJgQSTAgkmBBo+c3BH12P9g6mzL2r+851asJpM17XUvt+0PqdU4vF9Wa8eddVuc60EyXm+P+67WdSryxcIYIJgQQTAgkmBBJMCLRc7O9729cuNOfBvvDZ/XL8O8007x79rBz/+Xu/LsdP95uTa7vy4Hl97nCp6dttjTacLgfnb/p8ve0LuBTBhECCCYEEEwIJJgRaLx7Wv6RnHicnJ+X4v/frquy7r71Wjr/SzH/j0Rfl+Feb6+8/brprmwLmeqAqezZYNe1OR+hsun1kWc+zbP694Sr8M4QdEwIJJgQSTAgkmBBIMCFQ9wN1LuHw8PDC2L1798pru6rs4ZtvluN//eijyy6LK8iOCYEEEwIJJgQSTAgkmBBIMCGQYEIgwYRAggmBBBMCacmbUdd+V2pa8v7W/HD9F2/88BIr4qqyY0IgwYRAggmBBBMCCSYEeq6qsstl/TaZaco/0PC3f/h9Of72nTtPeSU8DXZMCCSYEEgwIZBgQiDBhEDPVVU2qvraVIg7u1p5t8qgb/KZZMeEQIIJgQQTAgkmBBJMCPRcVWWjzFQh3nalWfV1N+yYEEgwIZBgQiDBhECCCYFUZa+47lSG2eZvxlVrt8uOCYEEEwIJJgQSTAgkmBBIVZYniqq+brkCPWLbZxTbMSGQYEIgwYRAggmBBBMCqcpydXQVzx0Ua7d9coQdEwIJJgQSTAgkmBBIMCGQYEIgwYRAggmBBBMCCSYEEkwIpFeWnVk2Ta5T1rkJO2HHhECCCYEEEwIJJgRS/GFnFHl6dkwIJJgQSDAhkGBCIMGEQIIJgQQTAgkmBBJMCCSYEEgwIZBgQiDBhECCCYEEEwIJJgQSTAjkBAOeWScnx+X4tMX96ODgoFnLydA8dkwIJJgQSDAhkGBCIMGEQP8DczV/pRFNYikAAAAASUVORK5CYII=\" y=\"-7.50084\"/>\n   </g>\n   <g id=\"matplotlib.axis_1\">\n    <g id=\"xtick_1\">\n     <g id=\"line2d_1\">\n      <defs>\n       <path d=\"M 0 0 \nL 0 3.5 \n\" id=\"me929017b63\" style=\"stroke:#000000;stroke-width:0.8;\"/>\n      </defs>\n      <g>\n       <use style=\"stroke:#000000;stroke-width:0.8;\" x=\"29.863378\" xlink:href=\"#me929017b63\" y=\"225.50084\"/>\n      </g>\n     </g>\n     <g id=\"text_1\">\n      <!-- 0 -->\n      <g transform=\"translate(26.682128 240.099278)scale(0.1 -0.1)\">\n       <defs>\n        <path d=\"M 31.78125 66.40625 \nQ 24.171875 66.40625 20.328125 58.90625 \nQ 16.5 51.421875 16.5 36.375 \nQ 16.5 21.390625 20.328125 13.890625 \nQ 24.171875 6.390625 31.78125 6.390625 \nQ 39.453125 6.390625 43.28125 13.890625 \nQ 47.125 21.390625 47.125 36.375 \nQ 47.125 51.421875 43.28125 58.90625 \nQ 39.453125 66.40625 31.78125 66.40625 \nz\nM 31.78125 74.21875 \nQ 44.046875 74.21875 50.515625 64.515625 \nQ 56.984375 54.828125 56.984375 36.375 \nQ 56.984375 17.96875 50.515625 8.265625 \nQ 44.046875 -1.421875 31.78125 -1.421875 \nQ 19.53125 -1.421875 13.0625 8.265625 \nQ 6.59375 17.96875 6.59375 36.375 \nQ 6.59375 54.828125 13.0625 64.515625 \nQ 19.53125 74.21875 31.78125 74.21875 \nz\n\" id=\"DejaVuSans-48\"/>\n       </defs>\n       <use xlink:href=\"#DejaVuSans-48\"/>\n      </g>\n     </g>\n    </g>\n    <g id=\"xtick_2\">\n     <g id=\"line2d_2\">\n      <g>\n       <use style=\"stroke:#000000;stroke-width:0.8;\" x=\"88.630946\" xlink:href=\"#me929017b63\" y=\"225.50084\"/>\n      </g>\n     </g>\n     <g id=\"text_2\">\n      <!-- 10 -->\n      <g transform=\"translate(82.268446 240.099278)scale(0.1 -0.1)\">\n       <defs>\n        <path d=\"M 12.40625 8.296875 \nL 28.515625 8.296875 \nL 28.515625 63.921875 \nL 10.984375 60.40625 \nL 10.984375 69.390625 \nL 28.421875 72.90625 \nL 38.28125 72.90625 \nL 38.28125 8.296875 \nL 54.390625 8.296875 \nL 54.390625 0 \nL 12.40625 0 \nz\n\" id=\"DejaVuSans-49\"/>\n       </defs>\n       <use xlink:href=\"#DejaVuSans-49\"/>\n       <use x=\"63.623047\" xlink:href=\"#DejaVuSans-48\"/>\n      </g>\n     </g>\n    </g>\n    <g id=\"xtick_3\">\n     <g id=\"line2d_3\">\n      <g>\n       <use style=\"stroke:#000000;stroke-width:0.8;\" x=\"147.398514\" xlink:href=\"#me929017b63\" y=\"225.50084\"/>\n      </g>\n     </g>\n     <g id=\"text_3\">\n      <!-- 20 -->\n      <g transform=\"translate(141.036014 240.099278)scale(0.1 -0.1)\">\n       <defs>\n        <path d=\"M 19.1875 8.296875 \nL 53.609375 8.296875 \nL 53.609375 0 \nL 7.328125 0 \nL 7.328125 8.296875 \nQ 12.9375 14.109375 22.625 23.890625 \nQ 32.328125 33.6875 34.8125 36.53125 \nQ 39.546875 41.84375 41.421875 45.53125 \nQ 43.3125 49.21875 43.3125 52.78125 \nQ 43.3125 58.59375 39.234375 62.25 \nQ 35.15625 65.921875 28.609375 65.921875 \nQ 23.96875 65.921875 18.8125 64.3125 \nQ 13.671875 62.703125 7.8125 59.421875 \nL 7.8125 69.390625 \nQ 13.765625 71.78125 18.9375 73 \nQ 24.125 74.21875 28.421875 74.21875 \nQ 39.75 74.21875 46.484375 68.546875 \nQ 53.21875 62.890625 53.21875 53.421875 \nQ 53.21875 48.921875 51.53125 44.890625 \nQ 49.859375 40.875 45.40625 35.40625 \nQ 44.1875 33.984375 37.640625 27.21875 \nQ 31.109375 20.453125 19.1875 8.296875 \nz\n\" id=\"DejaVuSans-50\"/>\n       </defs>\n       <use xlink:href=\"#DejaVuSans-50\"/>\n       <use x=\"63.623047\" xlink:href=\"#DejaVuSans-48\"/>\n      </g>\n     </g>\n    </g>\n    <g id=\"xtick_4\">\n     <g id=\"line2d_4\">\n      <g>\n       <use style=\"stroke:#000000;stroke-width:0.8;\" x=\"206.166081\" xlink:href=\"#me929017b63\" y=\"225.50084\"/>\n      </g>\n     </g>\n     <g id=\"text_4\">\n      <!-- 30 -->\n      <g transform=\"translate(199.803581 240.099278)scale(0.1 -0.1)\">\n       <defs>\n        <path d=\"M 40.578125 39.3125 \nQ 47.65625 37.796875 51.625 33 \nQ 55.609375 28.21875 55.609375 21.1875 \nQ 55.609375 10.40625 48.1875 4.484375 \nQ 40.765625 -1.421875 27.09375 -1.421875 \nQ 22.515625 -1.421875 17.65625 -0.515625 \nQ 12.796875 0.390625 7.625 2.203125 \nL 7.625 11.71875 \nQ 11.71875 9.328125 16.59375 8.109375 \nQ 21.484375 6.890625 26.8125 6.890625 \nQ 36.078125 6.890625 40.9375 10.546875 \nQ 45.796875 14.203125 45.796875 21.1875 \nQ 45.796875 27.640625 41.28125 31.265625 \nQ 36.765625 34.90625 28.71875 34.90625 \nL 20.21875 34.90625 \nL 20.21875 43.015625 \nL 29.109375 43.015625 \nQ 36.375 43.015625 40.234375 45.921875 \nQ 44.09375 48.828125 44.09375 54.296875 \nQ 44.09375 59.90625 40.109375 62.90625 \nQ 36.140625 65.921875 28.71875 65.921875 \nQ 24.65625 65.921875 20.015625 65.03125 \nQ 15.375 64.15625 9.8125 62.3125 \nL 9.8125 71.09375 \nQ 15.4375 72.65625 20.34375 73.4375 \nQ 25.25 74.21875 29.59375 74.21875 \nQ 40.828125 74.21875 47.359375 69.109375 \nQ 53.90625 64.015625 53.90625 55.328125 \nQ 53.90625 49.265625 50.4375 45.09375 \nQ 46.96875 40.921875 40.578125 39.3125 \nz\n\" id=\"DejaVuSans-51\"/>\n       </defs>\n       <use xlink:href=\"#DejaVuSans-51\"/>\n       <use x=\"63.623047\" xlink:href=\"#DejaVuSans-48\"/>\n      </g>\n     </g>\n    </g>\n   </g>\n   <g id=\"matplotlib.axis_2\">\n    <g id=\"ytick_1\">\n     <g id=\"line2d_5\">\n      <defs>\n       <path d=\"M 0 0 \nL -3.5 0 \n\" id=\"m61136a470e\" style=\"stroke:#000000;stroke-width:0.8;\"/>\n      </defs>\n      <g>\n       <use style=\"stroke:#000000;stroke-width:0.8;\" x=\"26.925\" xlink:href=\"#m61136a470e\" y=\"10.999219\"/>\n      </g>\n     </g>\n     <g id=\"text_5\">\n      <!-- 0 -->\n      <g transform=\"translate(13.5625 14.798437)scale(0.1 -0.1)\">\n       <use xlink:href=\"#DejaVuSans-48\"/>\n      </g>\n     </g>\n    </g>\n    <g id=\"ytick_2\">\n     <g id=\"line2d_6\">\n      <g>\n       <use style=\"stroke:#000000;stroke-width:0.8;\" x=\"26.925\" xlink:href=\"#m61136a470e\" y=\"40.383003\"/>\n      </g>\n     </g>\n     <g id=\"text_6\">\n      <!-- 5 -->\n      <g transform=\"translate(13.5625 44.182221)scale(0.1 -0.1)\">\n       <defs>\n        <path d=\"M 10.796875 72.90625 \nL 49.515625 72.90625 \nL 49.515625 64.59375 \nL 19.828125 64.59375 \nL 19.828125 46.734375 \nQ 21.96875 47.46875 24.109375 47.828125 \nQ 26.265625 48.1875 28.421875 48.1875 \nQ 40.625 48.1875 47.75 41.5 \nQ 54.890625 34.8125 54.890625 23.390625 \nQ 54.890625 11.625 47.5625 5.09375 \nQ 40.234375 -1.421875 26.90625 -1.421875 \nQ 22.3125 -1.421875 17.546875 -0.640625 \nQ 12.796875 0.140625 7.71875 1.703125 \nL 7.71875 11.625 \nQ 12.109375 9.234375 16.796875 8.0625 \nQ 21.484375 6.890625 26.703125 6.890625 \nQ 35.15625 6.890625 40.078125 11.328125 \nQ 45.015625 15.765625 45.015625 23.390625 \nQ 45.015625 31 40.078125 35.4375 \nQ 35.15625 39.890625 26.703125 39.890625 \nQ 22.75 39.890625 18.8125 39.015625 \nQ 14.890625 38.140625 10.796875 36.28125 \nz\n\" id=\"DejaVuSans-53\"/>\n       </defs>\n       <use xlink:href=\"#DejaVuSans-53\"/>\n      </g>\n     </g>\n    </g>\n    <g id=\"ytick_3\">\n     <g id=\"line2d_7\">\n      <g>\n       <use style=\"stroke:#000000;stroke-width:0.8;\" x=\"26.925\" xlink:href=\"#m61136a470e\" y=\"69.766786\"/>\n      </g>\n     </g>\n     <g id=\"text_7\">\n      <!-- 10 -->\n      <g transform=\"translate(7.2 73.566005)scale(0.1 -0.1)\">\n       <use xlink:href=\"#DejaVuSans-49\"/>\n       <use x=\"63.623047\" xlink:href=\"#DejaVuSans-48\"/>\n      </g>\n     </g>\n    </g>\n    <g id=\"ytick_4\">\n     <g id=\"line2d_8\">\n      <g>\n       <use style=\"stroke:#000000;stroke-width:0.8;\" x=\"26.925\" xlink:href=\"#m61136a470e\" y=\"99.15057\"/>\n      </g>\n     </g>\n     <g id=\"text_8\">\n      <!-- 15 -->\n      <g transform=\"translate(7.2 102.949789)scale(0.1 -0.1)\">\n       <use xlink:href=\"#DejaVuSans-49\"/>\n       <use x=\"63.623047\" xlink:href=\"#DejaVuSans-53\"/>\n      </g>\n     </g>\n    </g>\n    <g id=\"ytick_5\">\n     <g id=\"line2d_9\">\n      <g>\n       <use style=\"stroke:#000000;stroke-width:0.8;\" x=\"26.925\" xlink:href=\"#m61136a470e\" y=\"128.534354\"/>\n      </g>\n     </g>\n     <g id=\"text_9\">\n      <!-- 20 -->\n      <g transform=\"translate(7.2 132.333573)scale(0.1 -0.1)\">\n       <use xlink:href=\"#DejaVuSans-50\"/>\n       <use x=\"63.623047\" xlink:href=\"#DejaVuSans-48\"/>\n      </g>\n     </g>\n    </g>\n    <g id=\"ytick_6\">\n     <g id=\"line2d_10\">\n      <g>\n       <use style=\"stroke:#000000;stroke-width:0.8;\" x=\"26.925\" xlink:href=\"#m61136a470e\" y=\"157.918138\"/>\n      </g>\n     </g>\n     <g id=\"text_10\">\n      <!-- 25 -->\n      <g transform=\"translate(7.2 161.717356)scale(0.1 -0.1)\">\n       <use xlink:href=\"#DejaVuSans-50\"/>\n       <use x=\"63.623047\" xlink:href=\"#DejaVuSans-53\"/>\n      </g>\n     </g>\n    </g>\n    <g id=\"ytick_7\">\n     <g id=\"line2d_11\">\n      <g>\n       <use style=\"stroke:#000000;stroke-width:0.8;\" x=\"26.925\" xlink:href=\"#m61136a470e\" y=\"187.301921\"/>\n      </g>\n     </g>\n     <g id=\"text_11\">\n      <!-- 30 -->\n      <g transform=\"translate(7.2 191.10114)scale(0.1 -0.1)\">\n       <use xlink:href=\"#DejaVuSans-51\"/>\n       <use x=\"63.623047\" xlink:href=\"#DejaVuSans-48\"/>\n      </g>\n     </g>\n    </g>\n    <g id=\"ytick_8\">\n     <g id=\"line2d_12\">\n      <g>\n       <use style=\"stroke:#000000;stroke-width:0.8;\" x=\"26.925\" xlink:href=\"#m61136a470e\" y=\"216.685705\"/>\n      </g>\n     </g>\n     <g id=\"text_12\">\n      <!-- 35 -->\n      <g transform=\"translate(7.2 220.484924)scale(0.1 -0.1)\">\n       <use xlink:href=\"#DejaVuSans-51\"/>\n       <use x=\"63.623047\" xlink:href=\"#DejaVuSans-53\"/>\n      </g>\n     </g>\n    </g>\n   </g>\n   <g id=\"patch_3\">\n    <path d=\"M 26.925 225.50084 \nL 26.925 8.06084 \n\" style=\"fill:none;stroke:#000000;stroke-linecap:square;stroke-linejoin:miter;stroke-width:0.8;\"/>\n   </g>\n   <g id=\"patch_4\">\n    <path d=\"M 256.118514 225.50084 \nL 256.118514 8.06084 \n\" style=\"fill:none;stroke:#000000;stroke-linecap:square;stroke-linejoin:miter;stroke-width:0.8;\"/>\n   </g>\n   <g id=\"patch_5\">\n    <path d=\"M 26.925 225.50084 \nL 256.118514 225.50084 \n\" style=\"fill:none;stroke:#000000;stroke-linecap:square;stroke-linejoin:miter;stroke-width:0.8;\"/>\n   </g>\n   <g id=\"patch_6\">\n    <path d=\"M 26.925 8.06084 \nL 256.118514 8.06084 \n\" style=\"fill:none;stroke:#000000;stroke-linecap:square;stroke-linejoin:miter;stroke-width:0.8;\"/>\n   </g>\n  </g>\n </g>\n <defs>\n  <clipPath id=\"p8f4fbbe833\">\n   <rect height=\"217.44\" width=\"229.193514\" x=\"26.925\" y=\"8.06084\"/>\n  </clipPath>\n </defs>\n</svg>\n",
      "image/png": "[encoded data removed]"
     },
     "metadata": {
      "needs_background": "light"
     }
    }
   ],
   "source": [
    "visualize_all_image(target_file_nearest)"
   ]
  },
  {
   "cell_type": "code",
   "execution_count": 57,
   "metadata": {},
   "outputs": [
    {
     "output_type": "stream",
     "name": "stdout",
     "text": [
      "/home/jc225751/Program/deep_folding/data/target/data/linear/Lcrops/100206_normalized.nii.gz\n"
     ]
    }
   ],
   "source": [
    "target_file_dir = tgt_dir + '/' + side + 'crops'\n",
    "target_file_linear = glob.glob(target_file_dir + \"/*.nii.gz\")[0]\n",
    "print(target_file_linear)"
   ]
  },
  {
   "cell_type": "code",
   "execution_count": 58,
   "metadata": {},
   "outputs": [
    {
     "output_type": "execute_result",
     "data": {
      "text/plain": [
       "(<anatomist.cpp.anatomist.SliceableObject object at 0x7f6909895e58>,\n",
       " <anatomist.cpp.weak_shared_ptr_AWindow object at 0x7f6909895b88>)"
      ]
     },
     "metadata": {},
     "execution_count": 58
    },
    {
     "output_type": "display_data",
     "data": {
      "text/plain": "<Figure size 432x288 with 1 Axes>",
      "image/svg+xml": "<?xml version=\"1.0\" encoding=\"utf-8\" standalone=\"no\"?>\n<!DOCTYPE svg PUBLIC \"-//W3C//DTD SVG 1.1//EN\"\n  \"http://www.w3.org/Graphics/SVG/1.1/DTD/svg11.dtd\">\n<!-- Created with matplotlib (https://matplotlib.org/) -->\n<svg height=\"249.378965pt\" version=\"1.1\" viewBox=\"0 0 263.318514 249.378965\" width=\"263.318514pt\" xmlns=\"http://www.w3.org/2000/svg\" xmlns:xlink=\"http://www.w3.org/1999/xlink\">\n <metadata>\n  <rdf:RDF xmlns:cc=\"http://creativecommons.org/ns#\" xmlns:dc=\"http://purl.org/dc/elements/1.1/\" xmlns:rdf=\"http://www.w3.org/1999/02/22-rdf-syntax-ns#\">\n   <cc:Work>\n    <dc:type rdf:resource=\"http://purl.org/dc/dcmitype/StillImage\"/>\n    <dc:date>2021-06-24T18:55:42.549592</dc:date>\n    <dc:format>image/svg+xml</dc:format>\n    <dc:creator>\n     <cc:Agent>\n      <dc:title>Matplotlib v3.3.4, https://matplotlib.org/</dc:title>\n     </cc:Agent>\n    </dc:creator>\n   </cc:Work>\n  </rdf:RDF>\n </metadata>\n <defs>\n  <style type=\"text/css\">*{stroke-linecap:butt;stroke-linejoin:round;}</style>\n </defs>\n <g id=\"figure_1\">\n  <g id=\"patch_1\">\n   <path d=\"M 0 249.378965 \nL 263.318514 249.378965 \nL 263.318514 0 \nL 0 0 \nz\n\" style=\"fill:none;\"/>\n  </g>\n  <g id=\"axes_1\">\n   <g id=\"patch_2\">\n    <path d=\"M 26.925 225.50084 \nL 256.118514 225.50084 \nL 256.118514 8.06084 \nL 26.925 8.06084 \nz\n\" style=\"fill:#ffffff;\"/>\n   </g>\n   <g clip-path=\"url(#pf0a5ad839c)\">\n    <image height=\"218\" id=\"image547b3bf030\" transform=\"scale(1 -1)translate(0 -218)\" width=\"230\" x=\"26.925\" xlink:href=\"data:image/png;base64,\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\" y=\"-7.50084\"/>\n   </g>\n   <g id=\"matplotlib.axis_1\">\n    <g id=\"xtick_1\">\n     <g id=\"line2d_1\">\n      <defs>\n       <path d=\"M 0 0 \nL 0 3.5 \n\" id=\"m6dbe117ce5\" style=\"stroke:#000000;stroke-width:0.8;\"/>\n      </defs>\n      <g>\n       <use style=\"stroke:#000000;stroke-width:0.8;\" x=\"29.863378\" xlink:href=\"#m6dbe117ce5\" y=\"225.50084\"/>\n      </g>\n     </g>\n     <g id=\"text_1\">\n      <!-- 0 -->\n      <g transform=\"translate(26.682128 240.099278)scale(0.1 -0.1)\">\n       <defs>\n        <path d=\"M 31.78125 66.40625 \nQ 24.171875 66.40625 20.328125 58.90625 \nQ 16.5 51.421875 16.5 36.375 \nQ 16.5 21.390625 20.328125 13.890625 \nQ 24.171875 6.390625 31.78125 6.390625 \nQ 39.453125 6.390625 43.28125 13.890625 \nQ 47.125 21.390625 47.125 36.375 \nQ 47.125 51.421875 43.28125 58.90625 \nQ 39.453125 66.40625 31.78125 66.40625 \nz\nM 31.78125 74.21875 \nQ 44.046875 74.21875 50.515625 64.515625 \nQ 56.984375 54.828125 56.984375 36.375 \nQ 56.984375 17.96875 50.515625 8.265625 \nQ 44.046875 -1.421875 31.78125 -1.421875 \nQ 19.53125 -1.421875 13.0625 8.265625 \nQ 6.59375 17.96875 6.59375 36.375 \nQ 6.59375 54.828125 13.0625 64.515625 \nQ 19.53125 74.21875 31.78125 74.21875 \nz\n\" id=\"DejaVuSans-48\"/>\n       </defs>\n       <use xlink:href=\"#DejaVuSans-48\"/>\n      </g>\n     </g>\n    </g>\n    <g id=\"xtick_2\">\n     <g id=\"line2d_2\">\n      <g>\n       <use style=\"stroke:#000000;stroke-width:0.8;\" x=\"88.630946\" xlink:href=\"#m6dbe117ce5\" y=\"225.50084\"/>\n      </g>\n     </g>\n     <g id=\"text_2\">\n      <!-- 10 -->\n      <g transform=\"translate(82.268446 240.099278)scale(0.1 -0.1)\">\n       <defs>\n        <path d=\"M 12.40625 8.296875 \nL 28.515625 8.296875 \nL 28.515625 63.921875 \nL 10.984375 60.40625 \nL 10.984375 69.390625 \nL 28.421875 72.90625 \nL 38.28125 72.90625 \nL 38.28125 8.296875 \nL 54.390625 8.296875 \nL 54.390625 0 \nL 12.40625 0 \nz\n\" id=\"DejaVuSans-49\"/>\n       </defs>\n       <use xlink:href=\"#DejaVuSans-49\"/>\n       <use x=\"63.623047\" xlink:href=\"#DejaVuSans-48\"/>\n      </g>\n     </g>\n    </g>\n    <g id=\"xtick_3\">\n     <g id=\"line2d_3\">\n      <g>\n       <use style=\"stroke:#000000;stroke-width:0.8;\" x=\"147.398514\" xlink:href=\"#m6dbe117ce5\" y=\"225.50084\"/>\n      </g>\n     </g>\n     <g id=\"text_3\">\n      <!-- 20 -->\n      <g transform=\"translate(141.036014 240.099278)scale(0.1 -0.1)\">\n       <defs>\n        <path d=\"M 19.1875 8.296875 \nL 53.609375 8.296875 \nL 53.609375 0 \nL 7.328125 0 \nL 7.328125 8.296875 \nQ 12.9375 14.109375 22.625 23.890625 \nQ 32.328125 33.6875 34.8125 36.53125 \nQ 39.546875 41.84375 41.421875 45.53125 \nQ 43.3125 49.21875 43.3125 52.78125 \nQ 43.3125 58.59375 39.234375 62.25 \nQ 35.15625 65.921875 28.609375 65.921875 \nQ 23.96875 65.921875 18.8125 64.3125 \nQ 13.671875 62.703125 7.8125 59.421875 \nL 7.8125 69.390625 \nQ 13.765625 71.78125 18.9375 73 \nQ 24.125 74.21875 28.421875 74.21875 \nQ 39.75 74.21875 46.484375 68.546875 \nQ 53.21875 62.890625 53.21875 53.421875 \nQ 53.21875 48.921875 51.53125 44.890625 \nQ 49.859375 40.875 45.40625 35.40625 \nQ 44.1875 33.984375 37.640625 27.21875 \nQ 31.109375 20.453125 19.1875 8.296875 \nz\n\" id=\"DejaVuSans-50\"/>\n       </defs>\n       <use xlink:href=\"#DejaVuSans-50\"/>\n       <use x=\"63.623047\" xlink:href=\"#DejaVuSans-48\"/>\n      </g>\n     </g>\n    </g>\n    <g id=\"xtick_4\">\n     <g id=\"line2d_4\">\n      <g>\n       <use style=\"stroke:#000000;stroke-width:0.8;\" x=\"206.166081\" xlink:href=\"#m6dbe117ce5\" y=\"225.50084\"/>\n      </g>\n     </g>\n     <g id=\"text_4\">\n      <!-- 30 -->\n      <g transform=\"translate(199.803581 240.099278)scale(0.1 -0.1)\">\n       <defs>\n        <path d=\"M 40.578125 39.3125 \nQ 47.65625 37.796875 51.625 33 \nQ 55.609375 28.21875 55.609375 21.1875 \nQ 55.609375 10.40625 48.1875 4.484375 \nQ 40.765625 -1.421875 27.09375 -1.421875 \nQ 22.515625 -1.421875 17.65625 -0.515625 \nQ 12.796875 0.390625 7.625 2.203125 \nL 7.625 11.71875 \nQ 11.71875 9.328125 16.59375 8.109375 \nQ 21.484375 6.890625 26.8125 6.890625 \nQ 36.078125 6.890625 40.9375 10.546875 \nQ 45.796875 14.203125 45.796875 21.1875 \nQ 45.796875 27.640625 41.28125 31.265625 \nQ 36.765625 34.90625 28.71875 34.90625 \nL 20.21875 34.90625 \nL 20.21875 43.015625 \nL 29.109375 43.015625 \nQ 36.375 43.015625 40.234375 45.921875 \nQ 44.09375 48.828125 44.09375 54.296875 \nQ 44.09375 59.90625 40.109375 62.90625 \nQ 36.140625 65.921875 28.71875 65.921875 \nQ 24.65625 65.921875 20.015625 65.03125 \nQ 15.375 64.15625 9.8125 62.3125 \nL 9.8125 71.09375 \nQ 15.4375 72.65625 20.34375 73.4375 \nQ 25.25 74.21875 29.59375 74.21875 \nQ 40.828125 74.21875 47.359375 69.109375 \nQ 53.90625 64.015625 53.90625 55.328125 \nQ 53.90625 49.265625 50.4375 45.09375 \nQ 46.96875 40.921875 40.578125 39.3125 \nz\n\" id=\"DejaVuSans-51\"/>\n       </defs>\n       <use xlink:href=\"#DejaVuSans-51\"/>\n       <use x=\"63.623047\" xlink:href=\"#DejaVuSans-48\"/>\n      </g>\n     </g>\n    </g>\n   </g>\n   <g id=\"matplotlib.axis_2\">\n    <g id=\"ytick_1\">\n     <g id=\"line2d_5\">\n      <defs>\n       <path d=\"M 0 0 \nL -3.5 0 \n\" id=\"m09c0f60761\" style=\"stroke:#000000;stroke-width:0.8;\"/>\n      </defs>\n      <g>\n       <use style=\"stroke:#000000;stroke-width:0.8;\" x=\"26.925\" xlink:href=\"#m09c0f60761\" y=\"10.999219\"/>\n      </g>\n     </g>\n     <g id=\"text_5\">\n      <!-- 0 -->\n      <g transform=\"translate(13.5625 14.798437)scale(0.1 -0.1)\">\n       <use xlink:href=\"#DejaVuSans-48\"/>\n      </g>\n     </g>\n    </g>\n    <g id=\"ytick_2\">\n     <g id=\"line2d_6\">\n      <g>\n       <use style=\"stroke:#000000;stroke-width:0.8;\" x=\"26.925\" xlink:href=\"#m09c0f60761\" y=\"40.383003\"/>\n      </g>\n     </g>\n     <g id=\"text_6\">\n      <!-- 5 -->\n      <g transform=\"translate(13.5625 44.182221)scale(0.1 -0.1)\">\n       <defs>\n        <path d=\"M 10.796875 72.90625 \nL 49.515625 72.90625 \nL 49.515625 64.59375 \nL 19.828125 64.59375 \nL 19.828125 46.734375 \nQ 21.96875 47.46875 24.109375 47.828125 \nQ 26.265625 48.1875 28.421875 48.1875 \nQ 40.625 48.1875 47.75 41.5 \nQ 54.890625 34.8125 54.890625 23.390625 \nQ 54.890625 11.625 47.5625 5.09375 \nQ 40.234375 -1.421875 26.90625 -1.421875 \nQ 22.3125 -1.421875 17.546875 -0.640625 \nQ 12.796875 0.140625 7.71875 1.703125 \nL 7.71875 11.625 \nQ 12.109375 9.234375 16.796875 8.0625 \nQ 21.484375 6.890625 26.703125 6.890625 \nQ 35.15625 6.890625 40.078125 11.328125 \nQ 45.015625 15.765625 45.015625 23.390625 \nQ 45.015625 31 40.078125 35.4375 \nQ 35.15625 39.890625 26.703125 39.890625 \nQ 22.75 39.890625 18.8125 39.015625 \nQ 14.890625 38.140625 10.796875 36.28125 \nz\n\" id=\"DejaVuSans-53\"/>\n       </defs>\n       <use xlink:href=\"#DejaVuSans-53\"/>\n      </g>\n     </g>\n    </g>\n    <g id=\"ytick_3\">\n     <g id=\"line2d_7\">\n      <g>\n       <use style=\"stroke:#000000;stroke-width:0.8;\" x=\"26.925\" xlink:href=\"#m09c0f60761\" y=\"69.766786\"/>\n      </g>\n     </g>\n     <g id=\"text_7\">\n      <!-- 10 -->\n      <g transform=\"translate(7.2 73.566005)scale(0.1 -0.1)\">\n       <use xlink:href=\"#DejaVuSans-49\"/>\n       <use x=\"63.623047\" xlink:href=\"#DejaVuSans-48\"/>\n      </g>\n     </g>\n    </g>\n    <g id=\"ytick_4\">\n     <g id=\"line2d_8\">\n      <g>\n       <use style=\"stroke:#000000;stroke-width:0.8;\" x=\"26.925\" xlink:href=\"#m09c0f60761\" y=\"99.15057\"/>\n      </g>\n     </g>\n     <g id=\"text_8\">\n      <!-- 15 -->\n      <g transform=\"translate(7.2 102.949789)scale(0.1 -0.1)\">\n       <use xlink:href=\"#DejaVuSans-49\"/>\n       <use x=\"63.623047\" xlink:href=\"#DejaVuSans-53\"/>\n      </g>\n     </g>\n    </g>\n    <g id=\"ytick_5\">\n     <g id=\"line2d_9\">\n      <g>\n       <use style=\"stroke:#000000;stroke-width:0.8;\" x=\"26.925\" xlink:href=\"#m09c0f60761\" y=\"128.534354\"/>\n      </g>\n     </g>\n     <g id=\"text_9\">\n      <!-- 20 -->\n      <g transform=\"translate(7.2 132.333573)scale(0.1 -0.1)\">\n       <use xlink:href=\"#DejaVuSans-50\"/>\n       <use x=\"63.623047\" xlink:href=\"#DejaVuSans-48\"/>\n      </g>\n     </g>\n    </g>\n    <g id=\"ytick_6\">\n     <g id=\"line2d_10\">\n      <g>\n       <use style=\"stroke:#000000;stroke-width:0.8;\" x=\"26.925\" xlink:href=\"#m09c0f60761\" y=\"157.918138\"/>\n      </g>\n     </g>\n     <g id=\"text_10\">\n      <!-- 25 -->\n      <g transform=\"translate(7.2 161.717356)scale(0.1 -0.1)\">\n       <use xlink:href=\"#DejaVuSans-50\"/>\n       <use x=\"63.623047\" xlink:href=\"#DejaVuSans-53\"/>\n      </g>\n     </g>\n    </g>\n    <g id=\"ytick_7\">\n     <g id=\"line2d_11\">\n      <g>\n       <use style=\"stroke:#000000;stroke-width:0.8;\" x=\"26.925\" xlink:href=\"#m09c0f60761\" y=\"187.301921\"/>\n      </g>\n     </g>\n     <g id=\"text_11\">\n      <!-- 30 -->\n      <g transform=\"translate(7.2 191.10114)scale(0.1 -0.1)\">\n       <use xlink:href=\"#DejaVuSans-51\"/>\n       <use x=\"63.623047\" xlink:href=\"#DejaVuSans-48\"/>\n      </g>\n     </g>\n    </g>\n    <g id=\"ytick_8\">\n     <g id=\"line2d_12\">\n      <g>\n       <use style=\"stroke:#000000;stroke-width:0.8;\" x=\"26.925\" xlink:href=\"#m09c0f60761\" y=\"216.685705\"/>\n      </g>\n     </g>\n     <g id=\"text_12\">\n      <!-- 35 -->\n      <g transform=\"translate(7.2 220.484924)scale(0.1 -0.1)\">\n       <use xlink:href=\"#DejaVuSans-51\"/>\n       <use x=\"63.623047\" xlink:href=\"#DejaVuSans-53\"/>\n      </g>\n     </g>\n    </g>\n   </g>\n   <g id=\"patch_3\">\n    <path d=\"M 26.925 225.50084 \nL 26.925 8.06084 \n\" style=\"fill:none;stroke:#000000;stroke-linecap:square;stroke-linejoin:miter;stroke-width:0.8;\"/>\n   </g>\n   <g id=\"patch_4\">\n    <path d=\"M 256.118514 225.50084 \nL 256.118514 8.06084 \n\" style=\"fill:none;stroke:#000000;stroke-linecap:square;stroke-linejoin:miter;stroke-width:0.8;\"/>\n   </g>\n   <g id=\"patch_5\">\n    <path d=\"M 26.925 225.50084 \nL 256.118514 225.50084 \n\" style=\"fill:none;stroke:#000000;stroke-linecap:square;stroke-linejoin:miter;stroke-width:0.8;\"/>\n   </g>\n   <g id=\"patch_6\">\n    <path d=\"M 26.925 8.06084 \nL 256.118514 8.06084 \n\" style=\"fill:none;stroke:#000000;stroke-linecap:square;stroke-linejoin:miter;stroke-width:0.8;\"/>\n   </g>\n  </g>\n </g>\n <defs>\n  <clipPath id=\"pf0a5ad839c\">\n   <rect height=\"217.44\" width=\"229.193514\" x=\"26.925\" y=\"8.06084\"/>\n  </clipPath>\n </defs>\n</svg>\n",
      "image/png": "[encoded data removed]"
     },
     "metadata": {
      "needs_background": "light"
     }
    }
   ],
   "source": [
    "visualize_all_image(target_file_linear)"
   ]
  },
  {
   "cell_type": "code",
   "execution_count": 59,
   "metadata": {},
   "outputs": [
    {
     "output_type": "execute_result",
     "data": {
      "text/plain": [
       "(<anatomist.cpp.anatomist.SliceableObject object at 0x7f690100c438>,\n",
       " <anatomist.cpp.weak_shared_ptr_AWindow object at 0x7f68f8842ee8>)"
      ]
     },
     "metadata": {},
     "execution_count": 59
    },
    {
     "output_type": "display_data",
     "data": {
      "text/plain": "<Figure size 432x288 with 1 Axes>",
      "image/svg+xml": "<?xml version=\"1.0\" encoding=\"utf-8\" standalone=\"no\"?>\n<!DOCTYPE svg PUBLIC \"-//W3C//DTD SVG 1.1//EN\"\n  \"http://www.w3.org/Graphics/SVG/1.1/DTD/svg11.dtd\">\n<!-- Created with matplotlib (https://matplotlib.org/) -->\n<svg height=\"251.983847pt\" version=\"1.1\" viewBox=\"0 0 222.576825 251.983847\" width=\"222.576825pt\" xmlns=\"http://www.w3.org/2000/svg\" xmlns:xlink=\"http://www.w3.org/1999/xlink\">\n <metadata>\n  <rdf:RDF xmlns:cc=\"http://creativecommons.org/ns#\" xmlns:dc=\"http://purl.org/dc/elements/1.1/\" xmlns:rdf=\"http://www.w3.org/1999/02/22-rdf-syntax-ns#\">\n   <cc:Work>\n    <dc:type rdf:resource=\"http://purl.org/dc/dcmitype/StillImage\"/>\n    <dc:date>2021-06-24T18:55:43.419154</dc:date>\n    <dc:format>image/svg+xml</dc:format>\n    <dc:creator>\n     <cc:Agent>\n      <dc:title>Matplotlib v3.3.4, https://matplotlib.org/</dc:title>\n     </cc:Agent>\n    </dc:creator>\n   </cc:Work>\n  </rdf:RDF>\n </metadata>\n <defs>\n  <style type=\"text/css\">*{stroke-linecap:butt;stroke-linejoin:round;}</style>\n </defs>\n <g id=\"figure_1\">\n  <g id=\"patch_1\">\n   <path d=\"M 0 251.983847 \nL 222.576825 251.983847 \nL 222.576825 0 \nL 0 0 \nz\n\" style=\"fill:none;\"/>\n  </g>\n  <g id=\"axes_1\">\n   <g id=\"patch_2\">\n    <path d=\"M 33.2875 228.105722 \nL 215.376825 228.105722 \nL 215.376825 10.665722 \nL 33.2875 10.665722 \nz\n\" style=\"fill:#ffffff;\"/>\n   </g>\n   <g clip-path=\"url(#p3242a1c6f8)\">\n    <image height=\"218\" id=\"image967b19ba49\" transform=\"scale(1 -1)translate(0 -218)\" width=\"183\" x=\"33.2875\" xlink:href=\"data:image/png;base64,\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\" y=\"-10.105722\"/>\n   </g>\n   <g id=\"matplotlib.axis_1\">\n    <g id=\"xtick_1\">\n     <g id=\"line2d_1\">\n      <defs>\n       <path d=\"M 0 0 \nL 0 3.5 \n\" id=\"m0d47e0f745\" style=\"stroke:#000000;stroke-width:0.8;\"/>\n      </defs>\n      <g>\n       <use style=\"stroke:#000000;stroke-width:0.8;\" x=\"33.620997\" xlink:href=\"#m0d47e0f745\" y=\"228.105722\"/>\n      </g>\n     </g>\n     <g id=\"text_1\">\n      <!-- 0 -->\n      <g transform=\"translate(30.439747 242.704159)scale(0.1 -0.1)\">\n       <defs>\n        <path d=\"M 31.78125 66.40625 \nQ 24.171875 66.40625 20.328125 58.90625 \nQ 16.5 51.421875 16.5 36.375 \nQ 16.5 21.390625 20.328125 13.890625 \nQ 24.171875 6.390625 31.78125 6.390625 \nQ 39.453125 6.390625 43.28125 13.890625 \nQ 47.125 21.390625 47.125 36.375 \nQ 47.125 51.421875 43.28125 58.90625 \nQ 39.453125 66.40625 31.78125 66.40625 \nz\nM 31.78125 74.21875 \nQ 44.046875 74.21875 50.515625 64.515625 \nQ 56.984375 54.828125 56.984375 36.375 \nQ 56.984375 17.96875 50.515625 8.265625 \nQ 44.046875 -1.421875 31.78125 -1.421875 \nQ 19.53125 -1.421875 13.0625 8.265625 \nQ 6.59375 17.96875 6.59375 36.375 \nQ 6.59375 54.828125 13.0625 64.515625 \nQ 19.53125 74.21875 31.78125 74.21875 \nz\n\" id=\"DejaVuSans-48\"/>\n       </defs>\n       <use xlink:href=\"#DejaVuSans-48\"/>\n      </g>\n     </g>\n    </g>\n    <g id=\"xtick_2\">\n     <g id=\"line2d_2\">\n      <g>\n       <use style=\"stroke:#000000;stroke-width:0.8;\" x=\"66.97069\" xlink:href=\"#m0d47e0f745\" y=\"228.105722\"/>\n      </g>\n     </g>\n     <g id=\"text_2\">\n      <!-- 50 -->\n      <g transform=\"translate(60.60819 242.704159)scale(0.1 -0.1)\">\n       <defs>\n        <path d=\"M 10.796875 72.90625 \nL 49.515625 72.90625 \nL 49.515625 64.59375 \nL 19.828125 64.59375 \nL 19.828125 46.734375 \nQ 21.96875 47.46875 24.109375 47.828125 \nQ 26.265625 48.1875 28.421875 48.1875 \nQ 40.625 48.1875 47.75 41.5 \nQ 54.890625 34.8125 54.890625 23.390625 \nQ 54.890625 11.625 47.5625 5.09375 \nQ 40.234375 -1.421875 26.90625 -1.421875 \nQ 22.3125 -1.421875 17.546875 -0.640625 \nQ 12.796875 0.140625 7.71875 1.703125 \nL 7.71875 11.625 \nQ 12.109375 9.234375 16.796875 8.0625 \nQ 21.484375 6.890625 26.703125 6.890625 \nQ 35.15625 6.890625 40.078125 11.328125 \nQ 45.015625 15.765625 45.015625 23.390625 \nQ 45.015625 31 40.078125 35.4375 \nQ 35.15625 39.890625 26.703125 39.890625 \nQ 22.75 39.890625 18.8125 39.015625 \nQ 14.890625 38.140625 10.796875 36.28125 \nz\n\" id=\"DejaVuSans-53\"/>\n       </defs>\n       <use xlink:href=\"#DejaVuSans-53\"/>\n       <use x=\"63.623047\" xlink:href=\"#DejaVuSans-48\"/>\n      </g>\n     </g>\n    </g>\n    <g id=\"xtick_3\">\n     <g id=\"line2d_3\">\n      <g>\n       <use style=\"stroke:#000000;stroke-width:0.8;\" x=\"100.320383\" xlink:href=\"#m0d47e0f745\" y=\"228.105722\"/>\n      </g>\n     </g>\n     <g id=\"text_3\">\n      <!-- 100 -->\n      <g transform=\"translate(90.776633 242.704159)scale(0.1 -0.1)\">\n       <defs>\n        <path d=\"M 12.40625 8.296875 \nL 28.515625 8.296875 \nL 28.515625 63.921875 \nL 10.984375 60.40625 \nL 10.984375 69.390625 \nL 28.421875 72.90625 \nL 38.28125 72.90625 \nL 38.28125 8.296875 \nL 54.390625 8.296875 \nL 54.390625 0 \nL 12.40625 0 \nz\n\" id=\"DejaVuSans-49\"/>\n       </defs>\n       <use xlink:href=\"#DejaVuSans-49\"/>\n       <use x=\"63.623047\" xlink:href=\"#DejaVuSans-48\"/>\n       <use x=\"127.246094\" xlink:href=\"#DejaVuSans-48\"/>\n      </g>\n     </g>\n    </g>\n    <g id=\"xtick_4\">\n     <g id=\"line2d_4\">\n      <g>\n       <use style=\"stroke:#000000;stroke-width:0.8;\" x=\"133.670077\" xlink:href=\"#m0d47e0f745\" y=\"228.105722\"/>\n      </g>\n     </g>\n     <g id=\"text_4\">\n      <!-- 150 -->\n      <g transform=\"translate(124.126327 242.704159)scale(0.1 -0.1)\">\n       <use xlink:href=\"#DejaVuSans-49\"/>\n       <use x=\"63.623047\" xlink:href=\"#DejaVuSans-53\"/>\n       <use x=\"127.246094\" xlink:href=\"#DejaVuSans-48\"/>\n      </g>\n     </g>\n    </g>\n    <g id=\"xtick_5\">\n     <g id=\"line2d_5\">\n      <g>\n       <use style=\"stroke:#000000;stroke-width:0.8;\" x=\"167.01977\" xlink:href=\"#m0d47e0f745\" y=\"228.105722\"/>\n      </g>\n     </g>\n     <g id=\"text_5\">\n      <!-- 200 -->\n      <g transform=\"translate(157.47602 242.704159)scale(0.1 -0.1)\">\n       <defs>\n        <path d=\"M 19.1875 8.296875 \nL 53.609375 8.296875 \nL 53.609375 0 \nL 7.328125 0 \nL 7.328125 8.296875 \nQ 12.9375 14.109375 22.625 23.890625 \nQ 32.328125 33.6875 34.8125 36.53125 \nQ 39.546875 41.84375 41.421875 45.53125 \nQ 43.3125 49.21875 43.3125 52.78125 \nQ 43.3125 58.59375 39.234375 62.25 \nQ 35.15625 65.921875 28.609375 65.921875 \nQ 23.96875 65.921875 18.8125 64.3125 \nQ 13.671875 62.703125 7.8125 59.421875 \nL 7.8125 69.390625 \nQ 13.765625 71.78125 18.9375 73 \nQ 24.125 74.21875 28.421875 74.21875 \nQ 39.75 74.21875 46.484375 68.546875 \nQ 53.21875 62.890625 53.21875 53.421875 \nQ 53.21875 48.921875 51.53125 44.890625 \nQ 49.859375 40.875 45.40625 35.40625 \nQ 44.1875 33.984375 37.640625 27.21875 \nQ 31.109375 20.453125 19.1875 8.296875 \nz\n\" id=\"DejaVuSans-50\"/>\n       </defs>\n       <use xlink:href=\"#DejaVuSans-50\"/>\n       <use x=\"63.623047\" xlink:href=\"#DejaVuSans-48\"/>\n       <use x=\"127.246094\" xlink:href=\"#DejaVuSans-48\"/>\n      </g>\n     </g>\n    </g>\n    <g id=\"xtick_6\">\n     <g id=\"line2d_6\">\n      <g>\n       <use style=\"stroke:#000000;stroke-width:0.8;\" x=\"200.369463\" xlink:href=\"#m0d47e0f745\" y=\"228.105722\"/>\n      </g>\n     </g>\n     <g id=\"text_6\">\n      <!-- 250 -->\n      <g transform=\"translate(190.825713 242.704159)scale(0.1 -0.1)\">\n       <use xlink:href=\"#DejaVuSans-50\"/>\n       <use x=\"63.623047\" xlink:href=\"#DejaVuSans-53\"/>\n       <use x=\"127.246094\" xlink:href=\"#DejaVuSans-48\"/>\n      </g>\n     </g>\n    </g>\n   </g>\n   <g id=\"matplotlib.axis_2\">\n    <g id=\"ytick_1\">\n     <g id=\"line2d_7\">\n      <defs>\n       <path d=\"M 0 0 \nL -3.5 0 \n\" id=\"mc70bdb6ca3\" style=\"stroke:#000000;stroke-width:0.8;\"/>\n      </defs>\n      <g>\n       <use style=\"stroke:#000000;stroke-width:0.8;\" x=\"33.2875\" xlink:href=\"#mc70bdb6ca3\" y=\"10.999219\"/>\n      </g>\n     </g>\n     <g id=\"text_7\">\n      <!-- 0 -->\n      <g transform=\"translate(19.925 14.798437)scale(0.1 -0.1)\">\n       <use xlink:href=\"#DejaVuSans-48\"/>\n      </g>\n     </g>\n    </g>\n    <g id=\"ytick_2\">\n     <g id=\"line2d_8\">\n      <g>\n       <use style=\"stroke:#000000;stroke-width:0.8;\" x=\"33.2875\" xlink:href=\"#mc70bdb6ca3\" y=\"44.348912\"/>\n      </g>\n     </g>\n     <g id=\"text_8\">\n      <!-- 50 -->\n      <g transform=\"translate(13.5625 48.148131)scale(0.1 -0.1)\">\n       <use xlink:href=\"#DejaVuSans-53\"/>\n       <use x=\"63.623047\" xlink:href=\"#DejaVuSans-48\"/>\n      </g>\n     </g>\n    </g>\n    <g id=\"ytick_3\">\n     <g id=\"line2d_9\">\n      <g>\n       <use style=\"stroke:#000000;stroke-width:0.8;\" x=\"33.2875\" xlink:href=\"#mc70bdb6ca3\" y=\"77.698605\"/>\n      </g>\n     </g>\n     <g id=\"text_9\">\n      <!-- 100 -->\n      <g transform=\"translate(7.2 81.497824)scale(0.1 -0.1)\">\n       <use xlink:href=\"#DejaVuSans-49\"/>\n       <use x=\"63.623047\" xlink:href=\"#DejaVuSans-48\"/>\n       <use x=\"127.246094\" xlink:href=\"#DejaVuSans-48\"/>\n      </g>\n     </g>\n    </g>\n    <g id=\"ytick_4\">\n     <g id=\"line2d_10\">\n      <g>\n       <use style=\"stroke:#000000;stroke-width:0.8;\" x=\"33.2875\" xlink:href=\"#mc70bdb6ca3\" y=\"111.048299\"/>\n      </g>\n     </g>\n     <g id=\"text_10\">\n      <!-- 150 -->\n      <g transform=\"translate(7.2 114.847517)scale(0.1 -0.1)\">\n       <use xlink:href=\"#DejaVuSans-49\"/>\n       <use x=\"63.623047\" xlink:href=\"#DejaVuSans-53\"/>\n       <use x=\"127.246094\" xlink:href=\"#DejaVuSans-48\"/>\n      </g>\n     </g>\n    </g>\n    <g id=\"ytick_5\">\n     <g id=\"line2d_11\">\n      <g>\n       <use style=\"stroke:#000000;stroke-width:0.8;\" x=\"33.2875\" xlink:href=\"#mc70bdb6ca3\" y=\"144.397992\"/>\n      </g>\n     </g>\n     <g id=\"text_11\">\n      <!-- 200 -->\n      <g transform=\"translate(7.2 148.197211)scale(0.1 -0.1)\">\n       <use xlink:href=\"#DejaVuSans-50\"/>\n       <use x=\"63.623047\" xlink:href=\"#DejaVuSans-48\"/>\n       <use x=\"127.246094\" xlink:href=\"#DejaVuSans-48\"/>\n      </g>\n     </g>\n    </g>\n    <g id=\"ytick_6\">\n     <g id=\"line2d_12\">\n      <g>\n       <use style=\"stroke:#000000;stroke-width:0.8;\" x=\"33.2875\" xlink:href=\"#mc70bdb6ca3\" y=\"177.747685\"/>\n      </g>\n     </g>\n     <g id=\"text_12\">\n      <!-- 250 -->\n      <g transform=\"translate(7.2 181.546904)scale(0.1 -0.1)\">\n       <use xlink:href=\"#DejaVuSans-50\"/>\n       <use x=\"63.623047\" xlink:href=\"#DejaVuSans-53\"/>\n       <use x=\"127.246094\" xlink:href=\"#DejaVuSans-48\"/>\n      </g>\n     </g>\n    </g>\n    <g id=\"ytick_7\">\n     <g id=\"line2d_13\">\n      <g>\n       <use style=\"stroke:#000000;stroke-width:0.8;\" x=\"33.2875\" xlink:href=\"#mc70bdb6ca3\" y=\"211.097378\"/>\n      </g>\n     </g>\n     <g id=\"text_13\">\n      <!-- 300 -->\n      <g transform=\"translate(7.2 214.896597)scale(0.1 -0.1)\">\n       <defs>\n        <path d=\"M 40.578125 39.3125 \nQ 47.65625 37.796875 51.625 33 \nQ 55.609375 28.21875 55.609375 21.1875 \nQ 55.609375 10.40625 48.1875 4.484375 \nQ 40.765625 -1.421875 27.09375 -1.421875 \nQ 22.515625 -1.421875 17.65625 -0.515625 \nQ 12.796875 0.390625 7.625 2.203125 \nL 7.625 11.71875 \nQ 11.71875 9.328125 16.59375 8.109375 \nQ 21.484375 6.890625 26.8125 6.890625 \nQ 36.078125 6.890625 40.9375 10.546875 \nQ 45.796875 14.203125 45.796875 21.1875 \nQ 45.796875 27.640625 41.28125 31.265625 \nQ 36.765625 34.90625 28.71875 34.90625 \nL 20.21875 34.90625 \nL 20.21875 43.015625 \nL 29.109375 43.015625 \nQ 36.375 43.015625 40.234375 45.921875 \nQ 44.09375 48.828125 44.09375 54.296875 \nQ 44.09375 59.90625 40.109375 62.90625 \nQ 36.140625 65.921875 28.71875 65.921875 \nQ 24.65625 65.921875 20.015625 65.03125 \nQ 15.375 64.15625 9.8125 62.3125 \nL 9.8125 71.09375 \nQ 15.4375 72.65625 20.34375 73.4375 \nQ 25.25 74.21875 29.59375 74.21875 \nQ 40.828125 74.21875 47.359375 69.109375 \nQ 53.90625 64.015625 53.90625 55.328125 \nQ 53.90625 49.265625 50.4375 45.09375 \nQ 46.96875 40.921875 40.578125 39.3125 \nz\n\" id=\"DejaVuSans-51\"/>\n       </defs>\n       <use xlink:href=\"#DejaVuSans-51\"/>\n       <use x=\"63.623047\" xlink:href=\"#DejaVuSans-48\"/>\n       <use x=\"127.246094\" xlink:href=\"#DejaVuSans-48\"/>\n      </g>\n     </g>\n    </g>\n   </g>\n   <g id=\"patch_3\">\n    <path d=\"M 33.2875 228.105722 \nL 33.2875 10.665722 \n\" style=\"fill:none;stroke:#000000;stroke-linecap:square;stroke-linejoin:miter;stroke-width:0.8;\"/>\n   </g>\n   <g id=\"patch_4\">\n    <path d=\"M 215.376825 228.105722 \nL 215.376825 10.665722 \n\" style=\"fill:none;stroke:#000000;stroke-linecap:square;stroke-linejoin:miter;stroke-width:0.8;\"/>\n   </g>\n   <g id=\"patch_5\">\n    <path d=\"M 33.2875 228.105722 \nL 215.376825 228.105722 \n\" style=\"fill:none;stroke:#000000;stroke-linecap:square;stroke-linejoin:miter;stroke-width:0.8;\"/>\n   </g>\n   <g id=\"patch_6\">\n    <path d=\"M 33.2875 10.665722 \nL 215.376825 10.665722 \n\" style=\"fill:none;stroke:#000000;stroke-linecap:square;stroke-linejoin:miter;stroke-width:0.8;\"/>\n   </g>\n  </g>\n </g>\n <defs>\n  <clipPath id=\"p3242a1c6f8\">\n   <rect height=\"217.44\" width=\"182.089325\" x=\"33.2875\" y=\"10.665722\"/>\n  </clipPath>\n </defs>\n</svg>\n",
      "image/png": "[encoded data removed]"
     },
     "metadata": {
      "needs_background": "light"
     }
    }
   ],
   "source": [
    "visualize_all_image(vol_source_file)"
   ]
  }
 ],
 "metadata": {
  "kernelspec": {
   "name": "pythonjvsc74a57bd0ac071a1edd1e885535ef042623d40a74d2321caf2151abe6a990485177df1be6",
   "display_name": "Python 3.6.9 64-bit ('venv': venv)"
  },
  "language_info": {
   "codemirror_mode": {
    "name": "ipython",
    "version": 3
   },
   "file_extension": ".py",
   "mimetype": "text/x-python",
   "name": "python",
   "nbconvert_exporter": "python",
   "pygments_lexer": "ipython3",
   "version": "3.6.9"
  },
  "metadata": {
   "interpreter": {
    "hash": "ac071a1edd1e885535ef042623d40a74d2321caf2151abe6a990485177df1be6"
   }
  }
 },
 "nbformat": 4,
 "nbformat_minor": 2
}