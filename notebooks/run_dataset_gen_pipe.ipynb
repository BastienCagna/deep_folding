{
 "cells": [
  {
   "cell_type": "markdown",
   "metadata": {},
   "source": [
    "# Generates crops ad pickle file using dataset_gen_pipe"
   ]
  },
  {
   "cell_type": "markdown",
   "metadata": {},
   "source": [
    "This notebook crops images according to bounding box coordinates (one per sulcus)"
   ]
  },
  {
   "cell_type": "markdown",
   "metadata": {},
   "source": [
    "# Imports"
   ]
  },
  {
   "cell_type": "code",
   "execution_count": 60,
   "metadata": {},
   "outputs": [
    {
     "name": "stdout",
     "output_type": "stream",
     "text": [
      "2.7.17 (default, Feb 27 2021, 15:10:58) \n",
      "[GCC 7.5.0]\n"
     ]
    }
   ],
   "source": [
    "import sys\n",
    "import os\n",
    "import glob\n",
    "import json\n",
    "import numpy as np\n",
    "import pandas as pd\n",
    "import matplotlib.pyplot as plt\n",
    "\n",
    "# Import the aims module\n",
    "from soma import aims\n",
    "# the brainplot package\n",
    "import colorado as cld\n",
    "\n",
    "print(sys.version)"
   ]
  },
  {
   "cell_type": "markdown",
   "metadata": {},
   "source": [
    "The following line permits to import deep_folding even if this notebook is executed from the notebooks subfolder (and no install has been launched):\n",
    "\n",
    " /notebooks/use_transform.ipynb  \n",
    " /deep_folding/__init__.py"
   ]
  },
  {
   "cell_type": "code",
   "execution_count": 61,
   "metadata": {},
   "outputs": [
    {
     "name": "stdout",
     "output_type": "stream",
     "text": [
      "/home/jc225751/Program/deep_folding/deep_folding\n"
     ]
    }
   ],
   "source": [
    "sys.path.append((os.path.abspath('../')))\n",
    "import deep_folding\n",
    "print(os.path.dirname(deep_folding.__file__))"
   ]
  },
  {
   "cell_type": "code",
   "execution_count": 62,
   "metadata": {},
   "outputs": [],
   "source": [
    "_ALL_SUBJECTS = -1"
   ]
  },
  {
   "cell_type": "markdown",
   "metadata": {},
   "source": [
    "# User-specific variables"
   ]
  },
  {
   "cell_type": "code",
   "execution_count": 63,
   "metadata": {},
   "outputs": [],
   "source": [
    "sulcus = 'S.T.s.ter.asc.ant._left'"
   ]
  },
  {
   "cell_type": "code",
   "execution_count": 64,
   "metadata": {},
   "outputs": [],
   "source": [
    "side = 'L'"
   ]
  },
  {
   "cell_type": "markdown",
   "metadata": {},
   "source": [
    "We now assign path names and other user-specific variables."
   ]
  },
  {
   "cell_type": "markdown",
   "metadata": {},
   "source": [
    "The source directory is where the database lies. It contains the morphologist analysis subfolder ANALYSIS/3T_morphologist\n"
   ]
  },
  {
   "cell_type": "code",
   "execution_count": 65,
   "metadata": {},
   "outputs": [
    {
     "name": "stdout",
     "output_type": "stream",
     "text": [
      "src_dir = /home/jc225751/Program/deep_folding/data/source/unsupervised\n"
     ]
    }
   ],
   "source": [
    "src_dir = os.path.join(os.getcwd(), '../data/source/unsupervised')\n",
    "src_dir = os.path.abspath(src_dir)\n",
    "print(\"src_dir = \" + src_dir)"
   ]
  },
  {
   "cell_type": "markdown",
   "metadata": {},
   "source": [
    "The target directory tgt_dir is where the files will be saved"
   ]
  },
  {
   "cell_type": "code",
   "execution_count": 66,
   "metadata": {},
   "outputs": [
    {
     "name": "stdout",
     "output_type": "stream",
     "text": [
      "tgt_dir = /home/jc225751/Program/deep_folding/data/target/data/linear\n"
     ]
    }
   ],
   "source": [
    "tgt_dir = os.path.join(os.getcwd(), '../data/target/data/linear')\n",
    "tgt_dir = os.path.abspath(tgt_dir)\n",
    "print(\"tgt_dir = \" + tgt_dir)"
   ]
  },
  {
   "cell_type": "markdown",
   "metadata": {},
   "source": [
    "The reference directory is where the equivalent reference file has been saved"
   ]
  },
  {
   "cell_type": "code",
   "execution_count": 67,
   "metadata": {},
   "outputs": [
    {
     "name": "stdout",
     "output_type": "stream",
     "text": [
      "ref_dir = /home/jc225751/Program/deep_folding/data/reference/data/linear\n"
     ]
    }
   ],
   "source": [
    "ref_dir = os.path.join(os.getcwd(), '../data/reference/data/linear')\n",
    "ref_dir = os.path.abspath(ref_dir)\n",
    "print(\"ref_dir = \" + ref_dir)"
   ]
  },
  {
   "cell_type": "code",
   "execution_count": 68,
   "metadata": {},
   "outputs": [
    {
     "name": "stdout",
     "output_type": "stream",
     "text": [
      "transform_dir = /home/jc225751/Program/deep_folding/data/reference/transform\n"
     ]
    }
   ],
   "source": [
    "transform_dir = os.path.join(os.getcwd(), '../data/reference/transform')\n",
    "transform_dir = os.path.abspath(transform_dir)\n",
    "print(\"transform_dir = \" + transform_dir)"
   ]
  },
  {
   "cell_type": "code",
   "execution_count": 69,
   "metadata": {},
   "outputs": [
    {
     "name": "stdout",
     "output_type": "stream",
     "text": [
      "bbox_dir = /home/jc225751/Program/deep_folding/data/reference/bbox\n"
     ]
    }
   ],
   "source": [
    "bbox_dir = os.path.join(os.getcwd(), '../data/reference/bbox')\n",
    "bbox_dir = os.path.abspath(bbox_dir)\n",
    "print(\"bbox_dir = \" + bbox_dir)"
   ]
  },
  {
   "cell_type": "code",
   "execution_count": 70,
   "metadata": {},
   "outputs": [
    {
     "name": "stdout",
     "output_type": "stream",
     "text": [
      "['anatomist']\n"
     ]
    }
   ],
   "source": [
    "print(sys.argv)"
   ]
  },
  {
   "cell_type": "markdown",
   "metadata": {},
   "source": [
    "# Illustration of main program uses"
   ]
  },
  {
   "cell_type": "markdown",
   "metadata": {},
   "source": [
    "We will first use the program with no effect by using number of subjects set to 0, or by calling the help function"
   ]
  },
  {
   "cell_type": "markdown",
   "metadata": {},
   "source": [
    "### Using external calls"
   ]
  },
  {
   "cell_type": "code",
   "execution_count": 71,
   "metadata": {},
   "outputs": [
    {
     "name": "stdout",
     "output_type": "stream",
     "text": [
      "Traceback (most recent call last):\r\n",
      "  File \"../deep_folding/anatomist_tools/dataset_gen_pipe.py\", line 69, in <module>\r\n",
      "    from deep_folding.anatomist_tools.utils.load_bbox import compute_max_box\r\n",
      "  File \"/home/jc225751/Program/deep_folding/deep_folding/anatomist_tools/utils/load_bbox.py\", line 45, in <module>\r\n",
      "    from deep_folding.anatomist_tools.bounding_box import BoundingBoxMax\r\n",
      "  File \"/home/jc225751/Program/deep_folding/deep_folding/anatomist_tools/bounding_box.py\", line 409\r\n",
      "    voxel_size)\r\n",
      "             ^\r\n",
      "SyntaxError: invalid syntax\r\n"
     ]
    }
   ],
   "source": [
    "!python ../deep_folding/anatomist_tools/dataset_gen_pipe.py -n 0 -t tgt_local_dir"
   ]
  },
  {
   "cell_type": "code",
   "execution_count": 72,
   "metadata": {},
   "outputs": [],
   "source": [
    "# Clean\n",
    "!rm -rf tgt_local_dir"
   ]
  },
  {
   "cell_type": "code",
   "execution_count": 73,
   "metadata": {},
   "outputs": [
    {
     "name": "stdout",
     "output_type": "stream",
     "text": [
      "  File \"../deep_folding/anatomist_tools/bounding_box.py\", line 409\r\n",
      "    voxel_size)\r\n",
      "             ^\r\n",
      "SyntaxError: invalid syntax\r\n"
     ]
    }
   ],
   "source": [
    "!python ../deep_folding/anatomist_tools/bounding_box.py --help"
   ]
  },
  {
   "cell_type": "markdown",
   "metadata": {},
   "source": [
    "### By using the main function call"
   ]
  },
  {
   "cell_type": "code",
   "execution_count": 74,
   "metadata": {},
   "outputs": [
    {
     "name": "stdout",
     "output_type": "stream",
     "text": [
      "/home/jc225751/Program/deep_folding/deep_folding/anatomist_tools/dataset_gen_pipe.pyc\n"
     ]
    }
   ],
   "source": [
    "from deep_folding.anatomist_tools import dataset_gen_pipe\n",
    "print(dataset_gen_pipe.__file__)"
   ]
  },
  {
   "cell_type": "code",
   "execution_count": 75,
   "metadata": {},
   "outputs": [],
   "source": [
    "args = \"-n 0 -t \" + tgt_dir\n",
    "argv = args.split(' ')"
   ]
  },
  {
   "cell_type": "code",
   "execution_count": 76,
   "metadata": {},
   "outputs": [],
   "source": [
    "dataset_gen_pipe.main(argv)"
   ]
  },
  {
   "cell_type": "code",
   "execution_count": 77,
   "metadata": {},
   "outputs": [],
   "source": [
    "args = \"--help\"\n",
    "argv = args.split(' ')"
   ]
  },
  {
   "cell_type": "code",
   "execution_count": 78,
   "metadata": {},
   "outputs": [
    {
     "name": "stdout",
     "output_type": "stream",
     "text": [
      "usage: dataset_gen_pipe.py [-h] [-s SRC_DIR] [-t TGT_DIR] [-r TRANSFORM_DIR]\n",
      "                           [-b BBOX_DIR] [-u SULCUS [SULCUS ...]] [-i SIDE]\n",
      "                           [-n NB_SUBJECTS] [-e INTERP]\n",
      "\n",
      "Generates cropped and pickle files\n",
      "\n",
      "optional arguments:\n",
      "  -h, --help            show this help message and exit\n",
      "  -s SRC_DIR, --src_dir SRC_DIR\n",
      "                        Source directory where the MRI data lies. Default is :\n",
      "                        /neurospin/hcp\n",
      "  -t TGT_DIR, --tgt_dir TGT_DIR\n",
      "                        Target directory where to store the cropped and pickle\n",
      "                        files. Default is :\n",
      "                        /neurospin/dico/deep_folding_data/test\n",
      "  -r TRANSFORM_DIR, --transform_dir TRANSFORM_DIR\n",
      "                        Transform directory where transformation files from\n",
      "                        native to Talairach files have been stored. Default is\n",
      "                        : /neurospin/dico/deep_folding_data/test/transform\n",
      "  -b BBOX_DIR, --bbox_dir BBOX_DIR\n",
      "                        Bounding box directory where json files containing\n",
      "                        bounding box coordinates have been stored. Default is\n",
      "                        : /neurospin/dico/deep_folding_data/test/bbox\n",
      "  -u SULCUS [SULCUS ...], --sulcus SULCUS [SULCUS ...]\n",
      "                        Sulcus name around which we determine the bounding\n",
      "                        box. If there are several sulci, add all sulci one\n",
      "                        after the other. Example: -u sulcus_1 sulcus_2 Default\n",
      "                        is : S.T.s.ter.asc.ant._left\n",
      "  -i SIDE, --side SIDE  Hemisphere side (either L or R). Default is : L\n",
      "  -n NB_SUBJECTS, --nb_subjects NB_SUBJECTS\n",
      "                        Number of subjects to take into account, or 'all'. 0\n",
      "                        subject is allowed, for debug purpose.Default is : all\n",
      "  -e INTERP, --interp INTERP\n",
      "                        Same interpolation type as for AimsApplyTransform.\n",
      "                        Type of interpolation used for Volumes: n[earest],\n",
      "                        l[inear], q[uadratic], c[cubic], quartic, quintic,\n",
      "                        six[thorder], seven[thorder]. Modes may also be\n",
      "                        specified as order number: 0=nearest, 1=linear...\n"
     ]
    }
   ],
   "source": [
    "dataset_gen_pipe.main(argv)"
   ]
  },
  {
   "cell_type": "markdown",
   "metadata": {},
   "source": [
    "### By using the API function call"
   ]
  },
  {
   "cell_type": "code",
   "execution_count": 79,
   "metadata": {},
   "outputs": [],
   "source": [
    "dataset_gen_pipe.dataset_gen_pipe(src_dir=src_dir,\n",
    "                                  tgt_dir=tgt_dir,\n",
    "                                  transform_dir=transform_dir,\n",
    "                                  bbox_dir=bbox_dir,\n",
    "                                  list_sulci=sulcus,\n",
    "                                  side=side,\n",
    "                                  number_subjects=0)"
   ]
  },
  {
   "cell_type": "markdown",
   "metadata": {},
   "source": [
    "# Crops with linear interpolation"
   ]
  },
  {
   "cell_type": "markdown",
   "metadata": {},
   "source": [
    "## Main program"
   ]
  },
  {
   "cell_type": "code",
   "execution_count": 80,
   "metadata": {},
   "outputs": [],
   "source": [
    "interp = 'linear'"
   ]
  },
  {
   "cell_type": "code",
   "execution_count": 81,
   "metadata": {},
   "outputs": [],
   "source": [
    "dataset_gen_pipe.dataset_gen_pipe(src_dir=src_dir,\n",
    "                                  tgt_dir=tgt_dir,\n",
    "                                  transform_dir=transform_dir,\n",
    "                                  bbox_dir=bbox_dir,\n",
    "                                  list_sulci=sulcus,\n",
    "                                  side=side,\n",
    "                                  interp=interp,\n",
    "                                  number_subjects=_ALL_SUBJECTS)"
   ]
  },
  {
   "cell_type": "markdown",
   "metadata": {},
   "source": [
    "## Result analysis"
   ]
  },
  {
   "cell_type": "markdown",
   "metadata": {},
   "source": [
    "### Analysis of the inputs"
   ]
  },
  {
   "cell_type": "code",
   "execution_count": 82,
   "metadata": {},
   "outputs": [
    {
     "name": "stdout",
     "output_type": "stream",
     "text": [
      "shape of source skeleton =  (1, 260, 311, 260)\n"
     ]
    }
   ],
   "source": [
    "# Gets source file as numpy array\n",
    "skeleton_dir = os.path.join(src_dir, \"ANALYSIS/3T_morphologist/100206/t1mri/default_acquisition/default_analysis/segmentation\")\n",
    "vol_source_file = glob.glob(skeleton_dir + '/' + side + '*.nii.gz')\n",
    "vol_source = aims.read(vol_source_file[0])\n",
    "arr_source = vol_source.arraydata()\n",
    "print \"shape of source skeleton = \", arr_source.shape"
   ]
  },
  {
   "cell_type": "code",
   "execution_count": 83,
   "metadata": {},
   "outputs": [
    {
     "data": {
      "text/plain": [
       "array([ 0, 10, 11, 30, 40, 60, 80], dtype=int16)"
      ]
     },
     "execution_count": 83,
     "metadata": {},
     "output_type": "execute_result"
    }
   ],
   "source": [
    "np.unique(arr_source)"
   ]
  },
  {
   "cell_type": "code",
   "execution_count": 84,
   "metadata": {},
   "outputs": [
    {
     "data": {
      "text/plain": [
       "11    18832738\n",
       "0      2012736\n",
       "60      163069\n",
       "30        9634\n",
       "80        5330\n",
       "40          87\n",
       "10           6\n",
       "dtype: int64"
      ]
     },
     "execution_count": 84,
     "metadata": {},
     "output_type": "execute_result"
    }
   ],
   "source": [
    "pd.value_counts(np.resize(arr_source, arr_source.size))"
   ]
  },
  {
   "cell_type": "markdown",
   "metadata": {},
   "source": [
    "### Analysis of the outputs"
   ]
  },
  {
   "cell_type": "markdown",
   "metadata": {},
   "source": [
    "Prints the list of files of the target directory"
   ]
  },
  {
   "cell_type": "code",
   "execution_count": 85,
   "metadata": {},
   "outputs": [
    {
     "name": "stdout",
     "output_type": "stream",
     "text": [
      "Files in target directory:\n",
      "Lskeleton.pkl\n",
      "dataset.json\n",
      "Lcrops\n"
     ]
    }
   ],
   "source": [
    "print(\"Files in target directory:\")\n",
    "print('\\n'.join(os.listdir(tgt_dir)))"
   ]
  },
  {
   "cell_type": "code",
   "execution_count": 86,
   "metadata": {},
   "outputs": [
    {
     "name": "stdout",
     "output_type": "stream",
     "text": [
      "Files in crops target directory:\n",
      "100206_normalized.nii.gz\n",
      "100206_normalized.nii.gz.minf\n"
     ]
    }
   ],
   "source": [
    "print(\"Files in crops target directory:\")\n",
    "print('\\n'.join(os.listdir(tgt_dir + '/' + side + 'crops')))"
   ]
  },
  {
   "cell_type": "code",
   "execution_count": 87,
   "metadata": {},
   "outputs": [
    {
     "name": "stdout",
     "output_type": "stream",
     "text": [
      "tgt_json_file =  /home/jc225751/Program/deep_folding/data/target/data/linear/dataset.json \n",
      "\n",
      "{\n",
      "    \"bbmax\": [\n",
      "        137, \n",
      "        153, \n",
      "        78\n",
      "    ], \n",
      "    \"bbmin\": [\n",
      "        112, \n",
      "        129, \n",
      "        33\n",
      "    ], \n",
      "    \"bbox_dir\": \"/home/jc225751/Program/deep_folding/data/reference/bbox\", \n",
      "    \"cropped_dir\": \"/home/jc225751/Program/deep_folding/data/target/data/linear/Lcrops\", \n",
      "    \"date\": \"2021-04-28 16:52:05\", \n",
      "    \"git_sha\": \"514d30cf427120cb328c7b6009dca3cf0eabe3ee\", \n",
      "    \"interp\": \"linear\", \n",
      "    \"is_git\": true, \n",
      "    \"list_sulci\": [\n",
      "        \"S.T.s.ter.asc.ant._left\"\n",
      "    ], \n",
      "    \"nb_subjects\": 1, \n",
      "    \"repo_working_dir\": \"/home/jc225751/Program/deep_folding\", \n",
      "    \"side\": \"L\", \n",
      "    \"src_dir\": \"/home/jc225751/Program/deep_folding/data/source/unsupervised\", \n",
      "    \"tgt_dir\": \"/home/jc225751/Program/deep_folding/data/target/data/linear\", \n",
      "    \"timestamp\": 1619621525.824897, \n",
      "    \"transform_dir\": \"/home/jc225751/Program/deep_folding/data/reference/transform\"\n",
      "}\n"
     ]
    }
   ],
   "source": [
    "tgt_json_file = glob.glob(tgt_dir + '/*.json')[0]\n",
    "print \"tgt_json_file = \", tgt_json_file, '\\n'\n",
    "with open(os.path.join(tgt_dir, tgt_json_file), 'r') as f:\n",
    "    data_tgt = json.load(f)\n",
    "    print(json.dumps(data_tgt, sort_keys=True, indent=4))"
   ]
  },
  {
   "cell_type": "markdown",
   "metadata": {},
   "source": [
    "Obtained output (we read the cropped file from the target directory):"
   ]
  },
  {
   "cell_type": "code",
   "execution_count": 88,
   "metadata": {},
   "outputs": [
    {
     "name": "stdout",
     "output_type": "stream",
     "text": [
      "shape of target cropped image =  (1, 46, 25, 26)\n"
     ]
    }
   ],
   "source": [
    "# Gets target crop as numpy array\n",
    "cropped_target_dir = os.path.join(tgt_dir, side+'crops')\n",
    "vol_target_file = glob.glob(cropped_target_dir + '/' + '*.nii.gz')\n",
    "vol_target = aims.read(vol_target_file[0])\n",
    "arr_target = vol_target.arraydata()\n",
    "print \"shape of target cropped image = \", arr_target.shape"
   ]
  },
  {
   "cell_type": "code",
   "execution_count": 89,
   "metadata": {},
   "outputs": [
    {
     "data": {
      "text/plain": [
       "array([ 0,  1,  2,  3,  4,  5,  6,  7,  8,  9, 10, 11, 12, 13, 14, 15, 16,\n",
       "       17, 18, 19, 20, 21, 22, 23, 24, 25, 26, 27, 28, 29, 30, 31, 32, 33,\n",
       "       34, 35, 36, 37, 38, 39, 40, 41, 42, 43, 44, 45, 46, 47, 48, 49, 50,\n",
       "       51, 52, 53, 54, 55, 56, 57, 58, 59, 60, 61, 64, 66, 72],\n",
       "      dtype=int16)"
      ]
     },
     "execution_count": 89,
     "metadata": {},
     "output_type": "execute_result"
    }
   ],
   "source": [
    "np.unique(arr_target)"
   ]
  },
  {
   "cell_type": "code",
   "execution_count": 90,
   "metadata": {},
   "outputs": [
    {
     "name": "stdout",
     "output_type": "stream",
     "text": [
      "(array([ 0,  1,  2,  3,  4,  5,  6,  7,  8,  9, 10, 11, 12, 13, 14, 15, 16,\n",
      "       17, 18, 19, 20, 21, 22, 23, 24, 25, 26, 27, 28, 29, 30, 31, 32, 33,\n",
      "       34, 35, 36, 37, 38, 39, 40, 41, 42, 43, 44, 45, 46, 47, 48, 49, 50,\n",
      "       51, 52, 53, 54, 55, 56, 57, 58, 59, 60, 61, 64, 66, 72],\n",
      "      dtype=int16), array([21572,   252,   174,   184,   146,   137,   166,   114,   119,\n",
      "         115,   107,  3337,   105,   120,   107,   105,   119,   124,\n",
      "          92,   115,    94,    95,   109,   108,    98,   107,    95,\n",
      "         121,   102,   139,   150,   131,   106,   109,    98,    95,\n",
      "          92,    69,    62,    61,    47,    47,    45,    36,    36,\n",
      "          39,    32,    37,    32,    28,    26,    27,    13,    15,\n",
      "          16,    14,    14,    10,    10,    12,     7,     2,     1,\n",
      "           1,     2]))\n"
     ]
    }
   ],
   "source": [
    "unique_target = np.unique(arr_target, return_counts=True)\n",
    "print unique_target"
   ]
  },
  {
   "cell_type": "code",
   "execution_count": 91,
   "metadata": {},
   "outputs": [
    {
     "data": {
      "text/plain": [
       "0     21572\n",
       "11     3337\n",
       "1       252\n",
       "3       184\n",
       "2       174\n",
       "dtype: int64"
      ]
     },
     "execution_count": 91,
     "metadata": {},
     "output_type": "execute_result"
    }
   ],
   "source": [
    "pd.value_counts(np.resize(arr_target, arr_target.size)).head()"
   ]
  },
  {
   "cell_type": "markdown",
   "metadata": {},
   "source": [
    "Expected output (we read the cropped file from the reference directory):"
   ]
  },
  {
   "cell_type": "code",
   "execution_count": 92,
   "metadata": {},
   "outputs": [
    {
     "name": "stdout",
     "output_type": "stream",
     "text": [
      "shape of reference cropped image =  (1, 46, 25, 26)\n"
     ]
    }
   ],
   "source": [
    "cropped_ref_dir = os.path.join(ref_dir, side+'crops')\n",
    "vol_ref_file = glob.glob(cropped_ref_dir + '/' + '*.nii.gz')\n",
    "vol_ref = aims.read(vol_ref_file[0])\n",
    "arr_ref = vol_ref.arraydata()\n",
    "print \"shape of reference cropped image = \", arr_ref.shape"
   ]
  },
  {
   "cell_type": "code",
   "execution_count": 93,
   "metadata": {},
   "outputs": [
    {
     "data": {
      "text/plain": [
       "0     21572\n",
       "11     3336\n",
       "1       252\n",
       "3       184\n",
       "2       174\n",
       "dtype: int64"
      ]
     },
     "execution_count": 93,
     "metadata": {},
     "output_type": "execute_result"
    }
   ],
   "source": [
    "pd.value_counts(np.resize(arr_ref, arr_ref.size)).head()"
   ]
  },
  {
   "cell_type": "code",
   "execution_count": 94,
   "metadata": {},
   "outputs": [
    {
     "data": {
      "text/plain": [
       "False"
      ]
     },
     "execution_count": 94,
     "metadata": {},
     "output_type": "execute_result"
    }
   ],
   "source": [
    "np.array_equal(arr_target, arr_ref)"
   ]
  },
  {
   "cell_type": "code",
   "execution_count": 95,
   "metadata": {},
   "outputs": [
    {
     "name": "stdout",
     "output_type": "stream",
     "text": [
      "Number of different pixels :  2\n",
      "Index of different pixels :  (array([0, 0]), array([34, 42]), array([22,  5]), array([21, 11]))\n"
     ]
    }
   ],
   "source": [
    "epsilon = 1\n",
    "difference = (abs(arr_ref-arr_target) >= epsilon)\n",
    "number_differences = np.count_nonzero(difference)\n",
    "index_of_differences = np.where(difference)\n",
    "print \"Number of different pixels : \", number_differences\n",
    "print \"Index of different pixels : \", index_of_differences"
   ]
  },
  {
   "cell_type": "code",
   "execution_count": 96,
   "metadata": {},
   "outputs": [
    {
     "name": "stdout",
     "output_type": "stream",
     "text": [
      "[(44, 45), (11, 12)]\n"
     ]
    }
   ],
   "source": [
    "print zip(arr_target[index_of_differences], arr_ref[index_of_differences])"
   ]
  },
  {
   "cell_type": "code",
   "execution_count": 97,
   "metadata": {},
   "outputs": [],
   "source": [
    "def are_arrays_almost_equal(arr1, arr2, epsilon, max_number_different_pixels):\n",
    "    \"\"\"Returns True if at most max_number_different_pixels pixels of arrays arr1 and arr2 \n",
    "    differ by more than epsilon\n",
    "    \n",
    "    \"\"\"\n",
    "    difference = (abs(arr1-arr2) >= epsilon)\n",
    "    number_different_pixels = np.count_nonzero(difference)\n",
    "    return number_different_pixels <= max_number_different_pixels, number_different_pixels"
   ]
  },
  {
   "cell_type": "code",
   "execution_count": 98,
   "metadata": {},
   "outputs": [],
   "source": [
    "equal_arrays, number_different_pixels = are_arrays_almost_equal(arr_ref, arr_target, 1, 2)"
   ]
  },
  {
   "cell_type": "code",
   "execution_count": 99,
   "metadata": {},
   "outputs": [
    {
     "name": "stdout",
     "output_type": "stream",
     "text": [
      "True\n"
     ]
    }
   ],
   "source": [
    "print equal_arrays"
   ]
  },
  {
   "cell_type": "markdown",
   "metadata": {},
   "source": [
    "# Crops with nearest-neighbour interpolation"
   ]
  },
  {
   "cell_type": "markdown",
   "metadata": {},
   "source": [
    "## Main program"
   ]
  },
  {
   "cell_type": "code",
   "execution_count": 100,
   "metadata": {},
   "outputs": [
    {
     "name": "stdout",
     "output_type": "stream",
     "text": [
      "tgt_dir = /home/jc225751/Program/deep_folding/data/target/data/nearest\n"
     ]
    }
   ],
   "source": [
    "tgt_dir_nearest = os.path.join(os.getcwd(), '../data/target/data/nearest')\n",
    "tgt_dir_nearest = os.path.abspath(tgt_dir_nearest)\n",
    "print(\"tgt_dir = \" + tgt_dir_nearest)"
   ]
  },
  {
   "cell_type": "code",
   "execution_count": 101,
   "metadata": {},
   "outputs": [],
   "source": [
    "interp = 'nearest'\n",
    "dataset_gen_pipe.dataset_gen_pipe(src_dir=src_dir,\n",
    "                                  tgt_dir=tgt_dir_nearest,\n",
    "                                  transform_dir=transform_dir,\n",
    "                                  bbox_dir=bbox_dir,\n",
    "                                  list_sulci=sulcus,\n",
    "                                  side=side,\n",
    "                                  interp=interp,\n",
    "                                  number_subjects=_ALL_SUBJECTS)"
   ]
  },
  {
   "cell_type": "markdown",
   "metadata": {},
   "source": [
    "## Result analysis"
   ]
  },
  {
   "cell_type": "markdown",
   "metadata": {},
   "source": [
    "### Analysis of the inputs"
   ]
  },
  {
   "cell_type": "code",
   "execution_count": 102,
   "metadata": {},
   "outputs": [
    {
     "name": "stdout",
     "output_type": "stream",
     "text": [
      "shape of source skeleton =  (1, 260, 311, 260)\n"
     ]
    }
   ],
   "source": [
    "# Gets source file as numpy array\n",
    "skeleton_dir = os.path.join(src_dir, \"ANALYSIS/3T_morphologist/100206/t1mri/default_acquisition/default_analysis/segmentation\")\n",
    "vol_source_file = glob.glob(skeleton_dir + '/' + side + '*.nii.gz')[0]\n",
    "vol_source = aims.read(vol_source_file)\n",
    "arr_source = vol_source.arraydata()\n",
    "print \"shape of source skeleton = \", arr_source.shape"
   ]
  },
  {
   "cell_type": "code",
   "execution_count": 103,
   "metadata": {},
   "outputs": [
    {
     "data": {
      "text/plain": [
       "array([ 0, 10, 11, 30, 40, 60, 80], dtype=int16)"
      ]
     },
     "execution_count": 103,
     "metadata": {},
     "output_type": "execute_result"
    }
   ],
   "source": [
    "np.unique(arr_source)"
   ]
  },
  {
   "cell_type": "code",
   "execution_count": 104,
   "metadata": {},
   "outputs": [
    {
     "data": {
      "text/plain": [
       "11    18832738\n",
       "0      2012736\n",
       "60      163069\n",
       "30        9634\n",
       "80        5330\n",
       "40          87\n",
       "10           6\n",
       "dtype: int64"
      ]
     },
     "execution_count": 104,
     "metadata": {},
     "output_type": "execute_result"
    }
   ],
   "source": [
    "pd.value_counts(np.resize(arr_source, arr_source.size))"
   ]
  },
  {
   "cell_type": "markdown",
   "metadata": {},
   "source": [
    "### Analysis of the outputs"
   ]
  },
  {
   "cell_type": "markdown",
   "metadata": {},
   "source": [
    "Prints the list of files of the target directory"
   ]
  },
  {
   "cell_type": "code",
   "execution_count": 105,
   "metadata": {},
   "outputs": [
    {
     "name": "stdout",
     "output_type": "stream",
     "text": [
      "Files in crops target directory:\n",
      "/home/jc225751/Program/deep_folding/data/target/data/nearest\n",
      "100206_normalized.nii.gz\n",
      "100206_normalized.nii.gz.minf\n"
     ]
    }
   ],
   "source": [
    "print(\"Files in crops target directory:\")\n",
    "print tgt_dir_nearest\n",
    "print('\\n'.join(os.listdir(tgt_dir_nearest + '/' + side + 'crops')))"
   ]
  },
  {
   "cell_type": "code",
   "execution_count": 106,
   "metadata": {},
   "outputs": [
    {
     "name": "stdout",
     "output_type": "stream",
     "text": [
      "tgt_json_file =  /home/jc225751/Program/deep_folding/data/target/data/nearest/dataset.json \n",
      "\n",
      "{\n",
      "    \"bbmax\": [\n",
      "        137, \n",
      "        153, \n",
      "        78\n",
      "    ], \n",
      "    \"bbmin\": [\n",
      "        112, \n",
      "        129, \n",
      "        33\n",
      "    ], \n",
      "    \"bbox_dir\": \"/home/jc225751/Program/deep_folding/data/reference/bbox\", \n",
      "    \"cropped_dir\": \"/home/jc225751/Program/deep_folding/data/target/data/nearest/Lcrops\", \n",
      "    \"date\": \"2021-04-28 16:52:10\", \n",
      "    \"git_sha\": \"514d30cf427120cb328c7b6009dca3cf0eabe3ee\", \n",
      "    \"interp\": \"nearest\", \n",
      "    \"is_git\": true, \n",
      "    \"list_sulci\": [\n",
      "        \"S.T.s.ter.asc.ant._left\"\n",
      "    ], \n",
      "    \"nb_subjects\": 1, \n",
      "    \"repo_working_dir\": \"/home/jc225751/Program/deep_folding\", \n",
      "    \"side\": \"L\", \n",
      "    \"src_dir\": \"/home/jc225751/Program/deep_folding/data/source/unsupervised\", \n",
      "    \"tgt_dir\": \"/home/jc225751/Program/deep_folding/data/target/data/nearest\", \n",
      "    \"timestamp\": 1619621530.008383, \n",
      "    \"transform_dir\": \"/home/jc225751/Program/deep_folding/data/reference/transform\"\n",
      "}\n"
     ]
    }
   ],
   "source": [
    "tgt_json_file = glob.glob(tgt_dir_nearest + '/*.json')[0]\n",
    "print \"tgt_json_file = \", tgt_json_file, '\\n'\n",
    "with open(os.path.join(tgt_dir_nearest, tgt_json_file), 'r') as f:\n",
    "    data_tgt = json.load(f)\n",
    "    print(json.dumps(data_tgt, sort_keys=True, indent=4))"
   ]
  },
  {
   "cell_type": "markdown",
   "metadata": {},
   "source": [
    "Obtained output (we read the cropped file from the target directory):"
   ]
  },
  {
   "cell_type": "code",
   "execution_count": 107,
   "metadata": {},
   "outputs": [
    {
     "name": "stdout",
     "output_type": "stream",
     "text": [
      "shape of target cropped image =  (1, 46, 25, 26)\n"
     ]
    }
   ],
   "source": [
    "# Gets target crop as numpy array\n",
    "cropped_target_dir = os.path.join(tgt_dir_nearest, side+'crops')\n",
    "vol_target_file = glob.glob(cropped_target_dir + '/' + '*.nii.gz')\n",
    "vol_target = aims.read(vol_target_file[0])\n",
    "arr_target = vol_target.arraydata()\n",
    "print \"shape of target cropped image = \", arr_target.shape"
   ]
  },
  {
   "cell_type": "code",
   "execution_count": 108,
   "metadata": {},
   "outputs": [
    {
     "data": {
      "text/plain": [
       "array([ 0, 11, 30, 60, 80], dtype=int16)"
      ]
     },
     "execution_count": 108,
     "metadata": {},
     "output_type": "execute_result"
    }
   ],
   "source": [
    "np.unique(arr_target)"
   ]
  },
  {
   "cell_type": "markdown",
   "metadata": {},
   "source": [
    "The scope here is to compare the different numbers present on the target array and on the source array:"
   ]
  },
  {
   "cell_type": "code",
   "execution_count": 109,
   "metadata": {},
   "outputs": [
    {
     "data": {
      "text/plain": [
       "0     81.8\n",
       "11    12.3\n",
       "60     5.4\n",
       "30     0.4\n",
       "80     0.2\n",
       "dtype: float64"
      ]
     },
     "execution_count": 109,
     "metadata": {},
     "output_type": "execute_result"
    }
   ],
   "source": [
    "np.around(pd.value_counts(np.resize(arr_target, arr_target.size))/arr_target.size*100, 1)"
   ]
  },
  {
   "cell_type": "code",
   "execution_count": 110,
   "metadata": {},
   "outputs": [
    {
     "data": {
      "text/plain": [
       "11    89.6\n",
       "0      9.6\n",
       "60     0.8\n",
       "30     0.0\n",
       "80     0.0\n",
       "40     0.0\n",
       "10     0.0\n",
       "dtype: float64"
      ]
     },
     "execution_count": 110,
     "metadata": {},
     "output_type": "execute_result"
    }
   ],
   "source": [
    "np.around(pd.value_counts(np.resize(arr_source, arr_source.size))/arr_source.size*100, 1)"
   ]
  },
  {
   "cell_type": "markdown",
   "metadata": {},
   "source": [
    "### Visualization"
   ]
  },
  {
   "cell_type": "code",
   "execution_count": 111,
   "metadata": {},
   "outputs": [],
   "source": [
    "%%capture \n",
    "# The previous magic caputres this cell output (namely Anatomist logs)\n",
    "\n",
    "# Import anatomist and set the environment to use it here\n",
    "import anatomist.api as anatomist\n",
    "os.environ[\"QT_API\"] = \"pyqt5\"\n",
    "%gui qt\n",
    "%matplotlib inline\n",
    "\n",
    "# create an Anatomist session and capture input (so it does not appear here)\n",
    "a = anatomist.Anatomist();"
   ]
  },
  {
   "cell_type": "code",
   "execution_count": 112,
   "metadata": {},
   "outputs": [],
   "source": [
    "def visualize_all_image(file_name):\n",
    "    \n",
    "    # load source skeleton data (the SliceableObject)\n",
    "    object_anat = a.loadObject(file_name)\n",
    "\n",
    "    # create an Axial window in anatomist\n",
    "    w = a.createWindow(\"Axial\", geometry=[1200, 350, 500, 500])\n",
    "    object_anat.addInWindows(w)\n",
    "\n",
    "    # get a snapshot from anatomist\n",
    "    img = cld.anatomist_snatpshot(w)\n",
    "    plt.imshow(img)\n",
    "    return object_anat, w"
   ]
  },
  {
   "cell_type": "code",
   "execution_count": 113,
   "metadata": {},
   "outputs": [
    {
     "name": "stdout",
     "output_type": "stream",
     "text": [
      "Files in crops nearest target directory:\n",
      "100206_normalized.nii.gz\n",
      "100206_normalized.nii.gz.minf\n"
     ]
    }
   ],
   "source": [
    "print(\"Files in crops nearest target directory:\")\n",
    "print('\\n'.join(os.listdir(tgt_dir_nearest + '/' + side + 'crops')))"
   ]
  },
  {
   "cell_type": "code",
   "execution_count": 114,
   "metadata": {},
   "outputs": [
    {
     "name": "stdout",
     "output_type": "stream",
     "text": [
      "/home/jc225751/Program/deep_folding/data/target/data/nearest/Lcrops/100206_normalized.nii.gz\n"
     ]
    }
   ],
   "source": [
    "target_file_dir = tgt_dir_nearest + '/' + side + 'crops'\n",
    "target_file_nearest = glob.glob(target_file_dir + \"/*.nii.gz\")[0]\n",
    "print target_file_nearest"
   ]
  },
  {
   "cell_type": "code",
   "execution_count": 115,
   "metadata": {},
   "outputs": [
    {
     "data": {
      "text/plain": [
       "(<anatomist.cpp.SliceableObject object at 0x7f8ddeeb8d70>,\n",
       " <anatomist.cpp.weak_shared_ptr_AWindow object at 0x7f8ddeec9550>)"
      ]
     },
     "execution_count": 115,
     "metadata": {},
     "output_type": "execute_result"
    },
    {
     "data": {
      "image/png": "[encoded data removed]",
      "text/plain": [
       "<Figure size 432x288 with 1 Axes>"
      ]
     },
     "metadata": {
      "needs_background": "light"
     },
     "output_type": "display_data"
    }
   ],
   "source": [
    "visualize_all_image(target_file_nearest)"
   ]
  },
  {
   "cell_type": "code",
   "execution_count": 116,
   "metadata": {},
   "outputs": [
    {
     "name": "stdout",
     "output_type": "stream",
     "text": [
      "/home/jc225751/Program/deep_folding/data/target/data/linear/Lcrops/100206_normalized.nii.gz\n"
     ]
    }
   ],
   "source": [
    "target_file_dir = tgt_dir + '/' + side + 'crops'\n",
    "target_file_linear = glob.glob(target_file_dir + \"/*.nii.gz\")[0]\n",
    "print target_file_linear"
   ]
  },
  {
   "cell_type": "code",
   "execution_count": 117,
   "metadata": {},
   "outputs": [
    {
     "data": {
      "text/plain": [
       "(<anatomist.cpp.SliceableObject object at 0x7f8ddeeb82d0>,\n",
       " <anatomist.cpp.weak_shared_ptr_AWindow object at 0x7f8df0114230>)"
      ]
     },
     "execution_count": 117,
     "metadata": {},
     "output_type": "execute_result"
    },
    {
     "data": {
      "image/png": "[encoded data removed]",
      "text/plain": [
       "<Figure size 432x288 with 1 Axes>"
      ]
     },
     "metadata": {
      "needs_background": "light"
     },
     "output_type": "display_data"
    }
   ],
   "source": [
    "visualize_all_image(target_file_linear)"
   ]
  },
  {
   "cell_type": "code",
   "execution_count": 118,
   "metadata": {},
   "outputs": [
    {
     "data": {
      "text/plain": [
       "(<anatomist.cpp.SliceableObject object at 0x7f8df01155f0>,\n",
       " <anatomist.cpp.weak_shared_ptr_AWindow object at 0x7f8df3400eb0>)"
      ]
     },
     "execution_count": 118,
     "metadata": {},
     "output_type": "execute_result"
    },
    {
     "data": {
      "image/png": "[encoded data removed]",
      "text/plain": [
       "<Figure size 432x288 with 1 Axes>"
      ]
     },
     "metadata": {
      "needs_background": "light"
     },
     "output_type": "display_data"
    }
   ],
   "source": [
    "visualize_all_image(vol_source_file)"
   ]
  }
 ],
 "metadata": {
  "kernelspec": {
   "display_name": "Python 2",
   "language": "python",
   "name": "python2"
  },
  "language_info": {
   "codemirror_mode": {
    "name": "ipython",
    "version": 2
   },
   "file_extension": ".py",
   "mimetype": "text/x-python",
   "name": "python",
   "nbconvert_exporter": "python",
   "pygments_lexer": "ipython2",
   "version": "2.7.17"
  }
 },
 "nbformat": 4,
 "nbformat_minor": 2
}
