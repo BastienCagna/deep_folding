{
 "cells": [
  {
   "cell_type": "markdown",
   "metadata": {},
   "source": [
    "# Creates transformation files"
   ]
  },
  {
   "cell_type": "markdown",
   "metadata": {},
   "source": [
    "This notebook creates the transformation files from raw MRI space to normalized SPM space"
   ]
  },
  {
   "cell_type": "markdown",
   "metadata": {},
   "source": [
    "# Imports"
   ]
  },
  {
   "cell_type": "code",
   "execution_count": 1,
   "metadata": {},
   "outputs": [],
   "source": [
    "import sys\n",
    "import os"
   ]
  },
  {
   "cell_type": "markdown",
   "metadata": {},
   "source": [
    "The following line permits to import deep_folding even if this notebook is executed from the notebooks subfolder:\n",
    "\n",
    " /notebooks/use_transform.ipynb  \n",
    " /deep_folding/__init__.py"
   ]
  },
  {
   "cell_type": "code",
   "execution_count": 2,
   "metadata": {},
   "outputs": [
    {
     "name": "stdout",
     "output_type": "stream",
     "text": [
      "/home/jc225751/Program/deep_folding/deep_folding\n"
     ]
    }
   ],
   "source": [
    "sys.path.append((os.path.abspath('../')))\n",
    "import deep_folding\n",
    "print(os.path.dirname(deep_folding.__file__))"
   ]
  },
  {
   "cell_type": "markdown",
   "metadata": {},
   "source": [
    "# User-specific variables"
   ]
  },
  {
   "cell_type": "markdown",
   "metadata": {},
   "source": [
    "We now assign path names and other user-specific variables."
   ]
  },
  {
   "cell_type": "markdown",
   "metadata": {},
   "source": [
    "The source directory is where the database lies. It contains the morphologist analysis subfolder ANALYSIS/3T_morphologist\n"
   ]
  },
  {
   "cell_type": "code",
   "execution_count": 3,
   "metadata": {},
   "outputs": [],
   "source": [
    "src_dir = \"/neurospin/hcp\""
   ]
  },
  {
   "cell_type": "markdown",
   "metadata": {},
   "source": [
    "The target directory tgt_dir is where the files will be saved"
   ]
  },
  {
   "cell_type": "code",
   "execution_count": 4,
   "metadata": {},
   "outputs": [],
   "source": [
    "tgt_dir = \"/neurospin/dico/deep_folding_data/data/transfo_to_spm\""
   ]
  },
  {
   "cell_type": "code",
   "execution_count": 5,
   "metadata": {},
   "outputs": [
    {
     "name": "stdout",
     "output_type": "stream",
     "text": [
      "['/usr/local/lib/python2.7/dist-packages/ipykernel_launcher.py', '-f', '/casa/home/.local/share/jupyter/runtime/kernel-b85443b4-709f-416f-a99d-8897baeac2eb.json']\n"
     ]
    }
   ],
   "source": [
    "print(sys.argv)"
   ]
  },
  {
   "cell_type": "markdown",
   "metadata": {},
   "source": [
    "# Illustration of main program uses"
   ]
  },
  {
   "cell_type": "markdown",
   "metadata": {},
   "source": [
    "We will first use the program with no effect by using number of subjects set to 0, or by calling the help function"
   ]
  },
  {
   "cell_type": "markdown",
   "metadata": {},
   "source": [
    "### Using external calls"
   ]
  },
  {
   "cell_type": "code",
   "execution_count": 6,
   "metadata": {},
   "outputs": [],
   "source": [
    "!python ../deep_folding/anatomist_tools/transform.py -n 0"
   ]
  },
  {
   "cell_type": "code",
   "execution_count": 7,
   "metadata": {},
   "outputs": [
    {
     "name": "stdout",
     "output_type": "stream",
     "text": [
      "usage: transform.py [-h] [-s SRC_DIR] [-t TGT_DIR] [-n NB_SUBJECTS]\r\n",
      "\r\n",
      "Generate transformation files\r\n",
      "\r\n",
      "optional arguments:\r\n",
      "  -h, --help            show this help message and exit\r\n",
      "  -s SRC_DIR, --src_dir SRC_DIR\r\n",
      "                        Source directory where the MRI data lies. Default is :\r\n",
      "                        /neurospin/hcp\r\n",
      "  -t TGT_DIR, --tgt_dir TGT_DIR\r\n",
      "                        Target directory where to store the output\r\n",
      "                        transformation files. Default is :\r\n",
      "                        /neurospin/dico/deep_folding_data/data/transfo_to_spm\r\n",
      "  -n NB_SUBJECTS, --nb_subjects NB_SUBJECTS\r\n",
      "                        Number of subjects to take into account, or 'all'.0\r\n",
      "                        subject is allowed, for debug purpose.Default is : all\r\n"
     ]
    }
   ],
   "source": [
    "!python ../deep_folding/anatomist_tools/transform.py --help"
   ]
  },
  {
   "cell_type": "markdown",
   "metadata": {},
   "source": [
    "### By using the main function call"
   ]
  },
  {
   "cell_type": "code",
   "execution_count": 8,
   "metadata": {},
   "outputs": [
    {
     "name": "stdout",
     "output_type": "stream",
     "text": [
      "/home/jc225751/Program/deep_folding/deep_folding/anatomist_tools/transform.pyc\n"
     ]
    }
   ],
   "source": [
    "from deep_folding.anatomist_tools import transform\n",
    "print(transform.__file__)"
   ]
  },
  {
   "cell_type": "code",
   "execution_count": 9,
   "metadata": {},
   "outputs": [],
   "source": [
    "args = \"-n 0\"\n",
    "argv = args.split(' ')"
   ]
  },
  {
   "cell_type": "code",
   "execution_count": 10,
   "metadata": {},
   "outputs": [],
   "source": [
    "transform.main(argv)"
   ]
  },
  {
   "cell_type": "code",
   "execution_count": 11,
   "metadata": {},
   "outputs": [],
   "source": [
    "args = \"--help\"\n",
    "argv = args.split(' ')"
   ]
  },
  {
   "cell_type": "code",
   "execution_count": 12,
   "metadata": {},
   "outputs": [
    {
     "name": "stdout",
     "output_type": "stream",
     "text": [
      "usage: transform.py [-h] [-s SRC_DIR] [-t TGT_DIR] [-n NB_SUBJECTS]\n",
      "\n",
      "Generate transformation files\n",
      "\n",
      "optional arguments:\n",
      "  -h, --help            show this help message and exit\n",
      "  -s SRC_DIR, --src_dir SRC_DIR\n",
      "                        Source directory where the MRI data lies. Default is :\n",
      "                        /neurospin/hcp\n",
      "  -t TGT_DIR, --tgt_dir TGT_DIR\n",
      "                        Target directory where to store the output\n",
      "                        transformation files. Default is :\n",
      "                        /neurospin/dico/deep_folding_data/data/transfo_to_spm\n",
      "  -n NB_SUBJECTS, --nb_subjects NB_SUBJECTS\n",
      "                        Number of subjects to take into account, or 'all'.0\n",
      "                        subject is allowed, for debug purpose.Default is : all\n"
     ]
    }
   ],
   "source": [
    "transform.main(argv)"
   ]
  },
  {
   "cell_type": "markdown",
   "metadata": {},
   "source": [
    "### By using the API function call"
   ]
  },
  {
   "cell_type": "code",
   "execution_count": 13,
   "metadata": {},
   "outputs": [],
   "source": [
    "transform.transform_to_spm(src_dir=\"/neurospin/hcp\", \n",
    "                       tgt_dir=\"/neurospin/dico/deep_folding_data/data/transfo_to_spm\", \n",
    "                       number_subjects=0)"
   ]
  },
  {
   "cell_type": "markdown",
   "metadata": {},
   "source": [
    "# Test example"
   ]
  },
  {
   "cell_type": "code",
   "execution_count": 14,
   "metadata": {},
   "outputs": [
    {
     "name": "stdout",
     "output_type": "stream",
     "text": [
      "src_dir = /home/jc225751/Program/deep_folding/data/src\n"
     ]
    }
   ],
   "source": [
    "src_dir = os.path.join(os.getcwd(), '../data/src')\n",
    "src_dir = os.path.abspath(src_dir)\n",
    "print(\"src_dir = \" + src_dir)"
   ]
  },
  {
   "cell_type": "code",
   "execution_count": 15,
   "metadata": {},
   "outputs": [
    {
     "name": "stdout",
     "output_type": "stream",
     "text": [
      "ref_dir = /home/jc225751/Program/deep_folding/data/ref\n"
     ]
    }
   ],
   "source": [
    "ref_dir = os.path.join(os.getcwd(), '../data/ref')\n",
    "ref_dir = os.path.abspath(ref_dir)\n",
    "print(\"ref_dir = \" + ref_dir)"
   ]
  },
  {
   "cell_type": "code",
   "execution_count": 16,
   "metadata": {},
   "outputs": [
    {
     "name": "stdout",
     "output_type": "stream",
     "text": [
      "tgt_dir = /home/jc225751/Program/deep_folding/data/tgt\n"
     ]
    }
   ],
   "source": [
    "tgt_dir = os.path.join(os.getcwd(), '../data/tgt')\n",
    "tgt_dir = os.path.abspath(tgt_dir)\n",
    "print(\"tgt_dir = \" + tgt_dir)"
   ]
  },
  {
   "cell_type": "code",
   "execution_count": 17,
   "metadata": {},
   "outputs": [
    {
     "name": "stdout",
     "output_type": "stream",
     "text": [
      "subject : 100206\n"
     ]
    }
   ],
   "source": [
    "transform.transform_to_spm(src_dir=src_dir, tgt_dir=tgt_dir,\n",
    "                           number_subjects=transform._ALL_SUBJECTS)"
   ]
  },
  {
   "cell_type": "markdown",
   "metadata": {},
   "source": [
    "# Result analysis"
   ]
  },
  {
   "cell_type": "markdown",
   "metadata": {},
   "source": [
    "Prints the list of files of the target directory"
   ]
  },
  {
   "cell_type": "code",
   "execution_count": 18,
   "metadata": {},
   "outputs": [
    {
     "name": "stdout",
     "output_type": "stream",
     "text": [
      "natif_to_template_spm_100206.trm\n",
      "README\n",
      "natif_to_template_spm_100206.trm.minf\n"
     ]
    }
   ],
   "source": [
    "print('\\n'.join(os.listdir(tgt_dir)))"
   ]
  },
  {
   "cell_type": "markdown",
   "metadata": {},
   "source": [
    "Expected output (we read the transformation file from the reference directory):"
   ]
  },
  {
   "cell_type": "code",
   "execution_count": 19,
   "metadata": {},
   "outputs": [
    {
     "name": "stdout",
     "output_type": "stream",
     "text": [
      "ref_file =  natif_to_template_spm_100206.trm \n",
      "\n",
      "-13.1929 -21.2656 -37.106\n",
      "1.00813 0.0129191 -0.00528674\n",
      "-0.0388392 0.990428 0.0860075\n",
      "0.0256343 -0.0322377 1.10661\n",
      "\n"
     ]
    }
   ],
   "source": [
    "ref_file = os.listdir(ref_dir)[0]\n",
    "print \"ref_file = \", ref_file, '\\n'\n",
    "with open(os.path.join(ref_dir,ref_file), 'r') as f:\n",
    "    print(f.read())"
   ]
  },
  {
   "cell_type": "markdown",
   "metadata": {},
   "source": [
    "Obtained output (we read the transformation file from the target directory):"
   ]
  },
  {
   "cell_type": "code",
   "execution_count": 20,
   "metadata": {},
   "outputs": [
    {
     "name": "stdout",
     "output_type": "stream",
     "text": [
      "tgt_file =  natif_to_template_spm_100206.trm \n",
      "\n",
      "-13.1929 -21.2656 -37.106\n",
      "1.00813 0.0129191 -0.00528674\n",
      "-0.0388392 0.990428 0.0860075\n",
      "0.0256343 -0.0322377 1.10661\n",
      "\n"
     ]
    }
   ],
   "source": [
    "tgt_file = os.listdir(tgt_dir)[0]\n",
    "print\"tgt_file = \", tgt_file, '\\n'\n",
    "with open(os.path.join(tgt_dir,tgt_file), 'r') as f:\n",
    "    print(f.read())"
   ]
  },
  {
   "cell_type": "markdown",
   "metadata": {},
   "source": [
    "Generated README (we read the generated README from the target directory)"
   ]
  },
  {
   "cell_type": "code",
   "execution_count": 21,
   "metadata": {},
   "outputs": [
    {
     "name": "stdout",
     "output_type": "stream",
     "text": [
      "Current time YYYY-MM-DD = 2021-04-08 -- 15:28:02\n",
      "To recover the source code used, do:\n",
      "git checkout 82f361052ecee5c8760b47e7b36967e230dc777f\n",
      "\n",
      "repo working dir: /home/jc225751/Program/deep_folding\n",
      "\n",
      "Internal paramaters:\n",
      "{\n",
      "    \"nb_subjects\": 1\n",
      "}\n",
      "\n",
      "Variables internal to TransformToSPM class:\n",
      "{\n",
      "    \"natif_to_spm_file\": \"natif_to_template_spm_%(subject)s.trm\", \n",
      "    \"to_talairach_file\": \"registration/RawT1-%(subject)s_default_acquisition_TO_Talairach-MNI.trm\", \n",
      "    \"tgt_dir\": \"/home/jc225751/Program/deep_folding/data/tgt\", \n",
      "    \"acquisition_dir\": \"%(subject)s/t1mri/default_acquisition\", \n",
      "    \"src_dir\": \"/home/jc225751/Program/deep_folding/data/src\", \n",
      "    \"normalized_spm_file\": \"normalized_SPM_%(subject)s.nii\", \n",
      "    \"morphologist_dir\": \"/home/jc225751/Program/deep_folding/data/src/ANALYSIS/3T_morphologist\"\n",
      "}\n"
     ]
    }
   ],
   "source": [
    "with open(os.path.join(tgt_dir,\"README\"), 'r') as f:\n",
    "    print(f.read())"
   ]
  },
  {
   "cell_type": "code",
   "execution_count": null,
   "metadata": {},
   "outputs": [],
   "source": []
  }
 ],
 "metadata": {
  "kernelspec": {
   "display_name": "Python 2",
   "language": "python",
   "name": "python2"
  },
  "language_info": {
   "codemirror_mode": {
    "name": "ipython",
    "version": 2
   },
   "file_extension": ".py",
   "mimetype": "text/x-python",
   "name": "python",
   "nbconvert_exporter": "python",
   "pygments_lexer": "ipython2",
   "version": "2.7.17"
  }
 },
 "nbformat": 4,
 "nbformat_minor": 2
}
