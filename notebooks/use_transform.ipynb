{
 "cells": [
  {
   "cell_type": "markdown",
   "metadata": {},
   "source": [
    "# Creates transformation files"
   ]
  },
  {
   "cell_type": "markdown",
   "metadata": {},
   "source": [
    "This notebook creates the transformation files from raw MRI space to normalized SPM space"
   ]
  },
  {
   "cell_type": "markdown",
   "metadata": {},
   "source": [
    "# Imports"
   ]
  },
  {
   "cell_type": "code",
   "execution_count": 1,
   "metadata": {},
   "outputs": [],
   "source": [
    "import sys\n",
    "import os"
   ]
  },
  {
   "cell_type": "markdown",
   "metadata": {},
   "source": [
    "The following line permits to import deep_folding even if this notebook is executed from the notebooks subfolder:\n",
    "\n",
    " /notebooks/use_transform.ipynb  \n",
    " /deep_folding/__init__.py"
   ]
  },
  {
   "cell_type": "code",
   "execution_count": 2,
   "metadata": {},
   "outputs": [
    {
     "name": "stdout",
     "output_type": "stream",
     "text": [
      "/home/jc225751/Program/deep_folding/deep_folding\n"
     ]
    }
   ],
   "source": [
    "sys.path.append((os.path.abspath('../')))\n",
    "import deep_folding\n",
    "print(os.path.dirname(deep_folding.__file__))"
   ]
  },
  {
   "cell_type": "markdown",
   "metadata": {},
   "source": [
    "# User-specific variables"
   ]
  },
  {
   "cell_type": "markdown",
   "metadata": {},
   "source": [
    "We now assign path names and other user-specific variables."
   ]
  },
  {
   "cell_type": "markdown",
   "metadata": {},
   "source": [
    "The source directory is where the database lies. It contains the morphologist analysis subfolder ANALYSIS/3T_morphologist\n"
   ]
  },
  {
   "cell_type": "code",
   "execution_count": 3,
   "metadata": {},
   "outputs": [],
   "source": [
    "src_dir = \"/neurospin/hcp\""
   ]
  },
  {
   "cell_type": "markdown",
   "metadata": {},
   "source": [
    "The target directory tgt_dir is where the files will be saved"
   ]
  },
  {
   "cell_type": "code",
   "execution_count": 4,
   "metadata": {},
   "outputs": [],
   "source": [
    "tgt_dir = \"/neurospin/dico/deep_folding_data/data/transfo_to_spm\""
   ]
  },
  {
   "cell_type": "code",
   "execution_count": 5,
   "metadata": {},
   "outputs": [
    {
     "name": "stdout",
     "output_type": "stream",
     "text": [
      "['/usr/local/lib/python2.7/dist-packages/ipykernel_launcher.py', '-f', '/casa/home/.local/share/jupyter/runtime/kernel-ae942eb0-b2df-4198-92dc-e74b429e21bd.json']\n"
     ]
    }
   ],
   "source": [
    "print(sys.argv)"
   ]
  },
  {
   "cell_type": "markdown",
   "metadata": {},
   "source": [
    "# Illustration of main program uses"
   ]
  },
  {
   "cell_type": "markdown",
   "metadata": {},
   "source": [
    "We will first use the program with no effect by using number of subjects set to 0, or by calling the help function"
   ]
  },
  {
   "cell_type": "markdown",
   "metadata": {},
   "source": [
    "## Using external calls"
   ]
  },
  {
   "cell_type": "code",
   "execution_count": 6,
   "metadata": {},
   "outputs": [],
   "source": [
    "!python ../deep_folding/anatomist_tools/transform.py -n 0"
   ]
  },
  {
   "cell_type": "code",
   "execution_count": 7,
   "metadata": {},
   "outputs": [
    {
     "name": "stdout",
     "output_type": "stream",
     "text": [
      "usage: transform.py [-h] [-s SRC_DIR] [-t TGT_DIR] [-n NB_SUBJECTS]\r\n",
      "\r\n",
      "Generate transformation files\r\n",
      "\r\n",
      "optional arguments:\r\n",
      "  -h, --help            show this help message and exit\r\n",
      "  -s SRC_DIR, --src_dir SRC_DIR\r\n",
      "                        Source directory where the MRI data lies. Default is :\r\n",
      "                        /neurospin/hcp\r\n",
      "  -t TGT_DIR, --tgt_dir TGT_DIR\r\n",
      "                        Target directory where to store the output\r\n",
      "                        transformation files. Default is :\r\n",
      "                        /neurospin/dico/deep_folding_data/data/transfo_to_spm\r\n",
      "  -n NB_SUBJECTS, --nb_subjects NB_SUBJECTS\r\n",
      "                        Number of subjects to take into account, or 'all'.0\r\n",
      "                        subject is allowed, for debug purpose.Default is : all\r\n"
     ]
    }
   ],
   "source": [
    "!python ../deep_folding/anatomist_tools/transform.py --help"
   ]
  },
  {
   "cell_type": "markdown",
   "metadata": {},
   "source": [
    "## By using the main function call"
   ]
  },
  {
   "cell_type": "code",
   "execution_count": 8,
   "metadata": {},
   "outputs": [
    {
     "name": "stdout",
     "output_type": "stream",
     "text": [
      "/home/jc225751/Program/deep_folding/deep_folding/anatomist_tools/transform.py\n"
     ]
    }
   ],
   "source": [
    "from deep_folding.anatomist_tools import transform\n",
    "print(transform.__file__)"
   ]
  },
  {
   "cell_type": "code",
   "execution_count": 9,
   "metadata": {},
   "outputs": [],
   "source": [
    "args = \"-n 0\"\n",
    "argv = args.split(' ')"
   ]
  },
  {
   "cell_type": "code",
   "execution_count": 10,
   "metadata": {},
   "outputs": [],
   "source": [
    "transform.main(argv)"
   ]
  },
  {
   "cell_type": "code",
   "execution_count": 11,
   "metadata": {},
   "outputs": [],
   "source": [
    "args = \"--help\"\n",
    "argv = args.split(' ')"
   ]
  },
  {
   "cell_type": "code",
   "execution_count": 12,
   "metadata": {},
   "outputs": [
    {
     "name": "stdout",
     "output_type": "stream",
     "text": [
      "usage: transform.py [-h] [-s SRC_DIR] [-t TGT_DIR] [-n NB_SUBJECTS]\n",
      "\n",
      "Generate transformation files\n",
      "\n",
      "optional arguments:\n",
      "  -h, --help            show this help message and exit\n",
      "  -s SRC_DIR, --src_dir SRC_DIR\n",
      "                        Source directory where the MRI data lies. Default is :\n",
      "                        /neurospin/hcp\n",
      "  -t TGT_DIR, --tgt_dir TGT_DIR\n",
      "                        Target directory where to store the output\n",
      "                        transformation files. Default is :\n",
      "                        /neurospin/dico/deep_folding_data/data/transfo_to_spm\n",
      "  -n NB_SUBJECTS, --nb_subjects NB_SUBJECTS\n",
      "                        Number of subjects to take into account, or 'all'.0\n",
      "                        subject is allowed, for debug purpose.Default is : all\n"
     ]
    }
   ],
   "source": [
    "transform.main(argv)"
   ]
  },
  {
   "cell_type": "markdown",
   "metadata": {},
   "source": [
    "## By using the API function call"
   ]
  },
  {
   "cell_type": "code",
   "execution_count": 13,
   "metadata": {},
   "outputs": [],
   "source": [
    "transform.transform_to_spm(src_dir=\"/neurospin/hcp\", \n",
    "                       tgt_dir=\"/neurospin/dico/deep_folding_data/data/transfo_to_spm\", \n",
    "                       number_subjects=0)"
   ]
  },
  {
   "cell_type": "code",
   "execution_count": null,
   "metadata": {},
   "outputs": [],
   "source": []
  }
 ],
 "metadata": {
  "kernelspec": {
   "display_name": "Python 2",
   "language": "python",
   "name": "python2"
  },
  "language_info": {
   "codemirror_mode": {
    "name": "ipython",
    "version": 2
   },
   "file_extension": ".py",
   "mimetype": "text/x-python",
   "name": "python",
   "nbconvert_exporter": "python",
   "pygments_lexer": "ipython2",
   "version": "2.7.17"
  }
 },
 "nbformat": 4,
 "nbformat_minor": 2
}
