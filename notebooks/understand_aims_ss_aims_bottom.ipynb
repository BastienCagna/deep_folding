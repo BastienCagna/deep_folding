{
 "cells": [
  {
   "cell_type": "markdown",
   "metadata": {},
   "source": [
    "# Understands aims_ss, aims_bottom and aims_other from .arg graph"
   ]
  },
  {
   "cell_type": "code",
   "execution_count": 4,
   "metadata": {},
   "outputs": [
    {
     "name": "stdout",
     "output_type": "stream",
     "text": [
      "3.6.9 (default, Jan 26 2021, 15:33:00) \n",
      "[GCC 8.4.0]\n"
     ]
    }
   ],
   "source": [
    "import sys\n",
    "import os\n",
    "import json\n",
    "from os.path import join\n",
    "import numpy as np\n",
    "import pandas as pd\n",
    "\n",
    "# Import the aims module\n",
    "from soma import aims\n",
    "# the brainplot package\n",
    "import colorado as cld\n",
    "\n",
    "print(sys.version)\n"
   ]
  },
  {
   "cell_type": "code",
   "execution_count": 5,
   "metadata": {},
   "outputs": [
    {
     "name": "stdout",
     "output_type": "stream",
     "text": [
      "/home/jc225751/Program/deep_folding/deep_folding\n"
     ]
    }
   ],
   "source": [
    "sys.path.append((os.path.abspath('../')))\n",
    "import deep_folding\n",
    "print(os.path.dirname(deep_folding.__file__))"
   ]
  },
  {
   "cell_type": "markdown",
   "metadata": {},
   "source": [
    "# User variables"
   ]
  },
  {
   "cell_type": "code",
   "execution_count": 6,
   "metadata": {},
   "outputs": [
    {
     "name": "stdout",
     "output_type": "stream",
     "text": [
      "src_dir = /home/jc225751/Program/deep_folding/data/source/unsupervised/ANALYSIS/3T_morphologist/100206/t1mri/default_acquisition/default_analysis\n"
     ]
    }
   ],
   "source": [
    "src_dir = join(os.getcwd(), \n",
    "                       '../data/source/unsupervised',\n",
    "                       'ANALYSIS/3T_morphologist/100206/t1mri',\n",
    "                       'default_acquisition/default_analysis')\n",
    "src_dir = os.path.abspath(src_dir)\n",
    "print(\"src_dir = \" + src_dir)"
   ]
  },
  {
   "cell_type": "code",
   "execution_count": 7,
   "metadata": {},
   "outputs": [],
   "source": [
    "graph = aims.read(join(src_dir, 'folds/3.1/default_session_auto', 'L100206_default_session_auto.arg'))\n",
    "skeleton = aims.read(join(src_dir, 'segmentation', 'Lskeleton_100206.nii.gz'))"
   ]
  },
  {
   "cell_type": "code",
   "execution_count": 9,
   "metadata": {},
   "outputs": [
    {
     "name": "stdout",
     "output_type": "stream",
     "text": [
      "Topology values corresponding to\n",
      "aims_bottom :  {'[30]': 8857}\n",
      "aims_ss :  {'[60]': 76037}\n",
      "aims_other :  {'[80]': 1727, '[30]': 639, '[60]': 1066, '[40]': 80, '[10]': 7}\n",
      "vertices with aims surface type undefined :  1\n",
      "vertices with several aims surface types defined :  {0: 1, 1: 0, 2: 0, 3: 407}\n",
      "\n",
      "number of vertices 408\n",
      "number of voxels 88406\n"
     ]
    }
   ],
   "source": [
    "dict_bottom = {}\n",
    "dict_ss = {}\n",
    "dict_other = {}\n",
    "none_number = 0\n",
    "multiple_number = {0: 0, 1: 0, 2: 0, 3: 0}\n",
    "number_vertices = 0\n",
    "number_voxels = 0\n",
    "\n",
    "def add_value_to_dict(vertex, bucket_name, dictionary):\n",
    "    global number_voxels\n",
    "    bucket = vertex.get(bucket_name)\n",
    "    if bucket is not None:\n",
    "        for voxel in bucket[0].keys():\n",
    "            value = skeleton[voxel[0], voxel[1], voxel[2]]\n",
    "            str_value = str(value)\n",
    "            if str_value not in dictionary.keys():\n",
    "                dictionary[str_value] = 1\n",
    "            dictionary[str_value] += 1\n",
    "            number_voxels += 1\n",
    "    return bucket\n",
    "\n",
    "def number_true(iterable):\n",
    "    it = iter(iterable)\n",
    "    trues = [bool(i) for i in it]\n",
    "    return trues.count(True)    \n",
    "    \n",
    "for vertex in graph.vertices():\n",
    "    vname = vertex.get('name')\n",
    " #   for bucket_name in ('aims_ss', 'aims_bottom', 'aims_other'):\n",
    "    bck_present = []\n",
    "    bck_present.append(add_value_to_dict(vertex, 'aims_bottom', dict_bottom))\n",
    "    bck_present.append(add_value_to_dict(vertex, 'aims_ss', dict_ss))\n",
    "    bck_present.append(add_value_to_dict(vertex, 'aims_other', dict_other))\n",
    "    if number_true(bck_present) == 0:\n",
    "        none_number += 1\n",
    "    \n",
    "    multiple_number[number_true(bck_present)] += 1\n",
    "    \n",
    "    number_vertices +=  1\n",
    "\n",
    "print('Topology values corresponding to')\n",
    "print('aims_bottom : ', dict_bottom)\n",
    "print('aims_ss : ', dict_ss)\n",
    "print('aims_other : ', dict_other)\n",
    "print(\"vertices with aims surface type undefined : \", none_number)\n",
    "print(\"vertices with several aims surface types defined : \", multiple_number)\n",
    "print('')\n",
    "print(\"number of vertices\", number_vertices)\n",
    "print(\"number of voxels\", number_voxels)"
   ]
  },
  {
   "cell_type": "code",
   "execution_count": 10,
   "metadata": {},
   "outputs": [
    {
     "data": {
      "text/plain": [
       "array([ 0, 10, 11, 30, 40, 60, 80], dtype=int16)"
      ]
     },
     "execution_count": 10,
     "metadata": {},
     "output_type": "execute_result"
    }
   ],
   "source": [
    "arr_skel = skeleton.arraydata()\n",
    "np.unique(arr_skel)"
   ]
  },
  {
   "cell_type": "code",
   "execution_count": 11,
   "metadata": {},
   "outputs": [
    {
     "data": {
      "text/plain": [
       "11    18832738\n",
       "0      2012736\n",
       "60      163069\n",
       "30        9634\n",
       "80        5330\n",
       "40          87\n",
       "10           6\n",
       "dtype: int64"
      ]
     },
     "execution_count": 11,
     "metadata": {},
     "output_type": "execute_result"
    }
   ],
   "source": [
    "pd.value_counts(np.resize(arr_skel, arr_skel.size))"
   ]
  },
  {
   "cell_type": "code",
   "execution_count": 12,
   "metadata": {},
   "outputs": [
    {
     "data": {
      "text/plain": [
       "178126"
      ]
     },
     "execution_count": 12,
     "metadata": {},
     "output_type": "execute_result"
    }
   ],
   "source": [
    "np.count_nonzero(arr_skel > 11) + np.count_nonzero(arr_skel == 10)"
   ]
  },
  {
   "cell_type": "code",
   "execution_count": 14,
   "metadata": {},
   "outputs": [
    {
     "name": "stdout",
     "output_type": "stream",
     "text": [
      "[0.699999988079071, 0.7000120282173157, 0.7000120282173157]\n"
     ]
    }
   ],
   "source": [
    "voxel_size = graph['voxel_size'][:3]\n",
    "print(voxel_size)"
   ]
  },
  {
   "cell_type": "code",
   "execution_count": 16,
   "metadata": {},
   "outputs": [
    {
     "name": "stdout",
     "output_type": "stream",
     "text": [
      "[0.700012, 0.700012, 0.700012, 1]\n"
     ]
    }
   ],
   "source": [
    "print(skeleton.getVoxelSize())"
   ]
  },
  {
   "cell_type": "code",
   "execution_count": 23,
   "metadata": {},
   "outputs": [
    {
     "name": "stdout",
     "output_type": "stream",
     "text": [
      "<soma.aims.Volume_S16 object at 0x7ff9999b6a68>\n",
      "(1, 260, 311, 260)\n"
     ]
    }
   ],
   "source": [
    "print(skeleton)\n",
    "print(skeleton.shape)"
   ]
  },
  {
   "cell_type": "code",
   "execution_count": 24,
   "metadata": {},
   "outputs": [
    {
     "name": "stdout",
     "output_type": "stream",
     "text": [
      "11\n",
      "11\n"
     ]
    }
   ],
   "source": [
    "print(skeleton[0,1,1,1])\n",
    "print(arr_skel[0,1,1,1])"
   ]
  },
  {
   "cell_type": "code",
   "execution_count": 25,
   "metadata": {},
   "outputs": [
    {
     "name": "stdout",
     "output_type": "stream",
     "text": [
      "(1, 260, 311, 260)\n"
     ]
    }
   ],
   "source": [
    "print(arr_skel.shape)"
   ]
  },
  {
   "cell_type": "code",
   "execution_count": 27,
   "metadata": {},
   "outputs": [
    {
     "name": "stdout",
     "output_type": "stream",
     "text": [
      "[260, 311, 260, 1]\n"
     ]
    }
   ],
   "source": [
    "print(skeleton.getSize())"
   ]
  },
  {
   "cell_type": "code",
   "execution_count": null,
   "metadata": {},
   "outputs": [],
   "source": []
  }
 ],
 "metadata": {
  "kernelspec": {
   "display_name": "venv",
   "language": "python",
   "name": "venv"
  },
  "language_info": {
   "codemirror_mode": {
    "name": "ipython",
    "version": 3
   },
   "file_extension": ".py",
   "mimetype": "text/x-python",
   "name": "python",
   "nbconvert_exporter": "python",
   "pygments_lexer": "ipython3",
   "version": "3.6.9"
  }
 },
 "nbformat": 4,
 "nbformat_minor": 2
}
